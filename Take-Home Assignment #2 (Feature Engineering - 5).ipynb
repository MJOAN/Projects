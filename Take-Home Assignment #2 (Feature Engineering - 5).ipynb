{
 "cells": [
  {
   "cell_type": "markdown",
   "metadata": {},
   "source": [
    "### Task #2: Sequel Success Prediction\n",
    "> 1. Given the franchises discovered from task #1, suppose someone wants to predict the success of a sequel that is to be launched, and she/he will partner with you for the task. The ask here is not to develop a prediction model, rather, you need to develop data analysis notebooks for the following subtasks:\n",
    "> 2. Create ground truth for training dataset, similar to the following output: movieId, franchiseId, 0 or 1\n",
    "> 3. 0 means “not successful”, “1” means successful.\n",
    "> 4. You need to provide a clear and reasonable definition of “success”.\n",
    "> 5. Come up with features that can be predictive of sequel success, for each feature, demonstrate why it is predictive or not.\n",
    "> 6. Create training dataset that consists of feature vector and ground truth. No need to do train-test split.\n",
    "> 7. Note: if you choose to skip task #1, you can use “belong_to_collection” column as input to task #2."
   ]
  },
  {
   "cell_type": "markdown",
   "metadata": {},
   "source": [
    "### Notes\n",
    "\n",
    "1. filter dataset to retrive prequel and sequels within same collection\n",
    "2. sequel success definition:\n",
    "     * sequel revenue > prequel revenue \n",
    "     * sequel metrics mean > prequel metrics mean \n",
    "         * metrics: (rating, popularity, vote_average) \n",
    "     * success indicator based on sequels that meet criteria of 1 and 2 with a release date diff of < 2 years"
   ]
  },
  {
   "cell_type": "code",
   "execution_count": 45,
   "metadata": {},
   "outputs": [
    {
     "data": {
      "text/html": [
       "<style>.container { width:100% !important; }</style>"
      ],
      "text/plain": [
       "<IPython.core.display.HTML object>"
      ]
     },
     "metadata": {},
     "output_type": "display_data"
    }
   ],
   "source": [
    "from IPython.display import display, HTML\n",
    "from IPython.core.interactiveshell import InteractiveShell\n",
    "InteractiveShell.ast_node_interactivity = \"all\"\n",
    "display(HTML(\"<style>.container { width:100% !important; }</style>\"))\n",
    "\n",
    "import json\n",
    "import ast\n",
    "\n",
    "import datetime\n",
    "from dateutil.relativedelta import relativedelta\n",
    "\n",
    "import pandas as pd\n",
    "pd.set_option('mode.chained_assignment', None)\n",
    "import seaborn as sns\n",
    "import numpy as np\n",
    "\n",
    "import matplotlib\n",
    "import matplotlib.pyplot as plt\n",
    "%matplotlib inline\n",
    "import scipy as sp"
   ]
  },
  {
   "cell_type": "code",
   "execution_count": 46,
   "metadata": {},
   "outputs": [],
   "source": [
    "master = pd.read_csv('franchises.csv', engine='python', encoding='utf8', parse_dates=['release_date'])"
   ]
  },
  {
   "cell_type": "code",
   "execution_count": 47,
   "metadata": {},
   "outputs": [],
   "source": [
    "franchises = master.copy()"
   ]
  },
  {
   "cell_type": "code",
   "execution_count": 48,
   "metadata": {},
   "outputs": [],
   "source": [
    "franchises = franchises.drop(columns=['Unnamed: 0'])"
   ]
  },
  {
   "cell_type": "code",
   "execution_count": 49,
   "metadata": {},
   "outputs": [],
   "source": [
    "franchises['release_date'] = pd.to_datetime(franchises['release_date'], errors='coerce').dt.strftime(\"%Y%m%d\")\n",
    "franchises['rating_timestamp'] = pd.to_datetime(franchises['rating_timestamp'], errors='coerce').dt.strftime(\"%Y%m%d\")"
   ]
  },
  {
   "cell_type": "code",
   "execution_count": 50,
   "metadata": {},
   "outputs": [
    {
     "data": {
      "text/plain": [
       "Index(['budget', 'id', 'imdb_id', 'original_language', 'title', 'popularity',\n",
       "       'release_date', 'revenue', 'runtime', 'vote_average', 'collection_id',\n",
       "       'collection_name', 'production companies', 'production_countries',\n",
       "       'genres', 'rating', 'rating_timestamp', 'key_agg'],\n",
       "      dtype='object')"
      ]
     },
     "execution_count": 50,
     "metadata": {},
     "output_type": "execute_result"
    }
   ],
   "source": [
    "franchises.columns  "
   ]
  },
  {
   "cell_type": "markdown",
   "metadata": {},
   "source": [
    "#### Filtering dataframe to include only prequel and sequel (w/ same collection id)"
   ]
  },
  {
   "cell_type": "code",
   "execution_count": 51,
   "metadata": {},
   "outputs": [],
   "source": [
    "franchises = franchises.sort_values('revenue', ascending=False).head(500)"
   ]
  },
  {
   "cell_type": "code",
   "execution_count": 52,
   "metadata": {},
   "outputs": [
    {
     "data": {
      "text/plain": [
       "(500, 18)"
      ]
     },
     "execution_count": 52,
     "metadata": {},
     "output_type": "execute_result"
    }
   ],
   "source": [
    "franchises.shape"
   ]
  },
  {
   "cell_type": "code",
   "execution_count": 53,
   "metadata": {},
   "outputs": [],
   "source": [
    "collection_id_sort = franchises.sort_values(by=['collection_id', 'release_date'], ascending=True)"
   ]
  },
  {
   "cell_type": "code",
   "execution_count": 54,
   "metadata": {},
   "outputs": [],
   "source": [
    "collection_id_sort['prev_title'] = collection_id_sort.title.shift(1)   # get previous row using shift because we grouped by id and sored date asc\n",
    "collection_id_sort['prev_collection_id'] = collection_id_sort.collection_id.shift(1)   # get previous title id  \n",
    "collection_id_sort['prev_collection_revenue'] = collection_id_sort.revenue.shift(1)   # get previous title revenue\n",
    "collection_id_sort['prev_collection_release_date'] = collection_id_sort.release_date.shift(1)   # get previous title revenue"
   ]
  },
  {
   "cell_type": "code",
   "execution_count": 55,
   "metadata": {},
   "outputs": [],
   "source": [
    "collection_id_sort['prev_collection_rating'] = collection_id_sort.rating.shift(1)   # get previous title revenue\n",
    "collection_id_sort['prev_collection_popularity'] = collection_id_sort.popularity.shift(1)   # get previous title revenue\n",
    "collection_id_sort['prev_collection_vote_average'] = collection_id_sort.vote_average.shift(1)   # get previous title revenue"
   ]
  },
  {
   "cell_type": "code",
   "execution_count": 56,
   "metadata": {},
   "outputs": [
    {
     "data": {
      "text/html": [
       "<div>\n",
       "<style scoped>\n",
       "    .dataframe tbody tr th:only-of-type {\n",
       "        vertical-align: middle;\n",
       "    }\n",
       "\n",
       "    .dataframe tbody tr th {\n",
       "        vertical-align: top;\n",
       "    }\n",
       "\n",
       "    .dataframe thead th {\n",
       "        text-align: right;\n",
       "    }\n",
       "</style>\n",
       "<table border=\"1\" class=\"dataframe\">\n",
       "  <thead>\n",
       "    <tr style=\"text-align: right;\">\n",
       "      <th></th>\n",
       "      <th>budget</th>\n",
       "      <th>id</th>\n",
       "      <th>imdb_id</th>\n",
       "      <th>original_language</th>\n",
       "      <th>title</th>\n",
       "      <th>popularity</th>\n",
       "      <th>release_date</th>\n",
       "      <th>revenue</th>\n",
       "      <th>runtime</th>\n",
       "      <th>vote_average</th>\n",
       "      <th>...</th>\n",
       "      <th>rating_timestamp</th>\n",
       "      <th>key_agg</th>\n",
       "      <th>prev_title</th>\n",
       "      <th>prev_collection_id</th>\n",
       "      <th>prev_collection_revenue</th>\n",
       "      <th>prev_collection_release_date</th>\n",
       "      <th>prev_collection_rating</th>\n",
       "      <th>prev_collection_popularity</th>\n",
       "      <th>prev_collection_vote_average</th>\n",
       "      <th>prequel_title</th>\n",
       "    </tr>\n",
       "  </thead>\n",
       "  <tbody>\n",
       "    <tr>\n",
       "      <td>27</td>\n",
       "      <td>11000000</td>\n",
       "      <td>11</td>\n",
       "      <td>tt0076759</td>\n",
       "      <td>en</td>\n",
       "      <td>Star Wars</td>\n",
       "      <td>42.149697</td>\n",
       "      <td>19770525</td>\n",
       "      <td>775398007</td>\n",
       "      <td>121.0</td>\n",
       "      <td>8.1</td>\n",
       "      <td>...</td>\n",
       "      <td>19960129</td>\n",
       "      <td>'android', 'galaxy', 'hermit', 'death star', '...</td>\n",
       "      <td>NaN</td>\n",
       "      <td>NaN</td>\n",
       "      <td>NaN</td>\n",
       "      <td>NaN</td>\n",
       "      <td>NaN</td>\n",
       "      <td>NaN</td>\n",
       "      <td>NaN</td>\n",
       "      <td>None</td>\n",
       "    </tr>\n",
       "  </tbody>\n",
       "</table>\n",
       "<p>1 rows × 26 columns</p>\n",
       "</div>"
      ],
      "text/plain": [
       "      budget  id    imdb_id original_language      title  popularity  \\\n",
       "27  11000000  11  tt0076759                en  Star Wars   42.149697   \n",
       "\n",
       "   release_date    revenue  runtime  vote_average  ...  rating_timestamp  \\\n",
       "27     19770525  775398007    121.0           8.1  ...          19960129   \n",
       "\n",
       "                                              key_agg prev_title  \\\n",
       "27  'android', 'galaxy', 'hermit', 'death star', '...        NaN   \n",
       "\n",
       "   prev_collection_id prev_collection_revenue  prev_collection_release_date  \\\n",
       "27                NaN                     NaN                           NaN   \n",
       "\n",
       "   prev_collection_rating prev_collection_popularity  \\\n",
       "27                    NaN                        NaN   \n",
       "\n",
       "   prev_collection_vote_average  prequel_title  \n",
       "27                          NaN           None  \n",
       "\n",
       "[1 rows x 26 columns]"
      ]
     },
     "execution_count": 56,
     "metadata": {},
     "output_type": "execute_result"
    }
   ],
   "source": [
    "collection_id_sort['prequel_title'] = collection_id_sort.apply(lambda x: x['prev_title'] if x['collection_id'] == x['prev_collection_id'] else None, axis=1)  # validating previous/sequel\n",
    "collection_id_sort.head(1) # if prequel title is None it's doesn't have a sequel (here we are validating with #id of collection/ franchise group)"
   ]
  },
  {
   "cell_type": "code",
   "execution_count": 57,
   "metadata": {},
   "outputs": [
    {
     "data": {
      "text/html": [
       "<div>\n",
       "<style scoped>\n",
       "    .dataframe tbody tr th:only-of-type {\n",
       "        vertical-align: middle;\n",
       "    }\n",
       "\n",
       "    .dataframe tbody tr th {\n",
       "        vertical-align: top;\n",
       "    }\n",
       "\n",
       "    .dataframe thead th {\n",
       "        text-align: right;\n",
       "    }\n",
       "</style>\n",
       "<table border=\"1\" class=\"dataframe\">\n",
       "  <thead>\n",
       "    <tr style=\"text-align: right;\">\n",
       "      <th></th>\n",
       "      <th>budget</th>\n",
       "      <th>id</th>\n",
       "      <th>imdb_id</th>\n",
       "      <th>original_language</th>\n",
       "      <th>title</th>\n",
       "      <th>popularity</th>\n",
       "      <th>release_date</th>\n",
       "      <th>revenue</th>\n",
       "      <th>runtime</th>\n",
       "      <th>vote_average</th>\n",
       "      <th>...</th>\n",
       "      <th>key_agg</th>\n",
       "      <th>prev_title</th>\n",
       "      <th>prev_collection_id</th>\n",
       "      <th>prev_collection_revenue</th>\n",
       "      <th>prev_collection_release_date</th>\n",
       "      <th>prev_collection_rating</th>\n",
       "      <th>prev_collection_popularity</th>\n",
       "      <th>prev_collection_vote_average</th>\n",
       "      <th>prequel_title</th>\n",
       "      <th>prequel_revenue</th>\n",
       "    </tr>\n",
       "  </thead>\n",
       "  <tbody>\n",
       "    <tr>\n",
       "      <td>27</td>\n",
       "      <td>11000000</td>\n",
       "      <td>11</td>\n",
       "      <td>tt0076759</td>\n",
       "      <td>en</td>\n",
       "      <td>Star Wars</td>\n",
       "      <td>42.149697</td>\n",
       "      <td>19770525</td>\n",
       "      <td>775398007</td>\n",
       "      <td>121.0</td>\n",
       "      <td>8.1</td>\n",
       "      <td>...</td>\n",
       "      <td>'android', 'galaxy', 'hermit', 'death star', '...</td>\n",
       "      <td>NaN</td>\n",
       "      <td>NaN</td>\n",
       "      <td>NaN</td>\n",
       "      <td>NaN</td>\n",
       "      <td>NaN</td>\n",
       "      <td>NaN</td>\n",
       "      <td>NaN</td>\n",
       "      <td>None</td>\n",
       "      <td>NaN</td>\n",
       "    </tr>\n",
       "  </tbody>\n",
       "</table>\n",
       "<p>1 rows × 27 columns</p>\n",
       "</div>"
      ],
      "text/plain": [
       "      budget  id    imdb_id original_language      title  popularity  \\\n",
       "27  11000000  11  tt0076759                en  Star Wars   42.149697   \n",
       "\n",
       "   release_date    revenue  runtime  vote_average  ...  \\\n",
       "27     19770525  775398007    121.0           8.1  ...   \n",
       "\n",
       "                                              key_agg prev_title  \\\n",
       "27  'android', 'galaxy', 'hermit', 'death star', '...        NaN   \n",
       "\n",
       "   prev_collection_id prev_collection_revenue prev_collection_release_date  \\\n",
       "27                NaN                     NaN                          NaN   \n",
       "\n",
       "    prev_collection_rating prev_collection_popularity  \\\n",
       "27                     NaN                        NaN   \n",
       "\n",
       "   prev_collection_vote_average prequel_title  prequel_revenue  \n",
       "27                          NaN          None              NaN  \n",
       "\n",
       "[1 rows x 27 columns]"
      ]
     },
     "execution_count": 57,
     "metadata": {},
     "output_type": "execute_result"
    }
   ],
   "source": [
    "collection_id_sort['prequel_revenue'] = collection_id_sort.apply(lambda x: x['prev_collection_revenue'] if x['collection_id'] == x['prev_collection_id'] else None, axis=1)  # validating previous/sequel\n",
    "collection_id_sort.head(1)"
   ]
  },
  {
   "cell_type": "code",
   "execution_count": 58,
   "metadata": {},
   "outputs": [
    {
     "data": {
      "text/html": [
       "<div>\n",
       "<style scoped>\n",
       "    .dataframe tbody tr th:only-of-type {\n",
       "        vertical-align: middle;\n",
       "    }\n",
       "\n",
       "    .dataframe tbody tr th {\n",
       "        vertical-align: top;\n",
       "    }\n",
       "\n",
       "    .dataframe thead th {\n",
       "        text-align: right;\n",
       "    }\n",
       "</style>\n",
       "<table border=\"1\" class=\"dataframe\">\n",
       "  <thead>\n",
       "    <tr style=\"text-align: right;\">\n",
       "      <th></th>\n",
       "      <th>budget</th>\n",
       "      <th>id</th>\n",
       "      <th>imdb_id</th>\n",
       "      <th>original_language</th>\n",
       "      <th>title</th>\n",
       "      <th>popularity</th>\n",
       "      <th>release_date</th>\n",
       "      <th>revenue</th>\n",
       "      <th>runtime</th>\n",
       "      <th>vote_average</th>\n",
       "      <th>...</th>\n",
       "      <th>prev_title</th>\n",
       "      <th>prev_collection_id</th>\n",
       "      <th>prev_collection_revenue</th>\n",
       "      <th>prev_collection_release_date</th>\n",
       "      <th>prev_collection_rating</th>\n",
       "      <th>prev_collection_popularity</th>\n",
       "      <th>prev_collection_vote_average</th>\n",
       "      <th>prequel_title</th>\n",
       "      <th>prequel_revenue</th>\n",
       "      <th>prequel_release_date</th>\n",
       "    </tr>\n",
       "  </thead>\n",
       "  <tbody>\n",
       "    <tr>\n",
       "      <td>27</td>\n",
       "      <td>11000000</td>\n",
       "      <td>11</td>\n",
       "      <td>tt0076759</td>\n",
       "      <td>en</td>\n",
       "      <td>Star Wars</td>\n",
       "      <td>42.149697</td>\n",
       "      <td>19770525</td>\n",
       "      <td>775398007</td>\n",
       "      <td>121.0</td>\n",
       "      <td>8.1</td>\n",
       "      <td>...</td>\n",
       "      <td>NaN</td>\n",
       "      <td>NaN</td>\n",
       "      <td>NaN</td>\n",
       "      <td>NaN</td>\n",
       "      <td>NaN</td>\n",
       "      <td>NaN</td>\n",
       "      <td>NaN</td>\n",
       "      <td>NaN</td>\n",
       "      <td>NaN</td>\n",
       "      <td>NaN</td>\n",
       "    </tr>\n",
       "  </tbody>\n",
       "</table>\n",
       "<p>1 rows × 28 columns</p>\n",
       "</div>"
      ],
      "text/plain": [
       "      budget  id    imdb_id original_language      title  popularity  \\\n",
       "27  11000000  11  tt0076759                en  Star Wars   42.149697   \n",
       "\n",
       "   release_date    revenue  runtime  vote_average  ...  prev_title  \\\n",
       "27     19770525  775398007    121.0           8.1  ...         NaN   \n",
       "\n",
       "   prev_collection_id prev_collection_revenue prev_collection_release_date  \\\n",
       "27                NaN                     NaN                          NaN   \n",
       "\n",
       "   prev_collection_rating  prev_collection_popularity  \\\n",
       "27                    NaN                         NaN   \n",
       "\n",
       "   prev_collection_vote_average prequel_title prequel_revenue  \\\n",
       "27                          NaN           NaN             NaN   \n",
       "\n",
       "    prequel_release_date  \n",
       "27                   NaN  \n",
       "\n",
       "[1 rows x 28 columns]"
      ]
     },
     "execution_count": 58,
     "metadata": {},
     "output_type": "execute_result"
    }
   ],
   "source": [
    "collection_id_sort['prequel_release_date'] = collection_id_sort.apply(lambda x: x['prev_collection_release_date'] if x['collection_id'] == x['prev_collection_id'] else None, axis=1)  # validating previous/sequel\n",
    "collection_id_sort.head(1)  "
   ]
  },
  {
   "cell_type": "code",
   "execution_count": 59,
   "metadata": {},
   "outputs": [
    {
     "data": {
      "text/html": [
       "<div>\n",
       "<style scoped>\n",
       "    .dataframe tbody tr th:only-of-type {\n",
       "        vertical-align: middle;\n",
       "    }\n",
       "\n",
       "    .dataframe tbody tr th {\n",
       "        vertical-align: top;\n",
       "    }\n",
       "\n",
       "    .dataframe thead th {\n",
       "        text-align: right;\n",
       "    }\n",
       "</style>\n",
       "<table border=\"1\" class=\"dataframe\">\n",
       "  <thead>\n",
       "    <tr style=\"text-align: right;\">\n",
       "      <th></th>\n",
       "      <th>budget</th>\n",
       "      <th>id</th>\n",
       "      <th>imdb_id</th>\n",
       "      <th>original_language</th>\n",
       "      <th>title</th>\n",
       "      <th>popularity</th>\n",
       "      <th>release_date</th>\n",
       "      <th>revenue</th>\n",
       "      <th>runtime</th>\n",
       "      <th>vote_average</th>\n",
       "      <th>...</th>\n",
       "      <th>prev_collection_id</th>\n",
       "      <th>prev_collection_revenue</th>\n",
       "      <th>prev_collection_release_date</th>\n",
       "      <th>prev_collection_rating</th>\n",
       "      <th>prev_collection_popularity</th>\n",
       "      <th>prev_collection_vote_average</th>\n",
       "      <th>prequel_title</th>\n",
       "      <th>prequel_revenue</th>\n",
       "      <th>prequel_release_date</th>\n",
       "      <th>prequel_rating</th>\n",
       "    </tr>\n",
       "  </thead>\n",
       "  <tbody>\n",
       "    <tr>\n",
       "      <td>27</td>\n",
       "      <td>11000000</td>\n",
       "      <td>11</td>\n",
       "      <td>tt0076759</td>\n",
       "      <td>en</td>\n",
       "      <td>Star Wars</td>\n",
       "      <td>42.149697</td>\n",
       "      <td>19770525</td>\n",
       "      <td>775398007</td>\n",
       "      <td>121.0</td>\n",
       "      <td>8.1</td>\n",
       "      <td>...</td>\n",
       "      <td>NaN</td>\n",
       "      <td>NaN</td>\n",
       "      <td>NaN</td>\n",
       "      <td>NaN</td>\n",
       "      <td>NaN</td>\n",
       "      <td>NaN</td>\n",
       "      <td>NaN</td>\n",
       "      <td>NaN</td>\n",
       "      <td>NaN</td>\n",
       "      <td>NaN</td>\n",
       "    </tr>\n",
       "  </tbody>\n",
       "</table>\n",
       "<p>1 rows × 29 columns</p>\n",
       "</div>"
      ],
      "text/plain": [
       "      budget  id    imdb_id original_language      title  popularity  \\\n",
       "27  11000000  11  tt0076759                en  Star Wars   42.149697   \n",
       "\n",
       "   release_date    revenue  runtime  vote_average  ...  prev_collection_id  \\\n",
       "27     19770525  775398007    121.0           8.1  ...                 NaN   \n",
       "\n",
       "   prev_collection_revenue prev_collection_release_date  \\\n",
       "27                     NaN                          NaN   \n",
       "\n",
       "   prev_collection_rating prev_collection_popularity  \\\n",
       "27                    NaN                        NaN   \n",
       "\n",
       "    prev_collection_vote_average prequel_title prequel_revenue  \\\n",
       "27                           NaN           NaN             NaN   \n",
       "\n",
       "   prequel_release_date  prequel_rating  \n",
       "27                  NaN             NaN  \n",
       "\n",
       "[1 rows x 29 columns]"
      ]
     },
     "execution_count": 59,
     "metadata": {},
     "output_type": "execute_result"
    }
   ],
   "source": [
    "collection_id_sort['prequel_rating'] = collection_id_sort.apply(lambda x: x['prev_collection_rating'] if x['collection_id'] == x['prev_collection_id'] else None, axis=1)  # validating previous/sequel\n",
    "collection_id_sort.head(1)  "
   ]
  },
  {
   "cell_type": "code",
   "execution_count": 60,
   "metadata": {},
   "outputs": [
    {
     "data": {
      "text/html": [
       "<div>\n",
       "<style scoped>\n",
       "    .dataframe tbody tr th:only-of-type {\n",
       "        vertical-align: middle;\n",
       "    }\n",
       "\n",
       "    .dataframe tbody tr th {\n",
       "        vertical-align: top;\n",
       "    }\n",
       "\n",
       "    .dataframe thead th {\n",
       "        text-align: right;\n",
       "    }\n",
       "</style>\n",
       "<table border=\"1\" class=\"dataframe\">\n",
       "  <thead>\n",
       "    <tr style=\"text-align: right;\">\n",
       "      <th></th>\n",
       "      <th>budget</th>\n",
       "      <th>id</th>\n",
       "      <th>imdb_id</th>\n",
       "      <th>original_language</th>\n",
       "      <th>title</th>\n",
       "      <th>popularity</th>\n",
       "      <th>release_date</th>\n",
       "      <th>revenue</th>\n",
       "      <th>runtime</th>\n",
       "      <th>vote_average</th>\n",
       "      <th>...</th>\n",
       "      <th>prev_collection_revenue</th>\n",
       "      <th>prev_collection_release_date</th>\n",
       "      <th>prev_collection_rating</th>\n",
       "      <th>prev_collection_popularity</th>\n",
       "      <th>prev_collection_vote_average</th>\n",
       "      <th>prequel_title</th>\n",
       "      <th>prequel_revenue</th>\n",
       "      <th>prequel_release_date</th>\n",
       "      <th>prequel_rating</th>\n",
       "      <th>prequel_popularity</th>\n",
       "    </tr>\n",
       "  </thead>\n",
       "  <tbody>\n",
       "    <tr>\n",
       "      <td>27</td>\n",
       "      <td>11000000</td>\n",
       "      <td>11</td>\n",
       "      <td>tt0076759</td>\n",
       "      <td>en</td>\n",
       "      <td>Star Wars</td>\n",
       "      <td>42.149697</td>\n",
       "      <td>19770525</td>\n",
       "      <td>775398007</td>\n",
       "      <td>121.0</td>\n",
       "      <td>8.1</td>\n",
       "      <td>...</td>\n",
       "      <td>NaN</td>\n",
       "      <td>NaN</td>\n",
       "      <td>NaN</td>\n",
       "      <td>NaN</td>\n",
       "      <td>NaN</td>\n",
       "      <td>NaN</td>\n",
       "      <td>NaN</td>\n",
       "      <td>NaN</td>\n",
       "      <td>NaN</td>\n",
       "      <td>NaN</td>\n",
       "    </tr>\n",
       "  </tbody>\n",
       "</table>\n",
       "<p>1 rows × 30 columns</p>\n",
       "</div>"
      ],
      "text/plain": [
       "      budget  id    imdb_id original_language      title  popularity  \\\n",
       "27  11000000  11  tt0076759                en  Star Wars   42.149697   \n",
       "\n",
       "   release_date    revenue  runtime  vote_average  ...  \\\n",
       "27     19770525  775398007    121.0           8.1  ...   \n",
       "\n",
       "    prev_collection_revenue prev_collection_release_date  \\\n",
       "27                      NaN                          NaN   \n",
       "\n",
       "   prev_collection_rating prev_collection_popularity  \\\n",
       "27                    NaN                        NaN   \n",
       "\n",
       "   prev_collection_vote_average  prequel_title prequel_revenue  \\\n",
       "27                          NaN            NaN             NaN   \n",
       "\n",
       "   prequel_release_date prequel_rating  prequel_popularity  \n",
       "27                  NaN            NaN                 NaN  \n",
       "\n",
       "[1 rows x 30 columns]"
      ]
     },
     "execution_count": 60,
     "metadata": {},
     "output_type": "execute_result"
    }
   ],
   "source": [
    "collection_id_sort['prequel_popularity'] = collection_id_sort.apply(lambda x: x['prev_collection_popularity'] if x['collection_id'] == x['prev_collection_id'] else None, axis=1)  # validating previous/sequel\n",
    "collection_id_sort.head(1)  "
   ]
  },
  {
   "cell_type": "code",
   "execution_count": 61,
   "metadata": {},
   "outputs": [
    {
     "data": {
      "text/html": [
       "<div>\n",
       "<style scoped>\n",
       "    .dataframe tbody tr th:only-of-type {\n",
       "        vertical-align: middle;\n",
       "    }\n",
       "\n",
       "    .dataframe tbody tr th {\n",
       "        vertical-align: top;\n",
       "    }\n",
       "\n",
       "    .dataframe thead th {\n",
       "        text-align: right;\n",
       "    }\n",
       "</style>\n",
       "<table border=\"1\" class=\"dataframe\">\n",
       "  <thead>\n",
       "    <tr style=\"text-align: right;\">\n",
       "      <th></th>\n",
       "      <th>budget</th>\n",
       "      <th>id</th>\n",
       "      <th>imdb_id</th>\n",
       "      <th>original_language</th>\n",
       "      <th>title</th>\n",
       "      <th>popularity</th>\n",
       "      <th>release_date</th>\n",
       "      <th>revenue</th>\n",
       "      <th>runtime</th>\n",
       "      <th>vote_average</th>\n",
       "      <th>...</th>\n",
       "      <th>prev_collection_release_date</th>\n",
       "      <th>prev_collection_rating</th>\n",
       "      <th>prev_collection_popularity</th>\n",
       "      <th>prev_collection_vote_average</th>\n",
       "      <th>prequel_title</th>\n",
       "      <th>prequel_revenue</th>\n",
       "      <th>prequel_release_date</th>\n",
       "      <th>prequel_rating</th>\n",
       "      <th>prequel_popularity</th>\n",
       "      <th>prequel_vote_average</th>\n",
       "    </tr>\n",
       "  </thead>\n",
       "  <tbody>\n",
       "    <tr>\n",
       "      <td>27</td>\n",
       "      <td>11000000</td>\n",
       "      <td>11</td>\n",
       "      <td>tt0076759</td>\n",
       "      <td>en</td>\n",
       "      <td>Star Wars</td>\n",
       "      <td>42.149697</td>\n",
       "      <td>19770525</td>\n",
       "      <td>775398007</td>\n",
       "      <td>121.0</td>\n",
       "      <td>8.1</td>\n",
       "      <td>...</td>\n",
       "      <td>NaN</td>\n",
       "      <td>NaN</td>\n",
       "      <td>NaN</td>\n",
       "      <td>NaN</td>\n",
       "      <td>NaN</td>\n",
       "      <td>NaN</td>\n",
       "      <td>NaN</td>\n",
       "      <td>NaN</td>\n",
       "      <td>NaN</td>\n",
       "      <td>NaN</td>\n",
       "    </tr>\n",
       "  </tbody>\n",
       "</table>\n",
       "<p>1 rows × 31 columns</p>\n",
       "</div>"
      ],
      "text/plain": [
       "      budget  id    imdb_id original_language      title  popularity  \\\n",
       "27  11000000  11  tt0076759                en  Star Wars   42.149697   \n",
       "\n",
       "   release_date    revenue  runtime  vote_average  ...  \\\n",
       "27     19770525  775398007    121.0           8.1  ...   \n",
       "\n",
       "    prev_collection_release_date prev_collection_rating  \\\n",
       "27                           NaN                    NaN   \n",
       "\n",
       "   prev_collection_popularity prev_collection_vote_average prequel_title  \\\n",
       "27                        NaN                          NaN           NaN   \n",
       "\n",
       "    prequel_revenue prequel_release_date prequel_rating prequel_popularity  \\\n",
       "27              NaN                  NaN            NaN                NaN   \n",
       "\n",
       "    prequel_vote_average  \n",
       "27                   NaN  \n",
       "\n",
       "[1 rows x 31 columns]"
      ]
     },
     "execution_count": 61,
     "metadata": {},
     "output_type": "execute_result"
    }
   ],
   "source": [
    "collection_id_sort['prequel_vote_average'] = collection_id_sort.apply(lambda x: x['prev_collection_vote_average'] if x['collection_id'] == x['prev_collection_id'] else None, axis=1)  # validating previous/sequel\n",
    "collection_id_sort.head(1)  "
   ]
  },
  {
   "cell_type": "code",
   "execution_count": 62,
   "metadata": {},
   "outputs": [],
   "source": [
    "collection_id_sort = collection_id_sort.rename(columns={\"prev_collection_id\": \"prequel_id\"})"
   ]
  },
  {
   "cell_type": "code",
   "execution_count": 63,
   "metadata": {},
   "outputs": [
    {
     "data": {
      "text/plain": [
       "Index(['budget', 'id', 'imdb_id', 'original_language', 'title', 'popularity',\n",
       "       'release_date', 'revenue', 'runtime', 'vote_average', 'collection_id',\n",
       "       'collection_name', 'production companies', 'production_countries',\n",
       "       'genres', 'rating', 'rating_timestamp', 'key_agg', 'prev_title',\n",
       "       'prequel_id', 'prev_collection_revenue', 'prev_collection_release_date',\n",
       "       'prev_collection_rating', 'prev_collection_popularity',\n",
       "       'prev_collection_vote_average', 'prequel_title', 'prequel_revenue',\n",
       "       'prequel_release_date', 'prequel_rating', 'prequel_popularity',\n",
       "       'prequel_vote_average'],\n",
       "      dtype='object')"
      ]
     },
     "execution_count": 63,
     "metadata": {},
     "output_type": "execute_result"
    }
   ],
   "source": [
    "collection_id_sort.columns"
   ]
  },
  {
   "cell_type": "code",
   "execution_count": 64,
   "metadata": {},
   "outputs": [],
   "source": [
    "collection_id_sort = collection_id_sort.drop(columns=['prev_title', 'prev_collection_revenue', 'prev_collection_release_date', \n",
    "                                                     'prev_collection_rating', 'prev_collection_popularity','prev_collection_vote_average' ], axis=1)"
   ]
  },
  {
   "cell_type": "code",
   "execution_count": 65,
   "metadata": {},
   "outputs": [],
   "source": [
    "collection_id_sort = collection_id_sort[collection_id_sort['prequel_title'] == collection_id_sort['prequel_title']] "
   ]
  },
  {
   "cell_type": "code",
   "execution_count": 66,
   "metadata": {},
   "outputs": [
    {
     "data": {
      "text/html": [
       "<div>\n",
       "<style scoped>\n",
       "    .dataframe tbody tr th:only-of-type {\n",
       "        vertical-align: middle;\n",
       "    }\n",
       "\n",
       "    .dataframe tbody tr th {\n",
       "        vertical-align: top;\n",
       "    }\n",
       "\n",
       "    .dataframe thead th {\n",
       "        text-align: right;\n",
       "    }\n",
       "</style>\n",
       "<table border=\"1\" class=\"dataframe\">\n",
       "  <thead>\n",
       "    <tr style=\"text-align: right;\">\n",
       "      <th></th>\n",
       "      <th>budget</th>\n",
       "      <th>id</th>\n",
       "      <th>imdb_id</th>\n",
       "      <th>original_language</th>\n",
       "      <th>title</th>\n",
       "      <th>popularity</th>\n",
       "      <th>release_date</th>\n",
       "      <th>revenue</th>\n",
       "      <th>runtime</th>\n",
       "      <th>vote_average</th>\n",
       "      <th>...</th>\n",
       "      <th>rating</th>\n",
       "      <th>rating_timestamp</th>\n",
       "      <th>key_agg</th>\n",
       "      <th>prequel_id</th>\n",
       "      <th>prequel_title</th>\n",
       "      <th>prequel_revenue</th>\n",
       "      <th>prequel_release_date</th>\n",
       "      <th>prequel_rating</th>\n",
       "      <th>prequel_popularity</th>\n",
       "      <th>prequel_vote_average</th>\n",
       "    </tr>\n",
       "  </thead>\n",
       "  <tbody>\n",
       "    <tr>\n",
       "      <td>49</td>\n",
       "      <td>18000000</td>\n",
       "      <td>1891</td>\n",
       "      <td>tt0080684</td>\n",
       "      <td>en</td>\n",
       "      <td>The Empire Strikes Back</td>\n",
       "      <td>19.470959</td>\n",
       "      <td>19800517</td>\n",
       "      <td>538400000</td>\n",
       "      <td>124.0</td>\n",
       "      <td>8.2</td>\n",
       "      <td>...</td>\n",
       "      <td>2.464912</td>\n",
       "      <td>19980701</td>\n",
       "      <td>'rebel', 'android', 'asteroid', 'space battle'...</td>\n",
       "      <td>10.0</td>\n",
       "      <td>Star Wars</td>\n",
       "      <td>775398007.0</td>\n",
       "      <td>19770525</td>\n",
       "      <td>3.660591</td>\n",
       "      <td>42.149697</td>\n",
       "      <td>8.1</td>\n",
       "    </tr>\n",
       "  </tbody>\n",
       "</table>\n",
       "<p>1 rows × 25 columns</p>\n",
       "</div>"
      ],
      "text/plain": [
       "      budget    id    imdb_id original_language                    title  \\\n",
       "49  18000000  1891  tt0080684                en  The Empire Strikes Back   \n",
       "\n",
       "    popularity release_date    revenue  runtime  vote_average  ...    rating  \\\n",
       "49   19.470959     19800517  538400000    124.0           8.2  ...  2.464912   \n",
       "\n",
       "   rating_timestamp                                            key_agg  \\\n",
       "49         19980701  'rebel', 'android', 'asteroid', 'space battle'...   \n",
       "\n",
       "   prequel_id prequel_title  prequel_revenue prequel_release_date  \\\n",
       "49       10.0     Star Wars      775398007.0             19770525   \n",
       "\n",
       "   prequel_rating  prequel_popularity prequel_vote_average  \n",
       "49       3.660591           42.149697                  8.1  \n",
       "\n",
       "[1 rows x 25 columns]"
      ]
     },
     "execution_count": 66,
     "metadata": {},
     "output_type": "execute_result"
    }
   ],
   "source": [
    "collection_id_sort.head(1)"
   ]
  },
  {
   "cell_type": "markdown",
   "metadata": {},
   "source": [
    "#### Generate success indicator"
   ]
  },
  {
   "cell_type": "markdown",
   "metadata": {},
   "source": [
    "###### 1. retrieve sequels with revenue greater than prequel"
   ]
  },
  {
   "cell_type": "code",
   "execution_count": 67,
   "metadata": {},
   "outputs": [],
   "source": [
    "sequel_revenue_greater = collection_id_sort.query('prequel_revenue < revenue')"
   ]
  },
  {
   "cell_type": "code",
   "execution_count": 68,
   "metadata": {},
   "outputs": [
    {
     "data": {
      "text/plain": [
       "Index(['budget', 'id', 'imdb_id', 'original_language', 'title', 'popularity',\n",
       "       'release_date', 'revenue', 'runtime', 'vote_average', 'collection_id',\n",
       "       'collection_name', 'production companies', 'production_countries',\n",
       "       'genres', 'rating', 'rating_timestamp', 'key_agg', 'prequel_id',\n",
       "       'prequel_title', 'prequel_revenue', 'prequel_release_date',\n",
       "       'prequel_rating', 'prequel_popularity', 'prequel_vote_average'],\n",
       "      dtype='object')"
      ]
     },
     "execution_count": 68,
     "metadata": {},
     "output_type": "execute_result"
    }
   ],
   "source": [
    "sequel_revenue_greater.columns"
   ]
  },
  {
   "cell_type": "code",
   "execution_count": 69,
   "metadata": {},
   "outputs": [
    {
     "data": {
      "text/html": [
       "<div>\n",
       "<style scoped>\n",
       "    .dataframe tbody tr th:only-of-type {\n",
       "        vertical-align: middle;\n",
       "    }\n",
       "\n",
       "    .dataframe tbody tr th {\n",
       "        vertical-align: top;\n",
       "    }\n",
       "\n",
       "    .dataframe thead th {\n",
       "        text-align: right;\n",
       "    }\n",
       "</style>\n",
       "<table border=\"1\" class=\"dataframe\">\n",
       "  <thead>\n",
       "    <tr style=\"text-align: right;\">\n",
       "      <th></th>\n",
       "      <th>budget</th>\n",
       "      <th>id</th>\n",
       "      <th>imdb_id</th>\n",
       "      <th>original_language</th>\n",
       "      <th>title</th>\n",
       "      <th>popularity</th>\n",
       "      <th>release_date</th>\n",
       "      <th>revenue</th>\n",
       "      <th>runtime</th>\n",
       "      <th>vote_average</th>\n",
       "      <th>...</th>\n",
       "      <th>rating</th>\n",
       "      <th>rating_timestamp</th>\n",
       "      <th>key_agg</th>\n",
       "      <th>prequel_id</th>\n",
       "      <th>prequel_title</th>\n",
       "      <th>prequel_revenue</th>\n",
       "      <th>prequel_release_date</th>\n",
       "      <th>prequel_rating</th>\n",
       "      <th>prequel_popularity</th>\n",
       "      <th>prequel_vote_average</th>\n",
       "    </tr>\n",
       "  </thead>\n",
       "  <tbody>\n",
       "    <tr>\n",
       "      <td>45</td>\n",
       "      <td>32350000</td>\n",
       "      <td>1892</td>\n",
       "      <td>tt0086190</td>\n",
       "      <td>en</td>\n",
       "      <td>Return of the Jedi</td>\n",
       "      <td>14.586087</td>\n",
       "      <td>19830523</td>\n",
       "      <td>572700000</td>\n",
       "      <td>135.0</td>\n",
       "      <td>7.9</td>\n",
       "      <td>...</td>\n",
       "      <td>3.381859</td>\n",
       "      <td>19980610</td>\n",
       "      <td>'rebel', 'brother sister relationship', 'emper...</td>\n",
       "      <td>10.0</td>\n",
       "      <td>The Empire Strikes Back</td>\n",
       "      <td>538400000.0</td>\n",
       "      <td>19800517</td>\n",
       "      <td>2.464912</td>\n",
       "      <td>19.470959</td>\n",
       "      <td>8.2</td>\n",
       "    </tr>\n",
       "  </tbody>\n",
       "</table>\n",
       "<p>1 rows × 25 columns</p>\n",
       "</div>"
      ],
      "text/plain": [
       "      budget    id    imdb_id original_language               title  \\\n",
       "45  32350000  1892  tt0086190                en  Return of the Jedi   \n",
       "\n",
       "    popularity release_date    revenue  runtime  vote_average  ...    rating  \\\n",
       "45   14.586087     19830523  572700000    135.0           7.9  ...  3.381859   \n",
       "\n",
       "   rating_timestamp                                            key_agg  \\\n",
       "45         19980610  'rebel', 'brother sister relationship', 'emper...   \n",
       "\n",
       "   prequel_id            prequel_title  prequel_revenue prequel_release_date  \\\n",
       "45       10.0  The Empire Strikes Back      538400000.0             19800517   \n",
       "\n",
       "   prequel_rating  prequel_popularity prequel_vote_average  \n",
       "45       2.464912           19.470959                  8.2  \n",
       "\n",
       "[1 rows x 25 columns]"
      ]
     },
     "execution_count": 69,
     "metadata": {},
     "output_type": "execute_result"
    }
   ],
   "source": [
    "sequel_revenue_greater.head(1)"
   ]
  },
  {
   "cell_type": "markdown",
   "metadata": {},
   "source": [
    "###### 2. retrieve sequels with metrics (combination of rating, popularity, vote average) greater than prequel"
   ]
  },
  {
   "cell_type": "code",
   "execution_count": 70,
   "metadata": {},
   "outputs": [],
   "source": [
    "metric_cols = [ 'popularity', 'vote_average', 'rating', 'prequel_rating', 'prequel_popularity', 'prequel_vote_average']"
   ]
  },
  {
   "cell_type": "code",
   "execution_count": 71,
   "metadata": {},
   "outputs": [],
   "source": [
    "sequel_revenue_greater['prequel_score'] = sequel_revenue_greater[[ 'popularity', 'vote_average', 'rating']].apply(lambda x: x.mean(), axis=1)"
   ]
  },
  {
   "cell_type": "code",
   "execution_count": 72,
   "metadata": {},
   "outputs": [],
   "source": [
    "sequel_revenue_greater['sequel_score'] = sequel_revenue_greater[[ 'prequel_popularity', 'prequel_vote_average', 'prequel_rating']].apply(lambda x: x.sum(), axis=1)"
   ]
  },
  {
   "cell_type": "code",
   "execution_count": 73,
   "metadata": {},
   "outputs": [],
   "source": [
    "sequel_ratings_greater = sequel_revenue_greater.query('sequel_score > prequel_score')"
   ]
  },
  {
   "cell_type": "code",
   "execution_count": 74,
   "metadata": {},
   "outputs": [
    {
     "data": {
      "text/html": [
       "<div>\n",
       "<style scoped>\n",
       "    .dataframe tbody tr th:only-of-type {\n",
       "        vertical-align: middle;\n",
       "    }\n",
       "\n",
       "    .dataframe tbody tr th {\n",
       "        vertical-align: top;\n",
       "    }\n",
       "\n",
       "    .dataframe thead th {\n",
       "        text-align: right;\n",
       "    }\n",
       "</style>\n",
       "<table border=\"1\" class=\"dataframe\">\n",
       "  <thead>\n",
       "    <tr style=\"text-align: right;\">\n",
       "      <th></th>\n",
       "      <th>budget</th>\n",
       "      <th>id</th>\n",
       "      <th>imdb_id</th>\n",
       "      <th>original_language</th>\n",
       "      <th>title</th>\n",
       "      <th>popularity</th>\n",
       "      <th>release_date</th>\n",
       "      <th>revenue</th>\n",
       "      <th>runtime</th>\n",
       "      <th>vote_average</th>\n",
       "      <th>...</th>\n",
       "      <th>key_agg</th>\n",
       "      <th>prequel_id</th>\n",
       "      <th>prequel_title</th>\n",
       "      <th>prequel_revenue</th>\n",
       "      <th>prequel_release_date</th>\n",
       "      <th>prequel_rating</th>\n",
       "      <th>prequel_popularity</th>\n",
       "      <th>prequel_vote_average</th>\n",
       "      <th>prequel_score</th>\n",
       "      <th>sequel_score</th>\n",
       "    </tr>\n",
       "  </thead>\n",
       "  <tbody>\n",
       "    <tr>\n",
       "      <td>45</td>\n",
       "      <td>32350000</td>\n",
       "      <td>1892</td>\n",
       "      <td>tt0086190</td>\n",
       "      <td>en</td>\n",
       "      <td>Return of the Jedi</td>\n",
       "      <td>14.586087</td>\n",
       "      <td>19830523</td>\n",
       "      <td>572700000</td>\n",
       "      <td>135.0</td>\n",
       "      <td>7.9</td>\n",
       "      <td>...</td>\n",
       "      <td>'rebel', 'brother sister relationship', 'emper...</td>\n",
       "      <td>10.0</td>\n",
       "      <td>The Empire Strikes Back</td>\n",
       "      <td>538400000.0</td>\n",
       "      <td>19800517</td>\n",
       "      <td>2.464912</td>\n",
       "      <td>19.470959</td>\n",
       "      <td>8.2</td>\n",
       "      <td>8.622649</td>\n",
       "      <td>30.135871</td>\n",
       "    </tr>\n",
       "  </tbody>\n",
       "</table>\n",
       "<p>1 rows × 27 columns</p>\n",
       "</div>"
      ],
      "text/plain": [
       "      budget    id    imdb_id original_language               title  \\\n",
       "45  32350000  1892  tt0086190                en  Return of the Jedi   \n",
       "\n",
       "    popularity release_date    revenue  runtime  vote_average  ...  \\\n",
       "45   14.586087     19830523  572700000    135.0           7.9  ...   \n",
       "\n",
       "                                              key_agg prequel_id  \\\n",
       "45  'rebel', 'brother sister relationship', 'emper...       10.0   \n",
       "\n",
       "              prequel_title prequel_revenue prequel_release_date  \\\n",
       "45  The Empire Strikes Back     538400000.0             19800517   \n",
       "\n",
       "    prequel_rating prequel_popularity prequel_vote_average  prequel_score  \\\n",
       "45        2.464912          19.470959                  8.2       8.622649   \n",
       "\n",
       "   sequel_score  \n",
       "45    30.135871  \n",
       "\n",
       "[1 rows x 27 columns]"
      ]
     },
     "execution_count": 74,
     "metadata": {},
     "output_type": "execute_result"
    }
   ],
   "source": [
    "sequel_ratings_greater.head(1)"
   ]
  },
  {
   "cell_type": "markdown",
   "metadata": {},
   "source": [
    "##### 3. retrieve sequels with above features that were released within 2 years of prequel "
   ]
  },
  {
   "cell_type": "code",
   "execution_count": 75,
   "metadata": {},
   "outputs": [],
   "source": [
    "sequel_ratings_greater['date_diff'] = pd.to_datetime(sequel_ratings_greater['release_date']) - pd.to_datetime(sequel_ratings_greater['prequel_release_date'])\n",
    "sequel_ratings_greater['date_diff'] = sequel_ratings_greater['date_diff']/np.timedelta64(1,'Y')"
   ]
  },
  {
   "cell_type": "code",
   "execution_count": 76,
   "metadata": {},
   "outputs": [
    {
     "data": {
      "text/html": [
       "<div>\n",
       "<style scoped>\n",
       "    .dataframe tbody tr th:only-of-type {\n",
       "        vertical-align: middle;\n",
       "    }\n",
       "\n",
       "    .dataframe tbody tr th {\n",
       "        vertical-align: top;\n",
       "    }\n",
       "\n",
       "    .dataframe thead th {\n",
       "        text-align: right;\n",
       "    }\n",
       "</style>\n",
       "<table border=\"1\" class=\"dataframe\">\n",
       "  <thead>\n",
       "    <tr style=\"text-align: right;\">\n",
       "      <th></th>\n",
       "      <th>budget</th>\n",
       "      <th>id</th>\n",
       "      <th>imdb_id</th>\n",
       "      <th>original_language</th>\n",
       "      <th>title</th>\n",
       "      <th>popularity</th>\n",
       "      <th>release_date</th>\n",
       "      <th>revenue</th>\n",
       "      <th>runtime</th>\n",
       "      <th>vote_average</th>\n",
       "      <th>...</th>\n",
       "      <th>prequel_id</th>\n",
       "      <th>prequel_title</th>\n",
       "      <th>prequel_revenue</th>\n",
       "      <th>prequel_release_date</th>\n",
       "      <th>prequel_rating</th>\n",
       "      <th>prequel_popularity</th>\n",
       "      <th>prequel_vote_average</th>\n",
       "      <th>prequel_score</th>\n",
       "      <th>sequel_score</th>\n",
       "      <th>date_diff</th>\n",
       "    </tr>\n",
       "  </thead>\n",
       "  <tbody>\n",
       "    <tr>\n",
       "      <td>25</td>\n",
       "      <td>185000000</td>\n",
       "      <td>217</td>\n",
       "      <td>tt0367882</td>\n",
       "      <td>en</td>\n",
       "      <td>Indiana Jones and the Kingdom of the Crystal S...</td>\n",
       "      <td>12.577266</td>\n",
       "      <td>20080521</td>\n",
       "      <td>786636033</td>\n",
       "      <td>122.0</td>\n",
       "      <td>5.7</td>\n",
       "      <td>...</td>\n",
       "      <td>84.0</td>\n",
       "      <td>Indiana Jones and the Last Crusade</td>\n",
       "      <td>474171806.0</td>\n",
       "      <td>19890524</td>\n",
       "      <td>3.136548</td>\n",
       "      <td>14.788987</td>\n",
       "      <td>7.6</td>\n",
       "      <td>7.002991</td>\n",
       "      <td>25.525535</td>\n",
       "      <td>18.992861</td>\n",
       "    </tr>\n",
       "  </tbody>\n",
       "</table>\n",
       "<p>1 rows × 28 columns</p>\n",
       "</div>"
      ],
      "text/plain": [
       "       budget   id    imdb_id original_language  \\\n",
       "25  185000000  217  tt0367882                en   \n",
       "\n",
       "                                                title  popularity  \\\n",
       "25  Indiana Jones and the Kingdom of the Crystal S...   12.577266   \n",
       "\n",
       "   release_date    revenue  runtime  vote_average  ...  prequel_id  \\\n",
       "25     20080521  786636033    122.0           5.7  ...        84.0   \n",
       "\n",
       "                         prequel_title prequel_revenue prequel_release_date  \\\n",
       "25  Indiana Jones and the Last Crusade     474171806.0             19890524   \n",
       "\n",
       "   prequel_rating  prequel_popularity prequel_vote_average prequel_score  \\\n",
       "25       3.136548           14.788987                  7.6      7.002991   \n",
       "\n",
       "    sequel_score  date_diff  \n",
       "25     25.525535  18.992861  \n",
       "\n",
       "[1 rows x 28 columns]"
      ]
     },
     "execution_count": 76,
     "metadata": {},
     "output_type": "execute_result"
    }
   ],
   "source": [
    "sequel_ratings_greater.sample(1)"
   ]
  },
  {
   "cell_type": "markdown",
   "metadata": {},
   "source": [
    "#### Success Predictor (0,1) "
   ]
  },
  {
   "cell_type": "code",
   "execution_count": 77,
   "metadata": {},
   "outputs": [],
   "source": [
    "sequel_ratings_greater['success'] = sequel_ratings_greater.apply(lambda x: 1 if x['date_diff'] < 2 else 0, axis=1) "
   ]
  },
  {
   "cell_type": "code",
   "execution_count": 78,
   "metadata": {},
   "outputs": [
    {
     "data": {
      "text/plain": [
       "Index(['budget', 'id', 'imdb_id', 'original_language', 'title', 'popularity',\n",
       "       'release_date', 'revenue', 'runtime', 'vote_average', 'collection_id',\n",
       "       'collection_name', 'production companies', 'production_countries',\n",
       "       'genres', 'rating', 'rating_timestamp', 'key_agg', 'prequel_id',\n",
       "       'prequel_title', 'prequel_revenue', 'prequel_release_date',\n",
       "       'prequel_rating', 'prequel_popularity', 'prequel_vote_average',\n",
       "       'prequel_score', 'sequel_score', 'date_diff', 'success'],\n",
       "      dtype='object')"
      ]
     },
     "execution_count": 78,
     "metadata": {},
     "output_type": "execute_result"
    }
   ],
   "source": [
    "sequel_ratings_greater.columns"
   ]
  },
  {
   "cell_type": "code",
   "execution_count": 79,
   "metadata": {},
   "outputs": [],
   "source": [
    "sequel_success_ground_truth = sequel_ratings_greater"
   ]
  },
  {
   "cell_type": "code",
   "execution_count": 80,
   "metadata": {},
   "outputs": [],
   "source": [
    "sequel_success_ground_truth = sequel_success_ground_truth.filter(['id', 'collection_id', 'success'])"
   ]
  },
  {
   "cell_type": "code",
   "execution_count": 81,
   "metadata": {},
   "outputs": [
    {
     "data": {
      "text/html": [
       "<div>\n",
       "<style scoped>\n",
       "    .dataframe tbody tr th:only-of-type {\n",
       "        vertical-align: middle;\n",
       "    }\n",
       "\n",
       "    .dataframe tbody tr th {\n",
       "        vertical-align: top;\n",
       "    }\n",
       "\n",
       "    .dataframe thead th {\n",
       "        text-align: right;\n",
       "    }\n",
       "</style>\n",
       "<table border=\"1\" class=\"dataframe\">\n",
       "  <thead>\n",
       "    <tr style=\"text-align: right;\">\n",
       "      <th></th>\n",
       "      <th>movieId</th>\n",
       "      <th>franchiseId</th>\n",
       "      <th>success</th>\n",
       "    </tr>\n",
       "  </thead>\n",
       "  <tbody>\n",
       "    <tr>\n",
       "      <td>45</td>\n",
       "      <td>1892</td>\n",
       "      <td>10</td>\n",
       "      <td>0</td>\n",
       "    </tr>\n",
       "    <tr>\n",
       "      <td>11</td>\n",
       "      <td>1893</td>\n",
       "      <td>10</td>\n",
       "      <td>0</td>\n",
       "    </tr>\n",
       "    <tr>\n",
       "      <td>18</td>\n",
       "      <td>1895</td>\n",
       "      <td>10</td>\n",
       "      <td>0</td>\n",
       "    </tr>\n",
       "    <tr>\n",
       "      <td>59</td>\n",
       "      <td>89</td>\n",
       "      <td>84</td>\n",
       "      <td>0</td>\n",
       "    </tr>\n",
       "    <tr>\n",
       "      <td>25</td>\n",
       "      <td>217</td>\n",
       "      <td>84</td>\n",
       "      <td>0</td>\n",
       "    </tr>\n",
       "    <tr>\n",
       "      <td>...</td>\n",
       "      <td>...</td>\n",
       "      <td>...</td>\n",
       "      <td>...</td>\n",
       "    </tr>\n",
       "    <tr>\n",
       "      <td>377</td>\n",
       "      <td>2295</td>\n",
       "      <td>182813</td>\n",
       "      <td>0</td>\n",
       "    </tr>\n",
       "    <tr>\n",
       "      <td>312</td>\n",
       "      <td>2332</td>\n",
       "      <td>211721</td>\n",
       "      <td>1</td>\n",
       "    </tr>\n",
       "    <tr>\n",
       "      <td>307</td>\n",
       "      <td>2334</td>\n",
       "      <td>211721</td>\n",
       "      <td>0</td>\n",
       "    </tr>\n",
       "    <tr>\n",
       "      <td>299</td>\n",
       "      <td>1251</td>\n",
       "      <td>261382</td>\n",
       "      <td>1</td>\n",
       "    </tr>\n",
       "    <tr>\n",
       "      <td>390</td>\n",
       "      <td>844</td>\n",
       "      <td>287016</td>\n",
       "      <td>0</td>\n",
       "    </tr>\n",
       "  </tbody>\n",
       "</table>\n",
       "<p>81 rows × 3 columns</p>\n",
       "</div>"
      ],
      "text/plain": [
       "     movieId  franchiseId  success\n",
       "45      1892           10        0\n",
       "11      1893           10        0\n",
       "18      1895           10        0\n",
       "59        89           84        0\n",
       "25       217           84        0\n",
       "..       ...          ...      ...\n",
       "377     2295       182813        0\n",
       "312     2332       211721        1\n",
       "307     2334       211721        0\n",
       "299     1251       261382        1\n",
       "390      844       287016        0\n",
       "\n",
       "[81 rows x 3 columns]"
      ]
     },
     "execution_count": 81,
     "metadata": {},
     "output_type": "execute_result"
    }
   ],
   "source": [
    "sequel_success_ground_truth.rename(columns={'id': 'movieId', 'collection_id': 'franchiseId'})"
   ]
  },
  {
   "cell_type": "markdown",
   "metadata": {},
   "source": [
    "#### Export Dataset to CSV"
   ]
  },
  {
   "cell_type": "code",
   "execution_count": 407,
   "metadata": {},
   "outputs": [],
   "source": [
    "sequel_success_ground_truth.to_csv('sequel_success_ground_truth.csv', encoding='utf-8')"
   ]
  },
  {
   "cell_type": "code",
   "execution_count": null,
   "metadata": {},
   "outputs": [],
   "source": []
  }
 ],
 "metadata": {
  "hide_input": false,
  "kernelspec": {
   "display_name": "Python 3",
   "language": "python",
   "name": "python3"
  },
  "language_info": {
   "codemirror_mode": {
    "name": "ipython",
    "version": 3
   },
   "file_extension": ".py",
   "mimetype": "text/x-python",
   "name": "python",
   "nbconvert_exporter": "python",
   "pygments_lexer": "ipython3",
   "version": "3.7.1"
  }
 },
 "nbformat": 4,
 "nbformat_minor": 2
}
