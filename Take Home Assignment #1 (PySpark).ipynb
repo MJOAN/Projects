{
 "cells": [
  {
   "cell_type": "markdown",
   "metadata": {},
   "source": [
    "### Take Home Assignment # 1 Table of Contents\n",
    "<ul>\n",
    "<li><a href=\"#intro\">Introduction</a></li>\n",
    "<li><a href=\"#credits\">Credits Dataset</a></li>\n",
    "<li><a href=\"#movies\">Movies Dataset</a></li>\n",
    "<li><a href=\"#ratings\">Ratings Dataset</a></li>\n",
    "<li><a href=\"#sql\">SQL for Franchises</a></li>\n",
    "</ul>"
   ]
  },
  {
   "cell_type": "markdown",
   "metadata": {},
   "source": [
    "### <a id='intro'></a>Task #1: Franchise Discovery\n",
    "> 1. Write SQL query against Kaggle “Movies Dataset” use these files only: movies_metadata.csv, credits.csv, ratings.csv to discover all franchise in the dataset.\n",
    "> 2. Definition of “franchise”: titles that share the same “cast-character” pair(s)"
   ]
  },
  {
   "cell_type": "code",
   "execution_count": 28,
   "metadata": {},
   "outputs": [],
   "source": [
    "import pyspark\n",
    "import ast\n",
    "from pyspark.sql import functions as f\n",
    "from pyspark.sql import Window\n",
    "from pyspark.sql.functions import from_json, col, udf, lit, when, row_number, regexp_extract, split, explode\n",
    "from pyspark.sql.types import StructType, StructField, StringType, ArrayType, \\\n",
    "                                IntegerType, TimestampType, FloatType, DecimalType\n",
    "\n",
    "\n",
    "spark = pyspark.sql.SparkSession.builder.appName('movies-dataset').getOrCreate()"
   ]
  },
  {
   "cell_type": "code",
   "execution_count": 3,
   "metadata": {},
   "outputs": [],
   "source": [
    "import numpy as np \n",
    "import pandas as pd \n",
    "from pandas.io.json import json_normalize "
   ]
  },
  {
   "cell_type": "code",
   "execution_count": 4,
   "metadata": {},
   "outputs": [
    {
     "data": {
      "text/html": [
       "\n",
       "            <div>\n",
       "                <p><b>SparkSession - in-memory</b></p>\n",
       "                \n",
       "        <div>\n",
       "            <p><b>SparkContext</b></p>\n",
       "\n",
       "            <p><a href=\"http://mariams-mbp-2.lan1:4040\">Spark UI</a></p>\n",
       "\n",
       "            <dl>\n",
       "              <dt>Version</dt>\n",
       "                <dd><code>v2.4.3</code></dd>\n",
       "              <dt>Master</dt>\n",
       "                <dd><code>local[*]</code></dd>\n",
       "              <dt>AppName</dt>\n",
       "                <dd><code>movies-dataset</code></dd>\n",
       "            </dl>\n",
       "        </div>\n",
       "        \n",
       "            </div>\n",
       "        "
      ],
      "text/plain": [
       "<pyspark.sql.session.SparkSession at 0x110cc09b0>"
      ]
     },
     "execution_count": 4,
     "metadata": {},
     "output_type": "execute_result"
    }
   ],
   "source": [
    "spark"
   ]
  },
  {
   "cell_type": "markdown",
   "metadata": {},
   "source": [
    "### <a id='credits'></a> Credits Dataset"
   ]
  },
  {
   "cell_type": "code",
   "execution_count": 5,
   "metadata": {},
   "outputs": [
    {
     "data": {
      "text/html": [
       "<div>\n",
       "<style scoped>\n",
       "    .dataframe tbody tr th:only-of-type {\n",
       "        vertical-align: middle;\n",
       "    }\n",
       "\n",
       "    .dataframe tbody tr th {\n",
       "        vertical-align: top;\n",
       "    }\n",
       "\n",
       "    .dataframe thead th {\n",
       "        text-align: right;\n",
       "    }\n",
       "</style>\n",
       "<table border=\"1\" class=\"dataframe\">\n",
       "  <thead>\n",
       "    <tr style=\"text-align: right;\">\n",
       "      <th></th>\n",
       "      <th>cast</th>\n",
       "      <th>crew</th>\n",
       "      <th>id</th>\n",
       "    </tr>\n",
       "  </thead>\n",
       "  <tbody>\n",
       "    <tr>\n",
       "      <td>0</td>\n",
       "      <td>[{'cast_id': 14, 'character': 'Woody (voice)',...</td>\n",
       "      <td>[{'credit_id': '52fe4284c3a36847f8024f49', 'de...</td>\n",
       "      <td>862</td>\n",
       "    </tr>\n",
       "  </tbody>\n",
       "</table>\n",
       "</div>"
      ],
      "text/plain": [
       "                                                cast  \\\n",
       "0  [{'cast_id': 14, 'character': 'Woody (voice)',...   \n",
       "\n",
       "                                                crew   id  \n",
       "0  [{'credit_id': '52fe4284c3a36847f8024f49', 'de...  862  "
      ]
     },
     "execution_count": 5,
     "metadata": {},
     "output_type": "execute_result"
    }
   ],
   "source": [
    "credits_pd = pd.read_csv('/Users/mariamjoan/Notebooks/Movies-Dataset/credits.csv')\n",
    "credits_pd.head(1)"
   ]
  },
  {
   "cell_type": "code",
   "execution_count": 6,
   "metadata": {},
   "outputs": [],
   "source": [
    "credits = spark.read.option(\"header\", True)\\\n",
    "            .option(\"ignoreLeadingWhiteSpace\", True)\\\n",
    "            .option(\"quote\", '\"')\\\n",
    "            .option(\"escape\", '\"')\\\n",
    "            .csv(\"/Users/mariamjoan/Notebooks/Movies-Dataset/credits.csv\", inferSchema = False)"
   ]
  },
  {
   "cell_type": "code",
   "execution_count": 7,
   "metadata": {},
   "outputs": [
    {
     "name": "stdout",
     "output_type": "stream",
     "text": [
      "root\n",
      " |-- cast: string (nullable = true)\n",
      " |-- crew: string (nullable = true)\n",
      " |-- id: string (nullable = true)\n",
      "\n"
     ]
    }
   ],
   "source": [
    "credits.printSchema()"
   ]
  },
  {
   "cell_type": "code",
   "execution_count": 8,
   "metadata": {},
   "outputs": [
    {
     "name": "stdout",
     "output_type": "stream",
     "text": [
      "+--------------------+\n",
      "|                cast|\n",
      "+--------------------+\n",
      "|[{'cast_id': 14, ...|\n",
      "|[{'cast_id': 1, '...|\n",
      "+--------------------+\n",
      "only showing top 2 rows\n",
      "\n"
     ]
    }
   ],
   "source": [
    "credits.select('cast').show(2, truncate=True)"
   ]
  },
  {
   "cell_type": "code",
   "execution_count": 9,
   "metadata": {},
   "outputs": [
    {
     "data": {
      "text/plain": [
       "[('cast', 'string'), ('crew', 'string'), ('id', 'string')]"
      ]
     },
     "execution_count": 9,
     "metadata": {},
     "output_type": "execute_result"
    }
   ],
   "source": [
    "credits.dtypes"
   ]
  },
  {
   "cell_type": "code",
   "execution_count": 10,
   "metadata": {},
   "outputs": [
    {
     "data": {
      "text/plain": [
       "45476"
      ]
     },
     "execution_count": 10,
     "metadata": {},
     "output_type": "execute_result"
    }
   ],
   "source": [
    "credits.count()"
   ]
  },
  {
   "cell_type": "code",
   "execution_count": 11,
   "metadata": {},
   "outputs": [],
   "source": [
    "def parser(col_str):  \n",
    "    b = ast.literal_eval(col_str)\n",
    "    tupe = []\n",
    "    for bb in b:\n",
    "        tupe.append( (bb['character'], bb['name']) )\n",
    "    return tupe"
   ]
  },
  {
   "cell_type": "code",
   "execution_count": 12,
   "metadata": {},
   "outputs": [],
   "source": [
    "parser_udf = udf(lambda z: parser(z), ArrayType(StructType([StructField(\"character\", StringType(), True),\\\n",
    "                                  StructField(\"name\", StringType(), True)])))"
   ]
  },
  {
   "cell_type": "code",
   "execution_count": 111,
   "metadata": {},
   "outputs": [],
   "source": [
    "characters = credits.withColumn(\"cast_\", explode(parser_udf(col(\"cast\"))))\\\n",
    "                    .withColumn(\"id2\", credits.id.cast(IntegerType()))\\\n",
    "                    .filter(\"cast_.character is not null and cast_.character <> ''\")"
   ]
  },
  {
   "cell_type": "code",
   "execution_count": 105,
   "metadata": {},
   "outputs": [
    {
     "name": "stdout",
     "output_type": "stream",
     "text": [
      "root\n",
      " |-- cast: string (nullable = true)\n",
      " |-- crew: string (nullable = true)\n",
      " |-- id: string (nullable = true)\n",
      " |-- cast_: struct (nullable = true)\n",
      " |    |-- character: string (nullable = true)\n",
      " |    |-- name: string (nullable = true)\n",
      " |-- id2: integer (nullable = true)\n",
      "\n"
     ]
    }
   ],
   "source": [
    "characters.printSchema()"
   ]
  },
  {
   "cell_type": "code",
   "execution_count": 106,
   "metadata": {},
   "outputs": [
    {
     "name": "stdout",
     "output_type": "stream",
     "text": [
      "+-----------------------+-------------+---+\n",
      "|character              |name         |id2|\n",
      "+-----------------------+-------------+---+\n",
      "|Woody (voice)          |Tom Hanks    |862|\n",
      "|Buzz Lightyear (voice) |Tim Allen    |862|\n",
      "|Mr. Potato Head (voice)|Don Rickles  |862|\n",
      "|Slinky Dog (voice)     |Jim Varney   |862|\n",
      "|Rex (voice)            |Wallace Shawn|862|\n",
      "+-----------------------+-------------+---+\n",
      "only showing top 5 rows\n",
      "\n"
     ]
    }
   ],
   "source": [
    "characters.select(\"cast_.character\", \"cast_.name\", \"id2\").show(5, truncate=False)"
   ]
  },
  {
   "cell_type": "markdown",
   "metadata": {},
   "source": [
    "### <a id='ratings'></a> Ratings Dataset"
   ]
  },
  {
   "cell_type": "code",
   "execution_count": 16,
   "metadata": {},
   "outputs": [
    {
     "data": {
      "text/html": [
       "<div>\n",
       "<style scoped>\n",
       "    .dataframe tbody tr th:only-of-type {\n",
       "        vertical-align: middle;\n",
       "    }\n",
       "\n",
       "    .dataframe tbody tr th {\n",
       "        vertical-align: top;\n",
       "    }\n",
       "\n",
       "    .dataframe thead th {\n",
       "        text-align: right;\n",
       "    }\n",
       "</style>\n",
       "<table border=\"1\" class=\"dataframe\">\n",
       "  <thead>\n",
       "    <tr style=\"text-align: right;\">\n",
       "      <th></th>\n",
       "      <th>userId</th>\n",
       "      <th>movieId</th>\n",
       "      <th>rating</th>\n",
       "      <th>timestamp</th>\n",
       "    </tr>\n",
       "  </thead>\n",
       "  <tbody>\n",
       "    <tr>\n",
       "      <td>0</td>\n",
       "      <td>1</td>\n",
       "      <td>110</td>\n",
       "      <td>1.0</td>\n",
       "      <td>1425941529</td>\n",
       "    </tr>\n",
       "  </tbody>\n",
       "</table>\n",
       "</div>"
      ],
      "text/plain": [
       "   userId  movieId  rating   timestamp\n",
       "0       1      110     1.0  1425941529"
      ]
     },
     "execution_count": 16,
     "metadata": {},
     "output_type": "execute_result"
    }
   ],
   "source": [
    "ratings_pd = pd.read_csv('/Users/mariamjoan/Notebooks/Movies-Dataset/ratings.csv')\n",
    "ratings_pd.head(1)"
   ]
  },
  {
   "cell_type": "code",
   "execution_count": 17,
   "metadata": {},
   "outputs": [],
   "source": [
    "ratings = spark.read.option(\"header\", True).csv(\"/Users/mariamjoan/Notebooks/Movies-Dataset/ratings.csv\") "
   ]
  },
  {
   "cell_type": "code",
   "execution_count": 18,
   "metadata": {},
   "outputs": [
    {
     "data": {
      "text/plain": [
       "[('userId', 'string'),\n",
       " ('movieId', 'string'),\n",
       " ('rating', 'string'),\n",
       " ('timestamp', 'string')]"
      ]
     },
     "execution_count": 18,
     "metadata": {},
     "output_type": "execute_result"
    }
   ],
   "source": [
    "ratings.dtypes"
   ]
  },
  {
   "cell_type": "code",
   "execution_count": 19,
   "metadata": {},
   "outputs": [],
   "source": [
    "ratings_casted = ratings.withColumn(\"rating2\", ratings.rating.cast(FloatType())) \\\n",
    "                        .withColumn(\"id2\", ratings.movieId.cast(IntegerType()))"
   ]
  },
  {
   "cell_type": "code",
   "execution_count": 20,
   "metadata": {},
   "outputs": [
    {
     "name": "stdout",
     "output_type": "stream",
     "text": [
      "+-------+----+\n",
      "|rating2|Id2 |\n",
      "+-------+----+\n",
      "|1.0    |110 |\n",
      "|4.5    |147 |\n",
      "|5.0    |858 |\n",
      "|5.0    |1221|\n",
      "|5.0    |1246|\n",
      "+-------+----+\n",
      "only showing top 5 rows\n",
      "\n"
     ]
    }
   ],
   "source": [
    "ratings_casted.select(\"rating2\", \"Id2\").show(5, truncate=False)"
   ]
  },
  {
   "cell_type": "code",
   "execution_count": 21,
   "metadata": {},
   "outputs": [
    {
     "name": "stdout",
     "output_type": "stream",
     "text": [
      "root\n",
      " |-- userId: string (nullable = true)\n",
      " |-- movieId: string (nullable = true)\n",
      " |-- rating: string (nullable = true)\n",
      " |-- timestamp: string (nullable = true)\n",
      " |-- rating2: float (nullable = true)\n",
      " |-- id2: integer (nullable = true)\n",
      "\n"
     ]
    }
   ],
   "source": [
    "ratings_casted.printSchema()"
   ]
  },
  {
   "cell_type": "code",
   "execution_count": 22,
   "metadata": {},
   "outputs": [
    {
     "data": {
      "text/plain": [
       "[('userId', 'string'),\n",
       " ('movieId', 'string'),\n",
       " ('rating', 'string'),\n",
       " ('timestamp', 'string'),\n",
       " ('rating2', 'float'),\n",
       " ('id2', 'int')]"
      ]
     },
     "execution_count": 22,
     "metadata": {},
     "output_type": "execute_result"
    }
   ],
   "source": [
    "ratings_casted.dtypes"
   ]
  },
  {
   "cell_type": "markdown",
   "metadata": {},
   "source": [
    "### <a id='movies'></a> Movies Dataset"
   ]
  },
  {
   "cell_type": "code",
   "execution_count": 23,
   "metadata": {},
   "outputs": [
    {
     "data": {
      "text/plain": [
       "0    21.946943\n",
       "Name: popularity, dtype: object"
      ]
     },
     "execution_count": 23,
     "metadata": {},
     "output_type": "execute_result"
    }
   ],
   "source": [
    "movies_pd = pd.read_csv('/Users/mariamjoan/Notebooks/Movies-Dataset/movies_metadata.csv', low_memory=False)\n",
    "movies_pd.popularity.head(1)"
   ]
  },
  {
   "cell_type": "code",
   "execution_count": 24,
   "metadata": {},
   "outputs": [],
   "source": [
    "movies = spark.read.option(\"header\", True)\\\n",
    "            .csv(\"/Users/mariamjoan/Notebooks/Movies-Dataset/movies_metadata.csv\")"
   ]
  },
  {
   "cell_type": "code",
   "execution_count": 25,
   "metadata": {},
   "outputs": [
    {
     "name": "stdout",
     "output_type": "stream",
     "text": [
      "root\n",
      " |-- adult: string (nullable = true)\n",
      " |-- belongs_to_collection: string (nullable = true)\n",
      " |-- budget: string (nullable = true)\n",
      " |-- genres: string (nullable = true)\n",
      " |-- homepage: string (nullable = true)\n",
      " |-- id: string (nullable = true)\n",
      " |-- imdb_id: string (nullable = true)\n",
      " |-- original_language: string (nullable = true)\n",
      " |-- original_title: string (nullable = true)\n",
      " |-- overview: string (nullable = true)\n",
      " |-- popularity: string (nullable = true)\n",
      " |-- poster_path: string (nullable = true)\n",
      " |-- production_companies: string (nullable = true)\n",
      " |-- production_countries: string (nullable = true)\n",
      " |-- release_date: string (nullable = true)\n",
      " |-- revenue: string (nullable = true)\n",
      " |-- runtime: string (nullable = true)\n",
      " |-- spoken_languages: string (nullable = true)\n",
      " |-- status: string (nullable = true)\n",
      " |-- tagline: string (nullable = true)\n",
      " |-- title: string (nullable = true)\n",
      " |-- video: string (nullable = true)\n",
      " |-- vote_average: string (nullable = true)\n",
      " |-- vote_count: string (nullable = true)\n",
      "\n"
     ]
    }
   ],
   "source": [
    "movies.printSchema()"
   ]
  },
  {
   "cell_type": "code",
   "execution_count": 26,
   "metadata": {},
   "outputs": [
    {
     "name": "stdout",
     "output_type": "stream",
     "text": [
      "+-----+---------------------+--------+--------------------+--------------------+---+---------+-----------------+--------------+--------------------+----------+--------------------+--------------------+--------------------+------------+---------+-------+--------------------+--------+-------+---------+-----+------------+----------+\n",
      "|adult|belongs_to_collection|  budget|              genres|            homepage| id|  imdb_id|original_language|original_title|            overview|popularity|         poster_path|production_companies|production_countries|release_date|  revenue|runtime|    spoken_languages|  status|tagline|    title|video|vote_average|vote_count|\n",
      "+-----+---------------------+--------+--------------------+--------------------+---+---------+-----------------+--------------+--------------------+----------+--------------------+--------------------+--------------------+------------+---------+-------+--------------------+--------+-------+---------+-----+------------+----------+\n",
      "|False| {'id': 10194, 'na...|30000000|[{'id': 16, 'name...|http://toystory.d...|862|tt0114709|               en|     Toy Story|Led by Woody, And...| 21.946943|/rhIRbceoE9lR4veE...|[{'name': 'Pixar ...|[{'iso_3166_1': '...|  1995-10-30|373554033|   81.0|[{'iso_639_1': 'e...|Released|   null|Toy Story|False|         7.7|      5415|\n",
      "+-----+---------------------+--------+--------------------+--------------------+---+---------+-----------------+--------------+--------------------+----------+--------------------+--------------------+--------------------+------------+---------+-------+--------------------+--------+-------+---------+-----+------------+----------+\n",
      "only showing top 1 row\n",
      "\n"
     ]
    }
   ],
   "source": [
    "movies.show(1, truncate=True)"
   ]
  },
  {
   "cell_type": "code",
   "execution_count": 96,
   "metadata": {},
   "outputs": [],
   "source": [
    "movies_casted = movies.withColumn(\"id2\", movies.id.cast(IntegerType())) \\\n",
    "                      .withColumn(\"revenue2\", movies.revenue.cast(DecimalType()))\\\n",
    "                      .withColumn(\"vote_average2\", movies.vote_average.cast(FloatType())) \\\n",
    "                      .filter(\"id2 is not null and id2 <> 0\")"
   ]
  },
  {
   "cell_type": "code",
   "execution_count": 90,
   "metadata": {},
   "outputs": [
    {
     "name": "stdout",
     "output_type": "stream",
     "text": [
      "+-----+--------------------+---------+-------------+\n",
      "|  id2|      original_title| revenue2|vote_average2|\n",
      "+-----+--------------------+---------+-------------+\n",
      "|  862|           Toy Story|373554033|          7.7|\n",
      "| 8844|             Jumanji|262797249|          6.9|\n",
      "|15602|    Grumpier Old Men|        0|          6.5|\n",
      "|31357|   Waiting to Exhale|     null|         null|\n",
      "|11862|Father of the Bri...| 76578911|          5.7|\n",
      "+-----+--------------------+---------+-------------+\n",
      "only showing top 5 rows\n",
      "\n"
     ]
    }
   ],
   "source": [
    "movies_casted.select(\"id2\", \"original_title\", \"revenue2\", \"vote_average2\").show(5, truncate=True)"
   ]
  },
  {
   "cell_type": "code",
   "execution_count": 91,
   "metadata": {},
   "outputs": [
    {
     "data": {
      "text/plain": [
       "[('adult', 'string'),\n",
       " ('belongs_to_collection', 'string'),\n",
       " ('budget', 'string'),\n",
       " ('genres', 'string'),\n",
       " ('homepage', 'string'),\n",
       " ('id', 'string'),\n",
       " ('imdb_id', 'string'),\n",
       " ('original_language', 'string'),\n",
       " ('original_title', 'string'),\n",
       " ('overview', 'string'),\n",
       " ('popularity', 'string'),\n",
       " ('poster_path', 'string'),\n",
       " ('production_companies', 'string'),\n",
       " ('production_countries', 'string'),\n",
       " ('release_date', 'string'),\n",
       " ('revenue', 'string'),\n",
       " ('runtime', 'string'),\n",
       " ('spoken_languages', 'string'),\n",
       " ('status', 'string'),\n",
       " ('tagline', 'string'),\n",
       " ('title', 'string'),\n",
       " ('video', 'string'),\n",
       " ('vote_average', 'string'),\n",
       " ('vote_count', 'string'),\n",
       " ('id2', 'int'),\n",
       " ('revenue2', 'decimal(10,0)'),\n",
       " ('vote_average2', 'float')]"
      ]
     },
     "execution_count": 91,
     "metadata": {},
     "output_type": "execute_result"
    }
   ],
   "source": [
    "movies_casted.dtypes"
   ]
  },
  {
   "cell_type": "markdown",
   "metadata": {},
   "source": [
    "### Drop Columns & Duplicates"
   ]
  },
  {
   "cell_type": "code",
   "execution_count": 32,
   "metadata": {},
   "outputs": [],
   "source": [
    "characters = characters.drop(\"cast\", \"crew\", \"id\")"
   ]
  },
  {
   "cell_type": "code",
   "execution_count": 33,
   "metadata": {},
   "outputs": [],
   "source": [
    "ratings_casted = ratings_casted.drop(\"userId\", \"movieId\", \"rating\", \"timestamp\")"
   ]
  },
  {
   "cell_type": "code",
   "execution_count": 97,
   "metadata": {},
   "outputs": [],
   "source": [
    "movies_casted = movies_casted.drop(\"popularity\", \"popularity2\", \"id\").drop_duplicates()"
   ]
  },
  {
   "cell_type": "markdown",
   "metadata": {},
   "source": [
    "### Set DataFrames to Temp Tables to Query"
   ]
  },
  {
   "cell_type": "code",
   "execution_count": 112,
   "metadata": {},
   "outputs": [],
   "source": [
    "movies_casted.registerTempTable(\"movies\")\n",
    "ratings_casted.registerTempTable(\"ratings\")\n",
    "characters.registerTempTable(\"cast\")"
   ]
  },
  {
   "cell_type": "markdown",
   "metadata": {},
   "source": [
    "### <a id='sql'></a> SQL for Franchises"
   ]
  },
  {
   "cell_type": "code",
   "execution_count": 125,
   "metadata": {},
   "outputs": [
    {
     "data": {
      "text/html": [
       "<div>\n",
       "<style scoped>\n",
       "    .dataframe tbody tr th:only-of-type {\n",
       "        vertical-align: middle;\n",
       "    }\n",
       "\n",
       "    .dataframe tbody tr th {\n",
       "        vertical-align: top;\n",
       "    }\n",
       "\n",
       "    .dataframe thead th {\n",
       "        text-align: right;\n",
       "    }\n",
       "</style>\n",
       "<table border=\"1\" class=\"dataframe\">\n",
       "  <thead>\n",
       "    <tr style=\"text-align: right;\">\n",
       "      <th></th>\n",
       "      <th>adult</th>\n",
       "      <th>belongs_to_collection</th>\n",
       "      <th>budget</th>\n",
       "      <th>genres</th>\n",
       "      <th>homepage</th>\n",
       "      <th>imdb_id</th>\n",
       "      <th>original_language</th>\n",
       "      <th>original_title</th>\n",
       "      <th>overview</th>\n",
       "      <th>poster_path</th>\n",
       "      <th>...</th>\n",
       "      <th>spoken_languages</th>\n",
       "      <th>status</th>\n",
       "      <th>tagline</th>\n",
       "      <th>title</th>\n",
       "      <th>video</th>\n",
       "      <th>vote_average</th>\n",
       "      <th>vote_count</th>\n",
       "      <th>id2</th>\n",
       "      <th>revenue2</th>\n",
       "      <th>vote_average2</th>\n",
       "    </tr>\n",
       "  </thead>\n",
       "  <tbody>\n",
       "    <tr>\n",
       "      <td>0</td>\n",
       "      <td>False</td>\n",
       "      <td>None</td>\n",
       "      <td>26000000</td>\n",
       "      <td>[{'id': 12, 'name': 'Adventure'}, {'id': 10751...</td>\n",
       "      <td>None</td>\n",
       "      <td>tt0157472</td>\n",
       "      <td>en</td>\n",
       "      <td>Clockstoppers</td>\n",
       "      <td>Until now, Zak Gibbs' greatest challenge has b...</td>\n",
       "      <td>/xGhDPrBz9mJN8CsIjA23jQSd3sc.jpg</td>\n",
       "      <td>...</td>\n",
       "      <td>[{'iso_639_1': 'cs', 'name': 'Český'}, {'iso_6...</td>\n",
       "      <td>Released</td>\n",
       "      <td>The adventure of a lifetime, in a few mere sec...</td>\n",
       "      <td>Clockstoppers</td>\n",
       "      <td>False</td>\n",
       "      <td>4.9</td>\n",
       "      <td>90</td>\n",
       "      <td>15028</td>\n",
       "      <td>38793283</td>\n",
       "      <td>4.9</td>\n",
       "    </tr>\n",
       "    <tr>\n",
       "      <td>1</td>\n",
       "      <td>False</td>\n",
       "      <td>None</td>\n",
       "      <td>26000000</td>\n",
       "      <td>[{'id': 12, 'name': 'Adventure'}, {'id': 10751...</td>\n",
       "      <td>None</td>\n",
       "      <td>tt0157472</td>\n",
       "      <td>en</td>\n",
       "      <td>Clockstoppers</td>\n",
       "      <td>Until now, Zak Gibbs' greatest challenge has b...</td>\n",
       "      <td>/xGhDPrBz9mJN8CsIjA23jQSd3sc.jpg</td>\n",
       "      <td>...</td>\n",
       "      <td>[{'iso_639_1': 'cs', 'name': 'Český'}, {'iso_6...</td>\n",
       "      <td>Released</td>\n",
       "      <td>The adventure of a lifetime, in a few mere sec...</td>\n",
       "      <td>Clockstoppers</td>\n",
       "      <td>False</td>\n",
       "      <td>4.9</td>\n",
       "      <td>89</td>\n",
       "      <td>15028</td>\n",
       "      <td>38793283</td>\n",
       "      <td>4.9</td>\n",
       "    </tr>\n",
       "  </tbody>\n",
       "</table>\n",
       "<p>2 rows × 25 columns</p>\n",
       "</div>"
      ],
      "text/plain": [
       "   adult belongs_to_collection    budget  \\\n",
       "0  False                  None  26000000   \n",
       "1  False                  None  26000000   \n",
       "\n",
       "                                              genres homepage    imdb_id  \\\n",
       "0  [{'id': 12, 'name': 'Adventure'}, {'id': 10751...     None  tt0157472   \n",
       "1  [{'id': 12, 'name': 'Adventure'}, {'id': 10751...     None  tt0157472   \n",
       "\n",
       "  original_language original_title  \\\n",
       "0                en  Clockstoppers   \n",
       "1                en  Clockstoppers   \n",
       "\n",
       "                                            overview  \\\n",
       "0  Until now, Zak Gibbs' greatest challenge has b...   \n",
       "1  Until now, Zak Gibbs' greatest challenge has b...   \n",
       "\n",
       "                        poster_path  ...  \\\n",
       "0  /xGhDPrBz9mJN8CsIjA23jQSd3sc.jpg  ...   \n",
       "1  /xGhDPrBz9mJN8CsIjA23jQSd3sc.jpg  ...   \n",
       "\n",
       "                                    spoken_languages    status  \\\n",
       "0  [{'iso_639_1': 'cs', 'name': 'Český'}, {'iso_6...  Released   \n",
       "1  [{'iso_639_1': 'cs', 'name': 'Český'}, {'iso_6...  Released   \n",
       "\n",
       "                                             tagline          title  video  \\\n",
       "0  The adventure of a lifetime, in a few mere sec...  Clockstoppers  False   \n",
       "1  The adventure of a lifetime, in a few mere sec...  Clockstoppers  False   \n",
       "\n",
       "  vote_average vote_count    id2  revenue2 vote_average2  \n",
       "0          4.9         90  15028  38793283           4.9  \n",
       "1          4.9         89  15028  38793283           4.9  \n",
       "\n",
       "[2 rows x 25 columns]"
      ]
     },
     "execution_count": 125,
     "metadata": {},
     "output_type": "execute_result"
    }
   ],
   "source": [
    "spark.sql(\"\"\"   \n",
    "select * from movies where id2 = 15028\n",
    "\"\"\").toPandas()"
   ]
  },
  {
   "cell_type": "code",
   "execution_count": 99,
   "metadata": {},
   "outputs": [
    {
     "name": "stdout",
     "output_type": "stream",
     "text": [
      "+------+--------+\n",
      "|   id2|count(1)|\n",
      "+------+--------+\n",
      "| 15028|       2|\n",
      "| 85910|       1|\n",
      "| 46909|       1|\n",
      "| 30972|       1|\n",
      "|161816|       1|\n",
      "| 23619|       1|\n",
      "|  7131|       1|\n",
      "|  9488|       1|\n",
      "|293126|       1|\n",
      "|223566|       1|\n",
      "|101887|       1|\n",
      "| 43821|       1|\n",
      "| 63066|       1|\n",
      "|292214|       1|\n",
      "| 10022|       1|\n",
      "| 43386|       1|\n",
      "| 37845|       1|\n",
      "| 63579|       1|\n",
      "|246011|       1|\n",
      "|409082|       1|\n",
      "+------+--------+\n",
      "only showing top 20 rows\n",
      "\n"
     ]
    }
   ],
   "source": [
    "spark.sql(\"\"\"   \n",
    "select id2, count(*) from movies group by 1 order by 2 desc\n",
    "\"\"\").show()"
   ]
  },
  {
   "cell_type": "code",
   "execution_count": 56,
   "metadata": {},
   "outputs": [
    {
     "name": "stdout",
     "output_type": "stream",
     "text": [
      "+----+--------+\n",
      "| id2|count(1)|\n",
      "+----+--------+\n",
      "| 356|   91921|\n",
      "| 318|   91082|\n",
      "| 296|   87901|\n",
      "| 593|   84078|\n",
      "|2571|   77960|\n",
      "| 260|   77045|\n",
      "| 480|   74355|\n",
      "| 527|   67662|\n",
      "| 110|   66512|\n",
      "|   1|   66008|\n",
      "|1210|   62714|\n",
      "| 589|   61836|\n",
      "|1196|   61672|\n",
      "|2959|   60024|\n",
      "|1198|   59693|\n",
      "|  50|   59271|\n",
      "|2858|   57879|\n",
      "| 150|   57416|\n",
      "| 780|   57232|\n",
      "| 858|   57070|\n",
      "+----+--------+\n",
      "only showing top 20 rows\n",
      "\n"
     ]
    }
   ],
   "source": [
    "spark.sql(\"\"\"   \n",
    "select id2, count(*) from ratings group by 1 order by 2 desc\n",
    "\"\"\").show()"
   ]
  },
  {
   "cell_type": "code",
   "execution_count": 113,
   "metadata": {},
   "outputs": [
    {
     "name": "stdout",
     "output_type": "stream",
     "text": [
      "+--------------------+--------+\n",
      "|           character|count(1)|\n",
      "+--------------------+--------+\n",
      "|             Himself|   11437|\n",
      "|             Herself|    3073|\n",
      "|              Doctor|     663|\n",
      "|              Dancer|     583|\n",
      "|            Narrator|     562|\n",
      "|            Reporter|     545|\n",
      "|             himself|     542|\n",
      "|               Nurse|     499|\n",
      "|        (uncredited)|     472|\n",
      "|                Anna|     464|\n",
      "|Additional Voices...|     449|\n",
      "|                Paul|     446|\n",
      "|                 Sam|     443|\n",
      "|           Policeman|     419|\n",
      "|               Maria|     415|\n",
      "|               Frank|     414|\n",
      "|               Sarah|     407|\n",
      "|           Bartender|     398|\n",
      "|Himself (archive ...|     391|\n",
      "|               David|     390|\n",
      "+--------------------+--------+\n",
      "only showing top 20 rows\n",
      "\n"
     ]
    }
   ],
   "source": [
    "spark.sql(\"\"\"   \n",
    "select cast_.character, count(*) from cast group by 1 order by 2 desc\n",
    "\"\"\").show()"
   ]
  },
  {
   "cell_type": "code",
   "execution_count": 124,
   "metadata": {},
   "outputs": [
    {
     "name": "stdout",
     "output_type": "stream",
     "text": [
      "+------+--------------------+--------------------+--------------------+---------+--------------------+--------------+\n",
      "|   id2|           character|              talent|      original_title|  imdb_id|avg_rating_per_title|franchise_pair|\n",
      "+------+--------------------+--------------------+--------------------+---------+--------------------+--------------+\n",
      "|119593|               Extra|      Leoda Richards|A Fever In The Blood|tt0054873|                 4.5|             2|\n",
      "| 96702|               Nurse|         Mary Gordon|The Power and the...|tt0024465|                 4.5|             2|\n",
      "|129360|          Usain Bolt|          Usain Bolt|Usain Bolt, La Lé...|tt2583020|                 4.5|             2|\n",
      "|106113|              Warden|       George Irving| Don't Tell the Wife|tt0028799|                 4.5|             2|\n",
      "|   318|                 Joe|       Richard Edson|The Million Dolla...|tt0120753|                4.43|             2|\n",
      "| 91007|               Shing|     Corey Yuen Kwai|Dou Sing 2 - Gai ...|tt0112909|                 4.4|             2|\n",
      "| 91007|           Uncle Tat|          Ng Man-Tat|Dou Sing 2 - Gai ...|tt0112909|                 4.4|             3|\n",
      "| 80596|    Lord Beaverbrook|       Robert Beatty|       The Magic Box|tt0043769|                4.25|             2|\n",
      "|   750|  Inspector Craddock|    Charles Tingwell|     Murder She Said|tt0055205|                4.21|             4|\n",
      "|   750|    Miss Jane Marple| Margaret Rutherford|     Murder She Said|tt0055205|                4.21|             4|\n",
      "|   922|              Nobody|         Gary Farmer|            Dead Man|tt0112817|                 4.2|             2|\n",
      "|   296| Dr. Peter Silberman|           Earl Boen|Terminator 3: Ris...|tt0181852|                4.17|             3|\n",
      "|   296|      The Terminator|Arnold Schwarzene...|Terminator 3: Ris...|tt0181852|                4.17|             6|\n",
      "|  1284|          Dominguero|  Andreu Buenafuente|Torrente 2: Misió...|tt0257231|                4.16|             3|\n",
      "|  1284|                Rafi|       Javier Cámara|Torrente 2: Misió...|tt0257231|                4.16|             2|\n",
      "|  1284|            Barragán|    José María Rubio|Torrente 2: Misió...|tt0257231|                4.16|             2|\n",
      "|  1284|  José Luis Torrente|     Santiago Segura|Torrente 2: Misió...|tt0257231|                4.16|             5|\n",
      "|  1284|            Antoñito|        Cañita Brava|Torrente 2: Misió...|tt0257231|                4.16|             5|\n",
      "|  1284|            Amparito|         Neus Asensi|Torrente 2: Misió...|tt0257231|                4.16|             3|\n",
      "|   950|       Crash (voice)| Seann William Scott|Ice Age: The Melt...|tt0438097|                4.15|             6|\n",
      "|   950|       Scrat (voice)|         Chris Wedge|Ice Age: The Melt...|tt0438097|                4.15|            10|\n",
      "|   950|       Eddie (voice)|           Josh Peck|Ice Age: The Melt...|tt0438097|                4.15|             4|\n",
      "|   950|       Manny (voice)|          Ray Romano|Ice Age: The Melt...|tt0438097|                4.15|             9|\n",
      "|   950|             (voice)|        Ariel Winter|Ice Age: The Melt...|tt0438097|                4.15|             3|\n",
      "|   950|       Diego (voice)|         Denis Leary|Ice Age: The Melt...|tt0438097|                4.15|             8|\n",
      "|   950|       Ellie (voice)|       Queen Latifah|Ice Age: The Melt...|tt0438097|                4.15|             6|\n",
      "|   950|         Sid (voice)|      John Leguizamo|Ice Age: The Melt...|tt0438097|                4.15|             9|\n",
      "|   950|   Fast Tony (voice)|            Jay Leno|Ice Age: The Melt...|tt0438097|                4.15|             2|\n",
      "|   950|             (voice)|        Jess Harnell|Ice Age: The Melt...|tt0438097|                4.15|             2|\n",
      "|   898|  Guard (uncredited)|         Joe McGuinn| Birdman of Alcatraz|tt0055798|                4.11|             2|\n",
      "|   608|          Jack Jeebs|       Tony Shalhoub|     Men in Black II|tt0120912|                4.11|             2|\n",
      "|   668|                   M|         Bernard Lee|On Her Majesty's ...|tt0064757|                 4.1|            11|\n",
      "|   668|     Miss Moneypenny|        Lois Maxwell|On Her Majesty's ...|tt0064757|                 4.1|            14|\n",
      "|   668|                   Q|    Desmond Llewelyn|On Her Majesty's ...|tt0064757|                 4.1|            17|\n",
      "|  1939|Party Guest (uncr...|       Harold Miller|               Laura|tt0037008|                4.08|             3|\n",
      "|  1939|  Woman (uncredited)|       Gloria Marlen|               Laura|tt0037008|                4.08|             2|\n",
      "|  1939|Party Guest (uncr...|        James Conaty|               Laura|tt0037008|                4.08|             2|\n",
      "|  1939|Party Guest (uncr...|          Sam Harris|               Laura|tt0037008|                4.08|             3|\n",
      "|  1939|   Restaurant Patron|        Bess Flowers|               Laura|tt0037008|                4.08|             2|\n",
      "|  2330|Émilien Coutant-K...| Frédéric Diefenthal|                Taxi|tt0152930|                4.07|             4|\n",
      "|  2330|               Alain|    Edouard Montoute|                Taxi|tt0152930|                4.07|             4|\n",
      "|  2330|               Marco|        Malek Bechar|                Taxi|tt0152930|                4.07|             2|\n",
      "|   928|       Gizmo (voice)|        Howie Mandel|Gremlins 2: The N...|tt0099700|                4.07|             2|\n",
      "|  2330|      Daniel Morales|         Samy Naceri|                Taxi|tt0152930|                4.07|             4|\n",
      "|  2330|               Petra|        Emma Wiklund|                Taxi|tt0152930|                4.07|             4|\n",
      "|   928|       Billy Peltzer|       Zach Galligan|Gremlins 2: The N...|tt0099700|                4.07|             2|\n",
      "|  2330|  Commissaire Gibert|       Bernard Farcy|                Taxi|tt0152930|                4.07|             4|\n",
      "|  2330|     Lilly Bertineau|    Marion Cotillard|                Taxi|tt0152930|                4.07|             3|\n",
      "|   928|       Kate Beringer|        Phoebe Cates|Gremlins 2: The N...|tt0099700|                4.07|             2|\n",
      "|   942|       Nick Murtaugh|         Damon Hines|     Lethal Weapon 2|tt0097733|                4.07|             4|\n",
      "+------+--------------------+--------------------+--------------------+---------+--------------------+--------------+\n",
      "only showing top 50 rows\n",
      "\n"
     ]
    }
   ],
   "source": [
    "spark.sql(\"\"\"   \n",
    "with characters as (\n",
    "    select\n",
    "         c.id2\n",
    "         , c.cast_['character'] as character\n",
    "         , c.cast_['name'] as talent\n",
    "        ,count(c.id2) over(partition by c.cast_['character'], c.cast_['name']) franchise_pair \n",
    "    from cast c   \n",
    "    where c.cast_['character'] not in ('Himself', 'Herself', 'himself', 'herself')\n",
    "    \n",
    "), \n",
    "ratings_agg (\n",
    "    select \n",
    "         r.id2\n",
    "        ,round(avg(r.rating2), 2) avg_rating_per_title\n",
    "    from ratings r\n",
    "    group by 1\n",
    ")\n",
    "select\n",
    "     m.id2\n",
    "    ,c.character\n",
    "    ,c.talent\n",
    "    ,m.original_title\n",
    "    ,m.imdb_id \n",
    "    ,r.avg_rating_per_title\n",
    "    ,c.franchise_pair\n",
    "from characters c\n",
    "    join movies m on c.id2 = m.id2\n",
    "    join ratings_agg r on m.id2 = r.id2\n",
    "where c.franchise_pair >= 2\n",
    "order by 6 desc\n",
    "\"\"\").show(50)"
   ]
  },
  {
   "cell_type": "code",
   "execution_count": null,
   "metadata": {},
   "outputs": [],
   "source": []
  },
  {
   "cell_type": "code",
   "execution_count": null,
   "metadata": {},
   "outputs": [],
   "source": []
  },
  {
   "cell_type": "code",
   "execution_count": null,
   "metadata": {},
   "outputs": [],
   "source": []
  },
  {
   "cell_type": "code",
   "execution_count": null,
   "metadata": {},
   "outputs": [],
   "source": []
  },
  {
   "cell_type": "code",
   "execution_count": null,
   "metadata": {},
   "outputs": [],
   "source": []
  },
  {
   "cell_type": "code",
   "execution_count": null,
   "metadata": {},
   "outputs": [],
   "source": []
  },
  {
   "cell_type": "code",
   "execution_count": null,
   "metadata": {},
   "outputs": [],
   "source": []
  },
  {
   "cell_type": "code",
   "execution_count": null,
   "metadata": {},
   "outputs": [],
   "source": []
  },
  {
   "cell_type": "raw",
   "metadata": {},
   "source": []
  },
  {
   "cell_type": "code",
   "execution_count": null,
   "metadata": {},
   "outputs": [],
   "source": []
  }
 ],
 "metadata": {
  "kernelspec": {
   "display_name": "Python 3",
   "language": "python",
   "name": "python3"
  },
  "language_info": {
   "codemirror_mode": {
    "name": "ipython",
    "version": 3
   },
   "file_extension": ".py",
   "mimetype": "text/x-python",
   "name": "python",
   "nbconvert_exporter": "python",
   "pygments_lexer": "ipython3",
   "version": "3.7.1"
  }
 },
 "nbformat": 4,
 "nbformat_minor": 2
}
