{
 "cells": [
  {
   "cell_type": "markdown",
   "metadata": {},
   "source": [
    "### Task #2: Sequel Success Prediction\n",
    "> 1. Given the franchises discovered from task #1, suppose someone wants to predict the success of a sequel that is to be launched, and she/he will partner with you for the task. The ask here is not to develop a prediction model, rather, you need to develop data analysis notebooks for the following subtasks:\n",
    "> 2. Create ground truth for training dataset, similar to the following output: movieId, franchiseId, 0 or 1\n",
    "> 3. 0 means “not successful”, “1” means successful.\n",
    "> 4. You need to provide a clear and reasonable definition of “success”.\n",
    "> 5. Come up with features that can be predictive of sequel success, for each feature, demonstrate why it is predictive or not.\n",
    "> 6. Create training dataset that consists of feature vector and ground truth. No need to do train-test split.\n",
    "> 7. Note: if you choose to skip task #1, you can use “belong_to_collection” column as input to task #2."
   ]
  },
  {
   "cell_type": "markdown",
   "metadata": {},
   "source": [
    "### Notes\n",
    "\n",
    "1. merge ratings, keywords with movies metadata"
   ]
  },
  {
   "cell_type": "code",
   "execution_count": 113,
   "metadata": {},
   "outputs": [
    {
     "data": {
      "text/html": [
       "<style>.container { width:100% !important; }</style>"
      ],
      "text/plain": [
       "<IPython.core.display.HTML object>"
      ]
     },
     "metadata": {},
     "output_type": "display_data"
    }
   ],
   "source": [
    "from IPython.display import display, HTML\n",
    "from IPython.core.interactiveshell import InteractiveShell\n",
    "InteractiveShell.ast_node_interactivity = \"all\"\n",
    "display(HTML(\"<style>.container { width:100% !important; }</style>\"))\n",
    "\n",
    "import os\n",
    "import json\n",
    "import ast\n",
    "import pandas as pd\n",
    "import seaborn as sns\n",
    "import numpy as np"
   ]
  },
  {
   "cell_type": "code",
   "execution_count": 114,
   "metadata": {},
   "outputs": [],
   "source": [
    "movie_franch = pd.read_csv('movies_franchises.csv', engine='python', encoding='utf8')\n",
    "movie_keyrat = pd.read_csv('master_key_ratings.csv', engine='python', encoding='utf8')"
   ]
  },
  {
   "cell_type": "code",
   "execution_count": 115,
   "metadata": {},
   "outputs": [],
   "source": [
    "movie_franch = movie_franch.drop(columns=['Unnamed: 0'])"
   ]
  },
  {
   "cell_type": "code",
   "execution_count": 116,
   "metadata": {},
   "outputs": [],
   "source": [
    "movie_keyrat = movie_keyrat.drop(columns=['Unnamed: 0'])"
   ]
  },
  {
   "cell_type": "code",
   "execution_count": 117,
   "metadata": {
    "scrolled": true
   },
   "outputs": [],
   "source": [
    "franchise_ratings_keywords = pd.merge(movie_franch, movie_keyrat, on='id', how='inner')"
   ]
  },
  {
   "cell_type": "code",
   "execution_count": 118,
   "metadata": {
    "scrolled": true
   },
   "outputs": [
    {
     "data": {
      "text/plain": [
       "Index(['budget', 'id', 'imdb_id', 'original_language', 'title', 'popularity',\n",
       "       'release_date', 'revenue', 'runtime', 'vote_average', 'collection_id',\n",
       "       'collection_name', 'production companies', 'production_countries',\n",
       "       'genres', 'rating', 'rating_timestamp', 'key_agg'],\n",
       "      dtype='object')"
      ]
     },
     "execution_count": 118,
     "metadata": {},
     "output_type": "execute_result"
    }
   ],
   "source": [
    "franchise_ratings_keywords.columns"
   ]
  },
  {
   "cell_type": "code",
   "execution_count": 119,
   "metadata": {},
   "outputs": [],
   "source": [
    "franchise_ratings_keywords[['production companies', 'production_countries', 'genres', 'key_agg']] = franchise_ratings_keywords[['production companies', 'production_countries', 'genres', 'key_agg']].apply(lambda x: x.str.strip('[]'))"
   ]
  },
  {
   "cell_type": "code",
   "execution_count": 120,
   "metadata": {},
   "outputs": [
    {
     "data": {
      "text/html": [
       "<div>\n",
       "<style scoped>\n",
       "    .dataframe tbody tr th:only-of-type {\n",
       "        vertical-align: middle;\n",
       "    }\n",
       "\n",
       "    .dataframe tbody tr th {\n",
       "        vertical-align: top;\n",
       "    }\n",
       "\n",
       "    .dataframe thead th {\n",
       "        text-align: right;\n",
       "    }\n",
       "</style>\n",
       "<table border=\"1\" class=\"dataframe\">\n",
       "  <thead>\n",
       "    <tr style=\"text-align: right;\">\n",
       "      <th></th>\n",
       "      <th>budget</th>\n",
       "      <th>id</th>\n",
       "      <th>imdb_id</th>\n",
       "      <th>original_language</th>\n",
       "      <th>title</th>\n",
       "      <th>popularity</th>\n",
       "      <th>release_date</th>\n",
       "      <th>revenue</th>\n",
       "      <th>runtime</th>\n",
       "      <th>vote_average</th>\n",
       "      <th>collection_id</th>\n",
       "      <th>collection_name</th>\n",
       "      <th>production companies</th>\n",
       "      <th>production_countries</th>\n",
       "      <th>genres</th>\n",
       "      <th>rating</th>\n",
       "      <th>rating_timestamp</th>\n",
       "      <th>key_agg</th>\n",
       "    </tr>\n",
       "  </thead>\n",
       "  <tbody>\n",
       "    <tr>\n",
       "      <td>0</td>\n",
       "      <td>30000000</td>\n",
       "      <td>862</td>\n",
       "      <td>tt0114709</td>\n",
       "      <td>en</td>\n",
       "      <td>Toy Story</td>\n",
       "      <td>21.946943</td>\n",
       "      <td>1995-10-30</td>\n",
       "      <td>373554033</td>\n",
       "      <td>81.0</td>\n",
       "      <td>7.7</td>\n",
       "      <td>10194</td>\n",
       "      <td>Toy Story Collection</td>\n",
       "      <td>'Pixar Animation Studios'</td>\n",
       "      <td>'United States of America'</td>\n",
       "      <td>'Animation', 'Comedy', 'Family'</td>\n",
       "      <td>3.59893</td>\n",
       "      <td>1996-07-25 13:23:13</td>\n",
       "      <td>'jealousy', 'toy', 'boy', 'friendship', 'frien...</td>\n",
       "    </tr>\n",
       "  </tbody>\n",
       "</table>\n",
       "</div>"
      ],
      "text/plain": [
       "     budget   id    imdb_id original_language      title  popularity  \\\n",
       "0  30000000  862  tt0114709                en  Toy Story   21.946943   \n",
       "\n",
       "  release_date    revenue  runtime  vote_average  collection_id  \\\n",
       "0   1995-10-30  373554033     81.0           7.7          10194   \n",
       "\n",
       "        collection_name       production companies  \\\n",
       "0  Toy Story Collection  'Pixar Animation Studios'   \n",
       "\n",
       "         production_countries                           genres   rating  \\\n",
       "0  'United States of America'  'Animation', 'Comedy', 'Family'  3.59893   \n",
       "\n",
       "      rating_timestamp                                            key_agg  \n",
       "0  1996-07-25 13:23:13  'jealousy', 'toy', 'boy', 'friendship', 'frien...  "
      ]
     },
     "execution_count": 120,
     "metadata": {},
     "output_type": "execute_result"
    }
   ],
   "source": [
    "franchise_ratings_keywords.head(1)"
   ]
  },
  {
   "cell_type": "markdown",
   "metadata": {},
   "source": [
    "#### Export Dataset to CSV"
   ]
  },
  {
   "cell_type": "code",
   "execution_count": 121,
   "metadata": {},
   "outputs": [],
   "source": [
    "franchise_ratings_keywords.to_csv('franchise_ratings_keywords.csv', encoding='utf-8')"
   ]
  },
  {
   "cell_type": "code",
   "execution_count": null,
   "metadata": {},
   "outputs": [],
   "source": []
  }
 ],
 "metadata": {
  "hide_input": false,
  "kernelspec": {
   "display_name": "Python 3",
   "language": "python",
   "name": "python3"
  },
  "language_info": {
   "codemirror_mode": {
    "name": "ipython",
    "version": 3
   },
   "file_extension": ".py",
   "mimetype": "text/x-python",
   "name": "python",
   "nbconvert_exporter": "python",
   "pygments_lexer": "ipython3",
   "version": "3.7.1"
  }
 },
 "nbformat": 4,
 "nbformat_minor": 2
}
