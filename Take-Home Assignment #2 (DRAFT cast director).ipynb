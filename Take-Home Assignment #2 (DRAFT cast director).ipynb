{
 "cells": [
  {
   "cell_type": "markdown",
   "metadata": {},
   "source": [
    "### Task #2: Sequel Success Prediction\n",
    "> Data Exploration, Data Cleaning, Model Building (categorical/ variables), Visualizations\n",
    "> 1. Given the franchises discovered from task #1, suppose someone wants to predict the success of a sequel that is to be launched, and she/he will partner with you for the task. The ask here is not to develop a prediction model, rather, you need to develop data analysis notebooks for the following subtasks:\n",
    "> 2. Create ground truth for training dataset, similar to the following output: movieId, franchiseId, 0 or 1\n",
    "> 3. 0 means “not successful”, “1” means successful.\n",
    "> 4. You need to provide a clear and reasonable definition of “success”.\n",
    "> 5. Come up with features that can be predictive of sequel success, for each feature, demonstrate why it is predictive or not.\n",
    "> 6. Create training dataset that consists of feature vector and ground truth. No need to do train-test split.\n",
    "> 7. Note: if you choose to skip task #1, you can use “belong_to_collection” column as input to task #2."
   ]
  },
  {
   "cell_type": "markdown",
   "metadata": {},
   "source": [
    "### Notes\n",
    "> Credits Dataset\n",
    "1. `cast`: extract character, name, credit_id, id\n",
    "2. `crew`: extract name, job, credit_id, id\n",
    "3. `id`: convert to int"
   ]
  },
  {
   "cell_type": "code",
   "execution_count": 6,
   "metadata": {},
   "outputs": [
    {
     "data": {
      "text/html": [
       "<style>.container { width:100% !important; }</style>"
      ],
      "text/plain": [
       "<IPython.core.display.HTML object>"
      ]
     },
     "metadata": {},
     "output_type": "display_data"
    }
   ],
   "source": [
    "from IPython.display import display, HTML\n",
    "from IPython.core.interactiveshell import InteractiveShell\n",
    "InteractiveShell.ast_node_interactivity = \"all\"\n",
    "display(HTML(\"<style>.container { width:100% !important; }</style>\"))\n",
    "\n",
    "import json\n",
    "import ast\n",
    "import pandas as pd\n",
    "import numpy as np"
   ]
  },
  {
   "cell_type": "code",
   "execution_count": 7,
   "metadata": {},
   "outputs": [],
   "source": [
    "cred = pd.read_csv('credits.csv', encoding='utf8', engine='python')"
   ]
  },
  {
   "cell_type": "code",
   "execution_count": 8,
   "metadata": {},
   "outputs": [],
   "source": [
    "credits = cred.copy()"
   ]
  },
  {
   "cell_type": "code",
   "execution_count": 9,
   "metadata": {},
   "outputs": [
    {
     "name": "stdout",
     "output_type": "stream",
     "text": [
      "<class 'pandas.core.frame.DataFrame'>\n",
      "RangeIndex: 45476 entries, 0 to 45475\n",
      "Data columns (total 3 columns):\n",
      "cast    45476 non-null object\n",
      "crew    45476 non-null object\n",
      "id      45476 non-null int64\n",
      "dtypes: int64(1), object(2)\n",
      "memory usage: 1.0+ MB\n"
     ]
    }
   ],
   "source": [
    "credits.info()"
   ]
  },
  {
   "cell_type": "code",
   "execution_count": 10,
   "metadata": {},
   "outputs": [],
   "source": [
    "credits = credits.rename(columns={\"id\": \"join_id\"})"
   ]
  },
  {
   "cell_type": "code",
   "execution_count": 11,
   "metadata": {},
   "outputs": [
    {
     "data": {
      "text/html": [
       "<div>\n",
       "<style scoped>\n",
       "    .dataframe tbody tr th:only-of-type {\n",
       "        vertical-align: middle;\n",
       "    }\n",
       "\n",
       "    .dataframe tbody tr th {\n",
       "        vertical-align: top;\n",
       "    }\n",
       "\n",
       "    .dataframe thead th {\n",
       "        text-align: right;\n",
       "    }\n",
       "</style>\n",
       "<table border=\"1\" class=\"dataframe\">\n",
       "  <thead>\n",
       "    <tr style=\"text-align: right;\">\n",
       "      <th></th>\n",
       "      <th>cast</th>\n",
       "      <th>crew</th>\n",
       "      <th>join_id</th>\n",
       "    </tr>\n",
       "  </thead>\n",
       "  <tbody>\n",
       "    <tr>\n",
       "      <td>0</td>\n",
       "      <td>[{'cast_id': 14, 'character': 'Woody (voice)',...</td>\n",
       "      <td>[{'credit_id': '52fe4284c3a36847f8024f49', 'de...</td>\n",
       "      <td>862</td>\n",
       "    </tr>\n",
       "    <tr>\n",
       "      <td>1</td>\n",
       "      <td>[{'cast_id': 1, 'character': 'Alan Parrish', '...</td>\n",
       "      <td>[{'credit_id': '52fe44bfc3a36847f80a7cd1', 'de...</td>\n",
       "      <td>8844</td>\n",
       "    </tr>\n",
       "    <tr>\n",
       "      <td>2</td>\n",
       "      <td>[{'cast_id': 2, 'character': 'Max Goldman', 'c...</td>\n",
       "      <td>[{'credit_id': '52fe466a9251416c75077a89', 'de...</td>\n",
       "      <td>15602</td>\n",
       "    </tr>\n",
       "    <tr>\n",
       "      <td>3</td>\n",
       "      <td>[{'cast_id': 1, 'character': \"Savannah 'Vannah...</td>\n",
       "      <td>[{'credit_id': '52fe44779251416c91011acb', 'de...</td>\n",
       "      <td>31357</td>\n",
       "    </tr>\n",
       "    <tr>\n",
       "      <td>4</td>\n",
       "      <td>[{'cast_id': 1, 'character': 'George Banks', '...</td>\n",
       "      <td>[{'credit_id': '52fe44959251416c75039ed7', 'de...</td>\n",
       "      <td>11862</td>\n",
       "    </tr>\n",
       "  </tbody>\n",
       "</table>\n",
       "</div>"
      ],
      "text/plain": [
       "                                                cast  \\\n",
       "0  [{'cast_id': 14, 'character': 'Woody (voice)',...   \n",
       "1  [{'cast_id': 1, 'character': 'Alan Parrish', '...   \n",
       "2  [{'cast_id': 2, 'character': 'Max Goldman', 'c...   \n",
       "3  [{'cast_id': 1, 'character': \"Savannah 'Vannah...   \n",
       "4  [{'cast_id': 1, 'character': 'George Banks', '...   \n",
       "\n",
       "                                                crew  join_id  \n",
       "0  [{'credit_id': '52fe4284c3a36847f8024f49', 'de...      862  \n",
       "1  [{'credit_id': '52fe44bfc3a36847f80a7cd1', 'de...     8844  \n",
       "2  [{'credit_id': '52fe466a9251416c75077a89', 'de...    15602  \n",
       "3  [{'credit_id': '52fe44779251416c91011acb', 'de...    31357  \n",
       "4  [{'credit_id': '52fe44959251416c75039ed7', 'de...    11862  "
      ]
     },
     "execution_count": 11,
     "metadata": {},
     "output_type": "execute_result"
    }
   ],
   "source": [
    "credits.head()"
   ]
  },
  {
   "cell_type": "code",
   "execution_count": 12,
   "metadata": {},
   "outputs": [
    {
     "name": "stdout",
     "output_type": "stream",
     "text": [
      "<class 'pandas.core.series.Series'> <class 'pandas.core.series.Series'>\n"
     ]
    }
   ],
   "source": [
    "print(type(credits.crew), type(credits.cast))"
   ]
  },
  {
   "cell_type": "markdown",
   "metadata": {},
   "source": [
    "#### Extract \"Character\",  \"Gender\", \"Name\", \"Order\" from cast_list_dict column"
   ]
  },
  {
   "cell_type": "code",
   "execution_count": 13,
   "metadata": {},
   "outputs": [],
   "source": [
    "credits['cast_list_dict'] = credits.apply(lambda x: ast.literal_eval(str(x['cast'])), axis=1)"
   ]
  },
  {
   "cell_type": "code",
   "execution_count": 14,
   "metadata": {},
   "outputs": [
    {
     "data": {
      "text/plain": [
       "[{'cast_id': 14,\n",
       "  'character': 'Woody (voice)',\n",
       "  'credit_id': '52fe4284c3a36847f8024f95',\n",
       "  'gender': 2,\n",
       "  'id': 31,\n",
       "  'name': 'Tom Hanks',\n",
       "  'order': 0,\n",
       "  'profile_path': '/pQFoyx7rp09CJTAb932F2g8Nlho.jpg'}]"
      ]
     },
     "execution_count": 14,
     "metadata": {},
     "output_type": "execute_result"
    }
   ],
   "source": [
    "credits.cast_list_dict[0][:1]"
   ]
  },
  {
   "cell_type": "code",
   "execution_count": 15,
   "metadata": {},
   "outputs": [
    {
     "data": {
      "text/html": [
       "<div>\n",
       "<style scoped>\n",
       "    .dataframe tbody tr th:only-of-type {\n",
       "        vertical-align: middle;\n",
       "    }\n",
       "\n",
       "    .dataframe tbody tr th {\n",
       "        vertical-align: top;\n",
       "    }\n",
       "\n",
       "    .dataframe thead th {\n",
       "        text-align: right;\n",
       "    }\n",
       "</style>\n",
       "<table border=\"1\" class=\"dataframe\">\n",
       "  <thead>\n",
       "    <tr style=\"text-align: right;\">\n",
       "      <th></th>\n",
       "      <th>cast</th>\n",
       "      <th>crew</th>\n",
       "      <th>join_id</th>\n",
       "      <th>cast_list_dict</th>\n",
       "    </tr>\n",
       "  </thead>\n",
       "  <tbody>\n",
       "    <tr>\n",
       "      <td>0</td>\n",
       "      <td>[{'cast_id': 14, 'character': 'Woody (voice)',...</td>\n",
       "      <td>[{'credit_id': '52fe4284c3a36847f8024f49', 'de...</td>\n",
       "      <td>862</td>\n",
       "      <td>[{'cast_id': 14, 'character': 'Woody (voice)',...</td>\n",
       "    </tr>\n",
       "  </tbody>\n",
       "</table>\n",
       "</div>"
      ],
      "text/plain": [
       "                                                cast  \\\n",
       "0  [{'cast_id': 14, 'character': 'Woody (voice)',...   \n",
       "\n",
       "                                                crew  join_id  \\\n",
       "0  [{'credit_id': '52fe4284c3a36847f8024f49', 'de...      862   \n",
       "\n",
       "                                      cast_list_dict  \n",
       "0  [{'cast_id': 14, 'character': 'Woody (voice)',...  "
      ]
     },
     "execution_count": 15,
     "metadata": {},
     "output_type": "execute_result"
    }
   ],
   "source": [
    "credits.head(1)"
   ]
  },
  {
   "cell_type": "markdown",
   "metadata": {},
   "source": [
    "#### Extract \"Job\", \"Gender\", and \"Name\" from crew_list_dict column"
   ]
  },
  {
   "cell_type": "code",
   "execution_count": 16,
   "metadata": {},
   "outputs": [],
   "source": [
    "credits['crew_list_dict'] = credits.apply(lambda x: ast.literal_eval(str(x['crew'])), axis=1) # convert to list of dictionaries"
   ]
  },
  {
   "cell_type": "code",
   "execution_count": 17,
   "metadata": {},
   "outputs": [
    {
     "data": {
      "text/plain": [
       "[{'credit_id': '52fe4284c3a36847f8024f49',\n",
       "  'department': 'Directing',\n",
       "  'gender': 2,\n",
       "  'id': 7879,\n",
       "  'job': 'Director',\n",
       "  'name': 'John Lasseter',\n",
       "  'profile_path': '/7EdqiNbr4FRjIhKHyPPdFfEEEFG.jpg'}]"
      ]
     },
     "execution_count": 17,
     "metadata": {},
     "output_type": "execute_result"
    }
   ],
   "source": [
    "credits.crew_list_dict[0][:1]"
   ]
  },
  {
   "cell_type": "markdown",
   "metadata": {},
   "source": [
    "#### Iterate over dictionaries and extract to join on movie \"id\" "
   ]
  },
  {
   "cell_type": "code",
   "execution_count": 18,
   "metadata": {},
   "outputs": [
    {
     "data": {
      "text/plain": [
       "'Bonnie Arnold'"
      ]
     },
     "execution_count": 18,
     "metadata": {},
     "output_type": "execute_result"
    }
   ],
   "source": [
    "credits['crew_list_dict'][0][5]['name']"
   ]
  },
  {
   "cell_type": "code",
   "execution_count": 19,
   "metadata": {},
   "outputs": [],
   "source": [
    "director_actor_df = pd.DataFrame(None,None,columns=['movie_id','talent_character', 'talent_name', 'talent_gender','director_gender','director_name'])"
   ]
  },
  {
   "cell_type": "code",
   "execution_count": 20,
   "metadata": {},
   "outputs": [],
   "source": [
    "# categories = ['gender', 'order', 'name', 'job', 'character']\n",
    "# creds_dicts = ['cast_list_dict', 'crew_list_dict' ]\n",
    "\n",
    "# for item, row in credits.iterrows():\n",
    "#     dir_talent_row = {'movie_id': np.nan, 'movie_id': np.nan,\n",
    "#             'talent_character': np.nan,'talent_name': np.nan,\n",
    "#             'talent_gender': np.nan, 'director_gender': np.nan,\n",
    "#             'director_name':np.nan}\n",
    "    \n",
    "#     dir_talent_row['movie_id'] = int(row['join_id'])\n",
    "    \n",
    "#     talent=0\n",
    "#     for item in row['cast_list_dict']:\n",
    "#         if talent==1:\n",
    "#             break\n",
    "#         if item in categories: \n",
    "#             print('item talent:', item)\n",
    "#             dir_talent_row['gender'] = item['gender']\n",
    "#             dir_talent_row['order'] = item['order']\n",
    "#             dir_talent_row['name'] = item['name']\n",
    "#             dir_talent_row['character'] = item['character']\n",
    "#             talent+=1\n",
    "    \n",
    "#     crew=0\n",
    "#     for item in row['crew_list_dict']:\n",
    "#         if crew==1:\n",
    "#             break     # gender, name\n",
    "#         if item in categories and categories[3] == 'Director':\n",
    "#             print('item director: ', item)\n",
    "#             dir_talent_row['gender'] = item['gender']\n",
    "#             dir_talent_row['name'] = item['name']\n",
    "#             crew+=1 \n",
    "    \n",
    "#     credits_new = director_actor_df.append(dir_talent_row, ignore_index=True)"
   ]
  },
  {
   "cell_type": "code",
   "execution_count": 21,
   "metadata": {},
   "outputs": [],
   "source": [
    "# director_actor_df.head()"
   ]
  },
  {
   "cell_type": "code",
   "execution_count": 22,
   "metadata": {},
   "outputs": [],
   "source": [
    "# credits_new.head()"
   ]
  },
  {
   "cell_type": "code",
   "execution_count": 327,
   "metadata": {},
   "outputs": [
    {
     "data": {
      "text/plain": [
       "(1, 6)"
      ]
     },
     "execution_count": 327,
     "metadata": {},
     "output_type": "execute_result"
    }
   ],
   "source": [
    "credits_new.shape"
   ]
  },
  {
   "cell_type": "code",
   "execution_count": 55,
   "metadata": {
    "scrolled": true
   },
   "outputs": [],
   "source": [
    "credits = credits.rename(columns={\"id\": \"join_id\"})\n",
    "cast_ = cast_.rename(columns={\"id\": \"cast_ref_id\", \"credit_id\": \"cr_credit_id\", \"gender\": \"ca_gender\", \"name\": \"cast_name\" })\n",
    "crew_ = crew_.rename(columns={\"id\": \"crew_ref_id\", \"credit_id\": \"ca_credit_id\", \"gender\": \"cr_gender\", \"name\": \"crew_name\" })"
   ]
  },
  {
   "cell_type": "markdown",
   "metadata": {},
   "source": [
    "### Merge DataFrames"
   ]
  },
  {
   "cell_type": "code",
   "execution_count": 73,
   "metadata": {},
   "outputs": [],
   "source": [
    "credits.reset_index(drop=True, inplace=True)\n",
    "cast_.reset_index(drop=True, inplace=True)\n",
    "crew_.reset_index(drop=True, inplace=True)"
   ]
  },
  {
   "cell_type": "code",
   "execution_count": 74,
   "metadata": {},
   "outputs": [],
   "source": [
    "master_credits = pd.concat([cast_, crew_, credits] , axis=1)"
   ]
  },
  {
   "cell_type": "code",
   "execution_count": 75,
   "metadata": {},
   "outputs": [
    {
     "data": {
      "text/html": [
       "<div>\n",
       "<style scoped>\n",
       "    .dataframe tbody tr th:only-of-type {\n",
       "        vertical-align: middle;\n",
       "    }\n",
       "\n",
       "    .dataframe tbody tr th {\n",
       "        vertical-align: top;\n",
       "    }\n",
       "\n",
       "    .dataframe thead th {\n",
       "        text-align: right;\n",
       "    }\n",
       "</style>\n",
       "<table border=\"1\" class=\"dataframe\">\n",
       "  <thead>\n",
       "    <tr style=\"text-align: right;\">\n",
       "      <th></th>\n",
       "      <th>0</th>\n",
       "      <th>cast_id</th>\n",
       "      <th>character</th>\n",
       "      <th>cr_credit_id</th>\n",
       "      <th>ca_gender</th>\n",
       "      <th>cast_ref_id</th>\n",
       "      <th>cast_name</th>\n",
       "      <th>order</th>\n",
       "      <th>profile_path</th>\n",
       "      <th>0</th>\n",
       "      <th>...</th>\n",
       "      <th>cr_gender</th>\n",
       "      <th>crew_ref_id</th>\n",
       "      <th>job</th>\n",
       "      <th>crew_name</th>\n",
       "      <th>profile_path</th>\n",
       "      <th>cast</th>\n",
       "      <th>crew</th>\n",
       "      <th>join_id</th>\n",
       "      <th>cast_list_dict</th>\n",
       "      <th>crew_list_dict</th>\n",
       "    </tr>\n",
       "  </thead>\n",
       "  <tbody>\n",
       "    <tr>\n",
       "      <td>0</td>\n",
       "      <td></td>\n",
       "      <td>14</td>\n",
       "      <td>Woody (voice)</td>\n",
       "      <td>52fe4284c3a36847f8024f95</td>\n",
       "      <td>2</td>\n",
       "      <td>31</td>\n",
       "      <td>Tom Hanks</td>\n",
       "      <td>0</td>\n",
       "      <td>/pQFoyx7rp09CJTAb932F2g8Nlho.jpg</td>\n",
       "      <td></td>\n",
       "      <td>...</td>\n",
       "      <td>2</td>\n",
       "      <td>7879</td>\n",
       "      <td>Director</td>\n",
       "      <td>John Lasseter</td>\n",
       "      <td>/7EdqiNbr4FRjIhKHyPPdFfEEEFG.jpg</td>\n",
       "      <td>[{'cast_id': 14, 'character': 'Woody (voice)',...</td>\n",
       "      <td>[{'credit_id': '52fe4284c3a36847f8024f49', 'de...</td>\n",
       "      <td>862.0</td>\n",
       "      <td>[{'cast_id': 14, 'character': 'Woody (voice)',...</td>\n",
       "      <td>[{'credit_id': '52fe4284c3a36847f8024f49', 'de...</td>\n",
       "    </tr>\n",
       "  </tbody>\n",
       "</table>\n",
       "<p>1 rows × 22 columns</p>\n",
       "</div>"
      ],
      "text/plain": [
       "  0 cast_id      character              cr_credit_id ca_gender cast_ref_id  \\\n",
       "0        14  Woody (voice)  52fe4284c3a36847f8024f95         2          31   \n",
       "\n",
       "   cast_name order                      profile_path 0  ... cr_gender  \\\n",
       "0  Tom Hanks     0  /pQFoyx7rp09CJTAb932F2g8Nlho.jpg    ...         2   \n",
       "\n",
       "  crew_ref_id       job      crew_name                      profile_path  \\\n",
       "0        7879  Director  John Lasseter  /7EdqiNbr4FRjIhKHyPPdFfEEEFG.jpg   \n",
       "\n",
       "                                                cast  \\\n",
       "0  [{'cast_id': 14, 'character': 'Woody (voice)',...   \n",
       "\n",
       "                                                crew join_id  \\\n",
       "0  [{'credit_id': '52fe4284c3a36847f8024f49', 'de...   862.0   \n",
       "\n",
       "                                      cast_list_dict  \\\n",
       "0  [{'cast_id': 14, 'character': 'Woody (voice)',...   \n",
       "\n",
       "                                      crew_list_dict  \n",
       "0  [{'credit_id': '52fe4284c3a36847f8024f49', 'de...  \n",
       "\n",
       "[1 rows x 22 columns]"
      ]
     },
     "execution_count": 75,
     "metadata": {},
     "output_type": "execute_result"
    }
   ],
   "source": [
    "master_credits.head(1)"
   ]
  },
  {
   "cell_type": "markdown",
   "metadata": {},
   "source": [
    "### Drop Columns"
   ]
  },
  {
   "cell_type": "code",
   "execution_count": 76,
   "metadata": {},
   "outputs": [
    {
     "data": {
      "text/plain": [
       "Index([               0,        'cast_id',      'character',   'cr_credit_id',\n",
       "            'ca_gender',    'cast_ref_id',      'cast_name',          'order',\n",
       "         'profile_path',                0,   'ca_credit_id',     'department',\n",
       "            'cr_gender',    'crew_ref_id',            'job',      'crew_name',\n",
       "         'profile_path',           'cast',           'crew',        'join_id',\n",
       "       'cast_list_dict', 'crew_list_dict'],\n",
       "      dtype='object')"
      ]
     },
     "execution_count": 76,
     "metadata": {},
     "output_type": "execute_result"
    }
   ],
   "source": [
    "master_credits.columns"
   ]
  },
  {
   "cell_type": "code",
   "execution_count": 77,
   "metadata": {},
   "outputs": [],
   "source": [
    "master_credits = master_credits.drop(columns=[0, 0, 'profile_path', 'profile_path' ,'cast_list_dict', 'cast', 'crew_list_dict', 'crew'])"
   ]
  },
  {
   "cell_type": "code",
   "execution_count": 80,
   "metadata": {},
   "outputs": [
    {
     "data": {
      "text/html": [
       "<div>\n",
       "<style scoped>\n",
       "    .dataframe tbody tr th:only-of-type {\n",
       "        vertical-align: middle;\n",
       "    }\n",
       "\n",
       "    .dataframe tbody tr th {\n",
       "        vertical-align: top;\n",
       "    }\n",
       "\n",
       "    .dataframe thead th {\n",
       "        text-align: right;\n",
       "    }\n",
       "</style>\n",
       "<table border=\"1\" class=\"dataframe\">\n",
       "  <thead>\n",
       "    <tr style=\"text-align: right;\">\n",
       "      <th></th>\n",
       "      <th>cast_id</th>\n",
       "      <th>character</th>\n",
       "      <th>cr_credit_id</th>\n",
       "      <th>ca_gender</th>\n",
       "      <th>cast_ref_id</th>\n",
       "      <th>cast_name</th>\n",
       "      <th>order</th>\n",
       "      <th>ca_credit_id</th>\n",
       "      <th>department</th>\n",
       "      <th>cr_gender</th>\n",
       "      <th>crew_ref_id</th>\n",
       "      <th>job</th>\n",
       "      <th>crew_name</th>\n",
       "      <th>join_id</th>\n",
       "    </tr>\n",
       "  </thead>\n",
       "  <tbody>\n",
       "    <tr>\n",
       "      <td>0</td>\n",
       "      <td>14</td>\n",
       "      <td>Woody (voice)</td>\n",
       "      <td>52fe4284c3a36847f8024f95</td>\n",
       "      <td>2</td>\n",
       "      <td>31</td>\n",
       "      <td>Tom Hanks</td>\n",
       "      <td>0</td>\n",
       "      <td>52fe4284c3a36847f8024f49</td>\n",
       "      <td>Directing</td>\n",
       "      <td>2</td>\n",
       "      <td>7879</td>\n",
       "      <td>Director</td>\n",
       "      <td>John Lasseter</td>\n",
       "      <td>862.0</td>\n",
       "    </tr>\n",
       "    <tr>\n",
       "      <td>1</td>\n",
       "      <td>15</td>\n",
       "      <td>Buzz Lightyear (voice)</td>\n",
       "      <td>52fe4284c3a36847f8024f99</td>\n",
       "      <td>2</td>\n",
       "      <td>12898</td>\n",
       "      <td>Tim Allen</td>\n",
       "      <td>1</td>\n",
       "      <td>52fe4284c3a36847f8024f4f</td>\n",
       "      <td>Writing</td>\n",
       "      <td>2</td>\n",
       "      <td>12891</td>\n",
       "      <td>Screenplay</td>\n",
       "      <td>Joss Whedon</td>\n",
       "      <td>8844.0</td>\n",
       "    </tr>\n",
       "    <tr>\n",
       "      <td>2</td>\n",
       "      <td>16</td>\n",
       "      <td>Mr. Potato Head (voice)</td>\n",
       "      <td>52fe4284c3a36847f8024f9d</td>\n",
       "      <td>2</td>\n",
       "      <td>7167</td>\n",
       "      <td>Don Rickles</td>\n",
       "      <td>2</td>\n",
       "      <td>52fe4284c3a36847f8024f55</td>\n",
       "      <td>Writing</td>\n",
       "      <td>2</td>\n",
       "      <td>7</td>\n",
       "      <td>Screenplay</td>\n",
       "      <td>Andrew Stanton</td>\n",
       "      <td>15602.0</td>\n",
       "    </tr>\n",
       "    <tr>\n",
       "      <td>3</td>\n",
       "      <td>17</td>\n",
       "      <td>Slinky Dog (voice)</td>\n",
       "      <td>52fe4284c3a36847f8024fa1</td>\n",
       "      <td>2</td>\n",
       "      <td>12899</td>\n",
       "      <td>Jim Varney</td>\n",
       "      <td>3</td>\n",
       "      <td>52fe4284c3a36847f8024f5b</td>\n",
       "      <td>Writing</td>\n",
       "      <td>2</td>\n",
       "      <td>12892</td>\n",
       "      <td>Screenplay</td>\n",
       "      <td>Joel Cohen</td>\n",
       "      <td>31357.0</td>\n",
       "    </tr>\n",
       "    <tr>\n",
       "      <td>4</td>\n",
       "      <td>18</td>\n",
       "      <td>Rex (voice)</td>\n",
       "      <td>52fe4284c3a36847f8024fa5</td>\n",
       "      <td>2</td>\n",
       "      <td>12900</td>\n",
       "      <td>Wallace Shawn</td>\n",
       "      <td>4</td>\n",
       "      <td>52fe4284c3a36847f8024f61</td>\n",
       "      <td>Writing</td>\n",
       "      <td>0</td>\n",
       "      <td>12893</td>\n",
       "      <td>Screenplay</td>\n",
       "      <td>Alec Sokolow</td>\n",
       "      <td>11862.0</td>\n",
       "    </tr>\n",
       "  </tbody>\n",
       "</table>\n",
       "</div>"
      ],
      "text/plain": [
       "  cast_id                character              cr_credit_id ca_gender  \\\n",
       "0      14            Woody (voice)  52fe4284c3a36847f8024f95         2   \n",
       "1      15   Buzz Lightyear (voice)  52fe4284c3a36847f8024f99         2   \n",
       "2      16  Mr. Potato Head (voice)  52fe4284c3a36847f8024f9d         2   \n",
       "3      17       Slinky Dog (voice)  52fe4284c3a36847f8024fa1         2   \n",
       "4      18              Rex (voice)  52fe4284c3a36847f8024fa5         2   \n",
       "\n",
       "  cast_ref_id      cast_name order              ca_credit_id department  \\\n",
       "0          31      Tom Hanks     0  52fe4284c3a36847f8024f49  Directing   \n",
       "1       12898      Tim Allen     1  52fe4284c3a36847f8024f4f    Writing   \n",
       "2        7167    Don Rickles     2  52fe4284c3a36847f8024f55    Writing   \n",
       "3       12899     Jim Varney     3  52fe4284c3a36847f8024f5b    Writing   \n",
       "4       12900  Wallace Shawn     4  52fe4284c3a36847f8024f61    Writing   \n",
       "\n",
       "  cr_gender crew_ref_id         job       crew_name  join_id  \n",
       "0         2        7879    Director   John Lasseter    862.0  \n",
       "1         2       12891  Screenplay     Joss Whedon   8844.0  \n",
       "2         2           7  Screenplay  Andrew Stanton  15602.0  \n",
       "3         2       12892  Screenplay      Joel Cohen  31357.0  \n",
       "4         0       12893  Screenplay    Alec Sokolow  11862.0  "
      ]
     },
     "execution_count": 80,
     "metadata": {},
     "output_type": "execute_result"
    }
   ],
   "source": [
    "master_credits.head()"
   ]
  },
  {
   "cell_type": "code",
   "execution_count": 85,
   "metadata": {},
   "outputs": [
    {
     "name": "stdout",
     "output_type": "stream",
     "text": [
      "<class 'pandas.core.frame.DataFrame'>\n",
      "RangeIndex: 564892 entries, 0 to 564891\n",
      "Data columns (total 14 columns):\n",
      "cast_id         564892 non-null object\n",
      "character       564892 non-null object\n",
      "cr_credit_id    564892 non-null object\n",
      "ca_gender       564892 non-null object\n",
      "cast_ref_id     564892 non-null object\n",
      "cast_name       564892 non-null object\n",
      "order           564892 non-null object\n",
      "ca_credit_id    465085 non-null object\n",
      "department      465085 non-null object\n",
      "cr_gender       465085 non-null object\n",
      "crew_ref_id     465085 non-null object\n",
      "job             465085 non-null object\n",
      "crew_name       465085 non-null object\n",
      "join_id         45476 non-null float64\n",
      "dtypes: float64(1), object(13)\n",
      "memory usage: 60.3+ MB\n"
     ]
    }
   ],
   "source": [
    "master_credits.info()"
   ]
  },
  {
   "cell_type": "markdown",
   "metadata": {},
   "source": [
    "### Correct Data Types"
   ]
  },
  {
   "cell_type": "code",
   "execution_count": 84,
   "metadata": {},
   "outputs": [],
   "source": [
    "# master_credits['join_id'] = master_credits['join_id'].astype(str).extract('(\\d+)', expand=False).fillna(0).replace(0, np.nan).astype(int)  "
   ]
  },
  {
   "cell_type": "code",
   "execution_count": 65,
   "metadata": {},
   "outputs": [],
   "source": [
    "categorical_dtypes = ['character', 'ca_gender', 'cast_name', 'cr_gender', 'job', 'crew_name']"
   ]
  },
  {
   "cell_type": "code",
   "execution_count": 66,
   "metadata": {},
   "outputs": [],
   "source": [
    "for var in categorical_dtypes:\n",
    "    ordered_var = pd.api.types.CategoricalDtype(ordered = True, categories = categorical_dtypes)\n",
    "    master_credits[var] = master_credits[var].astype(ordered_var)"
   ]
  },
  {
   "cell_type": "markdown",
   "metadata": {},
   "source": [
    "### Export Tidy Dataset to CSV"
   ]
  },
  {
   "cell_type": "code",
   "execution_count": null,
   "metadata": {},
   "outputs": [],
   "source": [
    "master_credits.to_csv(\"master_credits.csv\", encoding='utf-8')"
   ]
  }
 ],
 "metadata": {
  "hide_input": false,
  "kernelspec": {
   "display_name": "Python 3",
   "language": "python",
   "name": "python3"
  },
  "language_info": {
   "codemirror_mode": {
    "name": "ipython",
    "version": 3
   },
   "file_extension": ".py",
   "mimetype": "text/x-python",
   "name": "python",
   "nbconvert_exporter": "python",
   "pygments_lexer": "ipython3",
   "version": "3.7.1"
  }
 },
 "nbformat": 4,
 "nbformat_minor": 2
}
