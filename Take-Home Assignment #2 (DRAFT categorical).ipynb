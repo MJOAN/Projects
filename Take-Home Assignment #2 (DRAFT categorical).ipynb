{
 "cells": [
  {
   "cell_type": "markdown",
   "metadata": {},
   "source": [
    "### Task #2: Sequel Success Prediction\n",
    "> 1. Given the franchises discovered from task #1, suppose someone wants to predict the success of a sequel that is to be launched, and she/he will partner with you for the task. The ask here is not to develop a prediction model, rather, you need to develop data analysis notebooks for the following subtasks:\n",
    "> 2. Create ground truth for training dataset, similar to the following output: movieId, franchiseId, 0 or 1\n",
    "> 3. 0 means “not successful”, “1” means successful.\n",
    "> 4. You need to provide a clear and reasonable definition of “success”.\n",
    "> 5. Come up with features that can be predictive of sequel success, for each feature, demonstrate why it is predictive or not.\n",
    "> 6. Create training dataset that consists of feature vector and ground truth. No need to do train-test split.\n",
    "> 7. Note: if you choose to skip task #1, you can use “belong_to_collection” column as input to task #2."
   ]
  },
  {
   "cell_type": "markdown",
   "metadata": {},
   "source": [
    "### Notes\n",
    "\n",
    "1. add categorical variables for genre, and keywords\n",
    "2. do OLS summary on revenue with rating metrics"
   ]
  },
  {
   "cell_type": "code",
   "execution_count": 8,
   "metadata": {},
   "outputs": [
    {
     "data": {
      "text/html": [
       "<style>.container { width:100% !important; }</style>"
      ],
      "text/plain": [
       "<IPython.core.display.HTML object>"
      ]
     },
     "metadata": {},
     "output_type": "display_data"
    }
   ],
   "source": [
    "from IPython.display import display, HTML\n",
    "from IPython.core.interactiveshell import InteractiveShell\n",
    "InteractiveShell.ast_node_interactivity = \"all\"\n",
    "display(HTML(\"<style>.container { width:100% !important; }</style>\"))\n",
    "\n",
    "import json\n",
    "import ast\n",
    "\n",
    "import datetime\n",
    "from dateutil.relativedelta import relativedelta\n",
    "\n",
    "import pandas as pd\n",
    "from pandas import Timestamp\n",
    "pd.set_option('mode.chained_assignment', None)\n",
    "import seaborn as sns\n",
    "import numpy as np\n",
    "\n",
    "from sklearn.linear_model import LogisticRegression\n",
    "from sklearn.metrics import confusion_matrix, precision_score, recall_score, accuracy_score\n",
    "from sklearn.model_selection import train_test_split\n",
    "np.random.seed(42)\n",
    "\n",
    "import matplotlib\n",
    "import matplotlib.pyplot as plt\n",
    "%matplotlib inline\n",
    "import scipy as sp"
   ]
  },
  {
   "cell_type": "code",
   "execution_count": 9,
   "metadata": {},
   "outputs": [],
   "source": [
    "master = pd.read_csv('franchises.csv', engine='python', encoding='utf8', parse_dates=['release_date'])"
   ]
  },
  {
   "cell_type": "code",
   "execution_count": 10,
   "metadata": {},
   "outputs": [],
   "source": [
    "additional_features = master.copy()"
   ]
  },
  {
   "cell_type": "code",
   "execution_count": 11,
   "metadata": {},
   "outputs": [],
   "source": [
    "additional_features = additional_features.drop(columns=['Unnamed: 0'])"
   ]
  },
  {
   "cell_type": "code",
   "execution_count": 12,
   "metadata": {},
   "outputs": [],
   "source": [
    "additional_features['release_date'] = pd.to_datetime(additional_features['release_date'], errors='coerce').dt.strftime(\"%Y%m%d\")\n",
    "additional_features['rating_timestamp'] = pd.to_datetime(additional_features['rating_timestamp'], errors='coerce').dt.strftime(\"%Y%m%d\")"
   ]
  },
  {
   "cell_type": "code",
   "execution_count": 13,
   "metadata": {},
   "outputs": [
    {
     "data": {
      "text/plain": [
       "Index(['budget', 'id', 'imdb_id', 'original_language', 'title', 'popularity',\n",
       "       'release_date', 'revenue', 'runtime', 'vote_average', 'collection_id',\n",
       "       'collection_name', 'production companies', 'production_countries',\n",
       "       'genres', 'rating', 'rating_timestamp', 'key_agg'],\n",
       "      dtype='object')"
      ]
     },
     "execution_count": 13,
     "metadata": {},
     "output_type": "execute_result"
    }
   ],
   "source": [
    "additional_features.columns  "
   ]
  },
  {
   "cell_type": "markdown",
   "metadata": {},
   "source": [
    "#### Filtering dataframe to include only prequel and sequel (w/ same collection id)"
   ]
  },
  {
   "cell_type": "code",
   "execution_count": 14,
   "metadata": {},
   "outputs": [],
   "source": [
    "additional_features = additional_features.sort_values('revenue', ascending=False).head(500)"
   ]
  },
  {
   "cell_type": "code",
   "execution_count": 15,
   "metadata": {},
   "outputs": [
    {
     "data": {
      "text/plain": [
       "Index(['budget', 'id', 'imdb_id', 'original_language', 'title', 'popularity',\n",
       "       'release_date', 'revenue', 'runtime', 'vote_average', 'collection_id',\n",
       "       'collection_name', 'production companies', 'production_countries',\n",
       "       'genres', 'rating', 'rating_timestamp', 'key_agg'],\n",
       "      dtype='object')"
      ]
     },
     "execution_count": 15,
     "metadata": {},
     "output_type": "execute_result"
    }
   ],
   "source": [
    "additional_features.columns"
   ]
  },
  {
   "cell_type": "code",
   "execution_count": 16,
   "metadata": {},
   "outputs": [],
   "source": [
    "get_sequels = additional_features.sort_values(by=['collection_id', 'release_date'], ascending=True)"
   ]
  },
  {
   "cell_type": "code",
   "execution_count": 17,
   "metadata": {},
   "outputs": [],
   "source": [
    "get_sequels['prev_title'] = get_sequels.title.shift(1)   # get previous row using shift because we grouped by id and sored date asc\n",
    "get_sequels['prev_collection_id'] = get_sequels.collection_id.shift(1)   # get previous title id  \n",
    "get_sequels['prev_collection_revenue'] = get_sequels.revenue.shift(1)   # get previous title revenue\n",
    "get_sequels['prev_collection_release_date'] = get_sequels.release_date.shift(1)   # get previous title revenue"
   ]
  },
  {
   "cell_type": "code",
   "execution_count": 18,
   "metadata": {},
   "outputs": [],
   "source": [
    "get_sequels['prev_collection_rating'] = get_sequels.rating.shift(1)   # get previous title revenue\n",
    "get_sequels['prev_collection_popularity'] = get_sequels.popularity.shift(1)   # get previous title revenue\n",
    "get_sequels['prev_collection_vote_average'] = get_sequels.vote_average.shift(1)   # get previous title revenue"
   ]
  },
  {
   "cell_type": "code",
   "execution_count": 19,
   "metadata": {},
   "outputs": [],
   "source": [
    "get_sequels['prev_collection_keywords'] = get_sequels.key_agg.shift(1)   # get previous title keywords\n",
    "get_sequels['prev_collection_genres'] = get_sequels.genres.shift(1)   # get previous title genres"
   ]
  },
  {
   "cell_type": "code",
   "execution_count": 20,
   "metadata": {},
   "outputs": [
    {
     "data": {
      "text/html": [
       "<div>\n",
       "<style scoped>\n",
       "    .dataframe tbody tr th:only-of-type {\n",
       "        vertical-align: middle;\n",
       "    }\n",
       "\n",
       "    .dataframe tbody tr th {\n",
       "        vertical-align: top;\n",
       "    }\n",
       "\n",
       "    .dataframe thead th {\n",
       "        text-align: right;\n",
       "    }\n",
       "</style>\n",
       "<table border=\"1\" class=\"dataframe\">\n",
       "  <thead>\n",
       "    <tr style=\"text-align: right;\">\n",
       "      <th></th>\n",
       "      <th>budget</th>\n",
       "      <th>id</th>\n",
       "      <th>imdb_id</th>\n",
       "      <th>original_language</th>\n",
       "      <th>title</th>\n",
       "      <th>popularity</th>\n",
       "      <th>release_date</th>\n",
       "      <th>revenue</th>\n",
       "      <th>runtime</th>\n",
       "      <th>vote_average</th>\n",
       "      <th>...</th>\n",
       "      <th>prev_title</th>\n",
       "      <th>prev_collection_id</th>\n",
       "      <th>prev_collection_revenue</th>\n",
       "      <th>prev_collection_release_date</th>\n",
       "      <th>prev_collection_rating</th>\n",
       "      <th>prev_collection_popularity</th>\n",
       "      <th>prev_collection_vote_average</th>\n",
       "      <th>prev_collection_keywords</th>\n",
       "      <th>prev_collection_genres</th>\n",
       "      <th>prequel_title</th>\n",
       "    </tr>\n",
       "  </thead>\n",
       "  <tbody>\n",
       "    <tr>\n",
       "      <td>27</td>\n",
       "      <td>11000000</td>\n",
       "      <td>11</td>\n",
       "      <td>tt0076759</td>\n",
       "      <td>en</td>\n",
       "      <td>Star Wars</td>\n",
       "      <td>42.149697</td>\n",
       "      <td>19770525</td>\n",
       "      <td>775398007</td>\n",
       "      <td>121.0</td>\n",
       "      <td>8.1</td>\n",
       "      <td>...</td>\n",
       "      <td>NaN</td>\n",
       "      <td>NaN</td>\n",
       "      <td>NaN</td>\n",
       "      <td>NaN</td>\n",
       "      <td>NaN</td>\n",
       "      <td>NaN</td>\n",
       "      <td>NaN</td>\n",
       "      <td>NaN</td>\n",
       "      <td>NaN</td>\n",
       "      <td>NaN</td>\n",
       "    </tr>\n",
       "  </tbody>\n",
       "</table>\n",
       "<p>1 rows × 28 columns</p>\n",
       "</div>"
      ],
      "text/plain": [
       "      budget  id    imdb_id original_language      title  popularity  \\\n",
       "27  11000000  11  tt0076759                en  Star Wars   42.149697   \n",
       "\n",
       "   release_date    revenue  runtime  vote_average  ...  prev_title  \\\n",
       "27     19770525  775398007    121.0           8.1  ...         NaN   \n",
       "\n",
       "   prev_collection_id prev_collection_revenue prev_collection_release_date  \\\n",
       "27                NaN                     NaN                          NaN   \n",
       "\n",
       "   prev_collection_rating  prev_collection_popularity  \\\n",
       "27                    NaN                         NaN   \n",
       "\n",
       "   prev_collection_vote_average prev_collection_keywords  \\\n",
       "27                          NaN                      NaN   \n",
       "\n",
       "   prev_collection_genres  prequel_title  \n",
       "27                    NaN            NaN  \n",
       "\n",
       "[1 rows x 28 columns]"
      ]
     },
     "execution_count": 20,
     "metadata": {},
     "output_type": "execute_result"
    }
   ],
   "source": [
    "get_sequels['prequel_title'] = get_sequels.apply(lambda x: x['prev_title'] if x['collection_id'] == x['prev_collection_id'] else None, axis=1)  # validating previous/sequel\n",
    "get_sequels.head(1) # if prequel title is None it's doesn't have a sequel (here we are validating with #id of collection/ franchise group)"
   ]
  },
  {
   "cell_type": "code",
   "execution_count": 21,
   "metadata": {},
   "outputs": [
    {
     "data": {
      "text/html": [
       "<div>\n",
       "<style scoped>\n",
       "    .dataframe tbody tr th:only-of-type {\n",
       "        vertical-align: middle;\n",
       "    }\n",
       "\n",
       "    .dataframe tbody tr th {\n",
       "        vertical-align: top;\n",
       "    }\n",
       "\n",
       "    .dataframe thead th {\n",
       "        text-align: right;\n",
       "    }\n",
       "</style>\n",
       "<table border=\"1\" class=\"dataframe\">\n",
       "  <thead>\n",
       "    <tr style=\"text-align: right;\">\n",
       "      <th></th>\n",
       "      <th>budget</th>\n",
       "      <th>id</th>\n",
       "      <th>imdb_id</th>\n",
       "      <th>original_language</th>\n",
       "      <th>title</th>\n",
       "      <th>popularity</th>\n",
       "      <th>release_date</th>\n",
       "      <th>revenue</th>\n",
       "      <th>runtime</th>\n",
       "      <th>vote_average</th>\n",
       "      <th>...</th>\n",
       "      <th>prev_collection_id</th>\n",
       "      <th>prev_collection_revenue</th>\n",
       "      <th>prev_collection_release_date</th>\n",
       "      <th>prev_collection_rating</th>\n",
       "      <th>prev_collection_popularity</th>\n",
       "      <th>prev_collection_vote_average</th>\n",
       "      <th>prev_collection_keywords</th>\n",
       "      <th>prev_collection_genres</th>\n",
       "      <th>prequel_title</th>\n",
       "      <th>prequel_revenue</th>\n",
       "    </tr>\n",
       "  </thead>\n",
       "  <tbody>\n",
       "    <tr>\n",
       "      <td>27</td>\n",
       "      <td>11000000</td>\n",
       "      <td>11</td>\n",
       "      <td>tt0076759</td>\n",
       "      <td>en</td>\n",
       "      <td>Star Wars</td>\n",
       "      <td>42.149697</td>\n",
       "      <td>19770525</td>\n",
       "      <td>775398007</td>\n",
       "      <td>121.0</td>\n",
       "      <td>8.1</td>\n",
       "      <td>...</td>\n",
       "      <td>NaN</td>\n",
       "      <td>NaN</td>\n",
       "      <td>NaN</td>\n",
       "      <td>NaN</td>\n",
       "      <td>NaN</td>\n",
       "      <td>NaN</td>\n",
       "      <td>NaN</td>\n",
       "      <td>NaN</td>\n",
       "      <td>NaN</td>\n",
       "      <td>NaN</td>\n",
       "    </tr>\n",
       "  </tbody>\n",
       "</table>\n",
       "<p>1 rows × 29 columns</p>\n",
       "</div>"
      ],
      "text/plain": [
       "      budget  id    imdb_id original_language      title  popularity  \\\n",
       "27  11000000  11  tt0076759                en  Star Wars   42.149697   \n",
       "\n",
       "   release_date    revenue  runtime  vote_average  ...  prev_collection_id  \\\n",
       "27     19770525  775398007    121.0           8.1  ...                 NaN   \n",
       "\n",
       "   prev_collection_revenue prev_collection_release_date  \\\n",
       "27                     NaN                          NaN   \n",
       "\n",
       "   prev_collection_rating prev_collection_popularity  \\\n",
       "27                    NaN                        NaN   \n",
       "\n",
       "    prev_collection_vote_average prev_collection_keywords  \\\n",
       "27                           NaN                      NaN   \n",
       "\n",
       "   prev_collection_genres prequel_title  prequel_revenue  \n",
       "27                    NaN           NaN              NaN  \n",
       "\n",
       "[1 rows x 29 columns]"
      ]
     },
     "execution_count": 21,
     "metadata": {},
     "output_type": "execute_result"
    }
   ],
   "source": [
    "get_sequels['prequel_revenue'] = get_sequels.apply(lambda x: x['prev_collection_revenue'] if x['collection_id'] == x['prev_collection_id'] else None, axis=1)  # validating previous/sequel\n",
    "get_sequels.head(1)"
   ]
  },
  {
   "cell_type": "code",
   "execution_count": 22,
   "metadata": {},
   "outputs": [
    {
     "data": {
      "text/html": [
       "<div>\n",
       "<style scoped>\n",
       "    .dataframe tbody tr th:only-of-type {\n",
       "        vertical-align: middle;\n",
       "    }\n",
       "\n",
       "    .dataframe tbody tr th {\n",
       "        vertical-align: top;\n",
       "    }\n",
       "\n",
       "    .dataframe thead th {\n",
       "        text-align: right;\n",
       "    }\n",
       "</style>\n",
       "<table border=\"1\" class=\"dataframe\">\n",
       "  <thead>\n",
       "    <tr style=\"text-align: right;\">\n",
       "      <th></th>\n",
       "      <th>budget</th>\n",
       "      <th>id</th>\n",
       "      <th>imdb_id</th>\n",
       "      <th>original_language</th>\n",
       "      <th>title</th>\n",
       "      <th>popularity</th>\n",
       "      <th>release_date</th>\n",
       "      <th>revenue</th>\n",
       "      <th>runtime</th>\n",
       "      <th>vote_average</th>\n",
       "      <th>...</th>\n",
       "      <th>prev_collection_revenue</th>\n",
       "      <th>prev_collection_release_date</th>\n",
       "      <th>prev_collection_rating</th>\n",
       "      <th>prev_collection_popularity</th>\n",
       "      <th>prev_collection_vote_average</th>\n",
       "      <th>prev_collection_keywords</th>\n",
       "      <th>prev_collection_genres</th>\n",
       "      <th>prequel_title</th>\n",
       "      <th>prequel_revenue</th>\n",
       "      <th>prequel_release_date</th>\n",
       "    </tr>\n",
       "  </thead>\n",
       "  <tbody>\n",
       "    <tr>\n",
       "      <td>27</td>\n",
       "      <td>11000000</td>\n",
       "      <td>11</td>\n",
       "      <td>tt0076759</td>\n",
       "      <td>en</td>\n",
       "      <td>Star Wars</td>\n",
       "      <td>42.149697</td>\n",
       "      <td>19770525</td>\n",
       "      <td>775398007</td>\n",
       "      <td>121.0</td>\n",
       "      <td>8.1</td>\n",
       "      <td>...</td>\n",
       "      <td>NaN</td>\n",
       "      <td>NaN</td>\n",
       "      <td>NaN</td>\n",
       "      <td>NaN</td>\n",
       "      <td>NaN</td>\n",
       "      <td>NaN</td>\n",
       "      <td>NaN</td>\n",
       "      <td>NaN</td>\n",
       "      <td>NaN</td>\n",
       "      <td>NaN</td>\n",
       "    </tr>\n",
       "  </tbody>\n",
       "</table>\n",
       "<p>1 rows × 30 columns</p>\n",
       "</div>"
      ],
      "text/plain": [
       "      budget  id    imdb_id original_language      title  popularity  \\\n",
       "27  11000000  11  tt0076759                en  Star Wars   42.149697   \n",
       "\n",
       "   release_date    revenue  runtime  vote_average  ...  \\\n",
       "27     19770525  775398007    121.0           8.1  ...   \n",
       "\n",
       "    prev_collection_revenue prev_collection_release_date  \\\n",
       "27                      NaN                          NaN   \n",
       "\n",
       "   prev_collection_rating prev_collection_popularity  \\\n",
       "27                    NaN                        NaN   \n",
       "\n",
       "   prev_collection_vote_average  prev_collection_keywords  \\\n",
       "27                          NaN                       NaN   \n",
       "\n",
       "   prev_collection_genres prequel_title prequel_revenue  prequel_release_date  \n",
       "27                    NaN           NaN             NaN                   NaN  \n",
       "\n",
       "[1 rows x 30 columns]"
      ]
     },
     "execution_count": 22,
     "metadata": {},
     "output_type": "execute_result"
    }
   ],
   "source": [
    "get_sequels['prequel_release_date'] = get_sequels.apply(lambda x: x['prev_collection_release_date'] if x['collection_id'] == x['prev_collection_id'] else None, axis=1)  # validating previous/sequel\n",
    "get_sequels.head(1)  "
   ]
  },
  {
   "cell_type": "code",
   "execution_count": 23,
   "metadata": {},
   "outputs": [
    {
     "data": {
      "text/html": [
       "<div>\n",
       "<style scoped>\n",
       "    .dataframe tbody tr th:only-of-type {\n",
       "        vertical-align: middle;\n",
       "    }\n",
       "\n",
       "    .dataframe tbody tr th {\n",
       "        vertical-align: top;\n",
       "    }\n",
       "\n",
       "    .dataframe thead th {\n",
       "        text-align: right;\n",
       "    }\n",
       "</style>\n",
       "<table border=\"1\" class=\"dataframe\">\n",
       "  <thead>\n",
       "    <tr style=\"text-align: right;\">\n",
       "      <th></th>\n",
       "      <th>budget</th>\n",
       "      <th>id</th>\n",
       "      <th>imdb_id</th>\n",
       "      <th>original_language</th>\n",
       "      <th>title</th>\n",
       "      <th>popularity</th>\n",
       "      <th>release_date</th>\n",
       "      <th>revenue</th>\n",
       "      <th>runtime</th>\n",
       "      <th>vote_average</th>\n",
       "      <th>...</th>\n",
       "      <th>prev_collection_release_date</th>\n",
       "      <th>prev_collection_rating</th>\n",
       "      <th>prev_collection_popularity</th>\n",
       "      <th>prev_collection_vote_average</th>\n",
       "      <th>prev_collection_keywords</th>\n",
       "      <th>prev_collection_genres</th>\n",
       "      <th>prequel_title</th>\n",
       "      <th>prequel_revenue</th>\n",
       "      <th>prequel_release_date</th>\n",
       "      <th>prequel_rating</th>\n",
       "    </tr>\n",
       "  </thead>\n",
       "  <tbody>\n",
       "    <tr>\n",
       "      <td>27</td>\n",
       "      <td>11000000</td>\n",
       "      <td>11</td>\n",
       "      <td>tt0076759</td>\n",
       "      <td>en</td>\n",
       "      <td>Star Wars</td>\n",
       "      <td>42.149697</td>\n",
       "      <td>19770525</td>\n",
       "      <td>775398007</td>\n",
       "      <td>121.0</td>\n",
       "      <td>8.1</td>\n",
       "      <td>...</td>\n",
       "      <td>NaN</td>\n",
       "      <td>NaN</td>\n",
       "      <td>NaN</td>\n",
       "      <td>NaN</td>\n",
       "      <td>NaN</td>\n",
       "      <td>NaN</td>\n",
       "      <td>NaN</td>\n",
       "      <td>NaN</td>\n",
       "      <td>NaN</td>\n",
       "      <td>NaN</td>\n",
       "    </tr>\n",
       "  </tbody>\n",
       "</table>\n",
       "<p>1 rows × 31 columns</p>\n",
       "</div>"
      ],
      "text/plain": [
       "      budget  id    imdb_id original_language      title  popularity  \\\n",
       "27  11000000  11  tt0076759                en  Star Wars   42.149697   \n",
       "\n",
       "   release_date    revenue  runtime  vote_average  ...  \\\n",
       "27     19770525  775398007    121.0           8.1  ...   \n",
       "\n",
       "    prev_collection_release_date prev_collection_rating  \\\n",
       "27                           NaN                    NaN   \n",
       "\n",
       "   prev_collection_popularity prev_collection_vote_average  \\\n",
       "27                        NaN                          NaN   \n",
       "\n",
       "   prev_collection_keywords  prev_collection_genres prequel_title  \\\n",
       "27                      NaN                     NaN           NaN   \n",
       "\n",
       "   prequel_revenue prequel_release_date  prequel_rating  \n",
       "27             NaN                  NaN             NaN  \n",
       "\n",
       "[1 rows x 31 columns]"
      ]
     },
     "execution_count": 23,
     "metadata": {},
     "output_type": "execute_result"
    }
   ],
   "source": [
    "get_sequels['prequel_rating'] = get_sequels.apply(lambda x: x['prev_collection_rating'] if x['collection_id'] == x['prev_collection_id'] else None, axis=1)  # validating previous/sequel\n",
    "get_sequels.head(1)  "
   ]
  },
  {
   "cell_type": "code",
   "execution_count": 24,
   "metadata": {},
   "outputs": [
    {
     "data": {
      "text/html": [
       "<div>\n",
       "<style scoped>\n",
       "    .dataframe tbody tr th:only-of-type {\n",
       "        vertical-align: middle;\n",
       "    }\n",
       "\n",
       "    .dataframe tbody tr th {\n",
       "        vertical-align: top;\n",
       "    }\n",
       "\n",
       "    .dataframe thead th {\n",
       "        text-align: right;\n",
       "    }\n",
       "</style>\n",
       "<table border=\"1\" class=\"dataframe\">\n",
       "  <thead>\n",
       "    <tr style=\"text-align: right;\">\n",
       "      <th></th>\n",
       "      <th>budget</th>\n",
       "      <th>id</th>\n",
       "      <th>imdb_id</th>\n",
       "      <th>original_language</th>\n",
       "      <th>title</th>\n",
       "      <th>popularity</th>\n",
       "      <th>release_date</th>\n",
       "      <th>revenue</th>\n",
       "      <th>runtime</th>\n",
       "      <th>vote_average</th>\n",
       "      <th>...</th>\n",
       "      <th>prev_collection_rating</th>\n",
       "      <th>prev_collection_popularity</th>\n",
       "      <th>prev_collection_vote_average</th>\n",
       "      <th>prev_collection_keywords</th>\n",
       "      <th>prev_collection_genres</th>\n",
       "      <th>prequel_title</th>\n",
       "      <th>prequel_revenue</th>\n",
       "      <th>prequel_release_date</th>\n",
       "      <th>prequel_rating</th>\n",
       "      <th>prequel_popularity</th>\n",
       "    </tr>\n",
       "  </thead>\n",
       "  <tbody>\n",
       "    <tr>\n",
       "      <td>27</td>\n",
       "      <td>11000000</td>\n",
       "      <td>11</td>\n",
       "      <td>tt0076759</td>\n",
       "      <td>en</td>\n",
       "      <td>Star Wars</td>\n",
       "      <td>42.149697</td>\n",
       "      <td>19770525</td>\n",
       "      <td>775398007</td>\n",
       "      <td>121.0</td>\n",
       "      <td>8.1</td>\n",
       "      <td>...</td>\n",
       "      <td>NaN</td>\n",
       "      <td>NaN</td>\n",
       "      <td>NaN</td>\n",
       "      <td>NaN</td>\n",
       "      <td>NaN</td>\n",
       "      <td>NaN</td>\n",
       "      <td>NaN</td>\n",
       "      <td>NaN</td>\n",
       "      <td>NaN</td>\n",
       "      <td>NaN</td>\n",
       "    </tr>\n",
       "  </tbody>\n",
       "</table>\n",
       "<p>1 rows × 32 columns</p>\n",
       "</div>"
      ],
      "text/plain": [
       "      budget  id    imdb_id original_language      title  popularity  \\\n",
       "27  11000000  11  tt0076759                en  Star Wars   42.149697   \n",
       "\n",
       "   release_date    revenue  runtime  vote_average  ...  \\\n",
       "27     19770525  775398007    121.0           8.1  ...   \n",
       "\n",
       "    prev_collection_rating prev_collection_popularity  \\\n",
       "27                     NaN                        NaN   \n",
       "\n",
       "   prev_collection_vote_average prev_collection_keywords  \\\n",
       "27                          NaN                      NaN   \n",
       "\n",
       "   prev_collection_genres  prequel_title prequel_revenue prequel_release_date  \\\n",
       "27                    NaN            NaN             NaN                  NaN   \n",
       "\n",
       "   prequel_rating  prequel_popularity  \n",
       "27            NaN                 NaN  \n",
       "\n",
       "[1 rows x 32 columns]"
      ]
     },
     "execution_count": 24,
     "metadata": {},
     "output_type": "execute_result"
    }
   ],
   "source": [
    "get_sequels['prequel_popularity'] = get_sequels.apply(lambda x: x['prev_collection_popularity'] if x['collection_id'] == x['prev_collection_id'] else None, axis=1)  # validating previous/sequel\n",
    "get_sequels.head(1)  "
   ]
  },
  {
   "cell_type": "code",
   "execution_count": 25,
   "metadata": {},
   "outputs": [
    {
     "data": {
      "text/html": [
       "<div>\n",
       "<style scoped>\n",
       "    .dataframe tbody tr th:only-of-type {\n",
       "        vertical-align: middle;\n",
       "    }\n",
       "\n",
       "    .dataframe tbody tr th {\n",
       "        vertical-align: top;\n",
       "    }\n",
       "\n",
       "    .dataframe thead th {\n",
       "        text-align: right;\n",
       "    }\n",
       "</style>\n",
       "<table border=\"1\" class=\"dataframe\">\n",
       "  <thead>\n",
       "    <tr style=\"text-align: right;\">\n",
       "      <th></th>\n",
       "      <th>budget</th>\n",
       "      <th>id</th>\n",
       "      <th>imdb_id</th>\n",
       "      <th>original_language</th>\n",
       "      <th>title</th>\n",
       "      <th>popularity</th>\n",
       "      <th>release_date</th>\n",
       "      <th>revenue</th>\n",
       "      <th>runtime</th>\n",
       "      <th>vote_average</th>\n",
       "      <th>...</th>\n",
       "      <th>prev_collection_popularity</th>\n",
       "      <th>prev_collection_vote_average</th>\n",
       "      <th>prev_collection_keywords</th>\n",
       "      <th>prev_collection_genres</th>\n",
       "      <th>prequel_title</th>\n",
       "      <th>prequel_revenue</th>\n",
       "      <th>prequel_release_date</th>\n",
       "      <th>prequel_rating</th>\n",
       "      <th>prequel_popularity</th>\n",
       "      <th>prequel_vote_average</th>\n",
       "    </tr>\n",
       "  </thead>\n",
       "  <tbody>\n",
       "    <tr>\n",
       "      <td>27</td>\n",
       "      <td>11000000</td>\n",
       "      <td>11</td>\n",
       "      <td>tt0076759</td>\n",
       "      <td>en</td>\n",
       "      <td>Star Wars</td>\n",
       "      <td>42.149697</td>\n",
       "      <td>19770525</td>\n",
       "      <td>775398007</td>\n",
       "      <td>121.0</td>\n",
       "      <td>8.1</td>\n",
       "      <td>...</td>\n",
       "      <td>NaN</td>\n",
       "      <td>NaN</td>\n",
       "      <td>NaN</td>\n",
       "      <td>NaN</td>\n",
       "      <td>NaN</td>\n",
       "      <td>NaN</td>\n",
       "      <td>NaN</td>\n",
       "      <td>NaN</td>\n",
       "      <td>NaN</td>\n",
       "      <td>NaN</td>\n",
       "    </tr>\n",
       "  </tbody>\n",
       "</table>\n",
       "<p>1 rows × 33 columns</p>\n",
       "</div>"
      ],
      "text/plain": [
       "      budget  id    imdb_id original_language      title  popularity  \\\n",
       "27  11000000  11  tt0076759                en  Star Wars   42.149697   \n",
       "\n",
       "   release_date    revenue  runtime  vote_average  ...  \\\n",
       "27     19770525  775398007    121.0           8.1  ...   \n",
       "\n",
       "    prev_collection_popularity prev_collection_vote_average  \\\n",
       "27                         NaN                          NaN   \n",
       "\n",
       "   prev_collection_keywords prev_collection_genres prequel_title  \\\n",
       "27                      NaN                    NaN           NaN   \n",
       "\n",
       "    prequel_revenue prequel_release_date prequel_rating prequel_popularity  \\\n",
       "27              NaN                  NaN            NaN                NaN   \n",
       "\n",
       "    prequel_vote_average  \n",
       "27                   NaN  \n",
       "\n",
       "[1 rows x 33 columns]"
      ]
     },
     "execution_count": 25,
     "metadata": {},
     "output_type": "execute_result"
    }
   ],
   "source": [
    "get_sequels['prequel_vote_average'] = get_sequels.apply(lambda x: x['prev_collection_vote_average'] if x['collection_id'] == x['prev_collection_id'] else None, axis=1)  # validating previous/sequel\n",
    "get_sequels.head(1)  "
   ]
  },
  {
   "cell_type": "code",
   "execution_count": 26,
   "metadata": {},
   "outputs": [
    {
     "data": {
      "text/html": [
       "<div>\n",
       "<style scoped>\n",
       "    .dataframe tbody tr th:only-of-type {\n",
       "        vertical-align: middle;\n",
       "    }\n",
       "\n",
       "    .dataframe tbody tr th {\n",
       "        vertical-align: top;\n",
       "    }\n",
       "\n",
       "    .dataframe thead th {\n",
       "        text-align: right;\n",
       "    }\n",
       "</style>\n",
       "<table border=\"1\" class=\"dataframe\">\n",
       "  <thead>\n",
       "    <tr style=\"text-align: right;\">\n",
       "      <th></th>\n",
       "      <th>budget</th>\n",
       "      <th>id</th>\n",
       "      <th>imdb_id</th>\n",
       "      <th>original_language</th>\n",
       "      <th>title</th>\n",
       "      <th>popularity</th>\n",
       "      <th>release_date</th>\n",
       "      <th>revenue</th>\n",
       "      <th>runtime</th>\n",
       "      <th>vote_average</th>\n",
       "      <th>...</th>\n",
       "      <th>prev_collection_vote_average</th>\n",
       "      <th>prev_collection_keywords</th>\n",
       "      <th>prev_collection_genres</th>\n",
       "      <th>prequel_title</th>\n",
       "      <th>prequel_revenue</th>\n",
       "      <th>prequel_release_date</th>\n",
       "      <th>prequel_rating</th>\n",
       "      <th>prequel_popularity</th>\n",
       "      <th>prequel_vote_average</th>\n",
       "      <th>prequel_keywords</th>\n",
       "    </tr>\n",
       "  </thead>\n",
       "  <tbody>\n",
       "    <tr>\n",
       "      <td>27</td>\n",
       "      <td>11000000</td>\n",
       "      <td>11</td>\n",
       "      <td>tt0076759</td>\n",
       "      <td>en</td>\n",
       "      <td>Star Wars</td>\n",
       "      <td>42.149697</td>\n",
       "      <td>19770525</td>\n",
       "      <td>775398007</td>\n",
       "      <td>121.0</td>\n",
       "      <td>8.1</td>\n",
       "      <td>...</td>\n",
       "      <td>NaN</td>\n",
       "      <td>NaN</td>\n",
       "      <td>NaN</td>\n",
       "      <td>NaN</td>\n",
       "      <td>NaN</td>\n",
       "      <td>NaN</td>\n",
       "      <td>NaN</td>\n",
       "      <td>NaN</td>\n",
       "      <td>NaN</td>\n",
       "      <td>NaN</td>\n",
       "    </tr>\n",
       "  </tbody>\n",
       "</table>\n",
       "<p>1 rows × 34 columns</p>\n",
       "</div>"
      ],
      "text/plain": [
       "      budget  id    imdb_id original_language      title  popularity  \\\n",
       "27  11000000  11  tt0076759                en  Star Wars   42.149697   \n",
       "\n",
       "   release_date    revenue  runtime  vote_average  ...  \\\n",
       "27     19770525  775398007    121.0           8.1  ...   \n",
       "\n",
       "    prev_collection_vote_average prev_collection_keywords  \\\n",
       "27                           NaN                      NaN   \n",
       "\n",
       "   prev_collection_genres prequel_title prequel_revenue  prequel_release_date  \\\n",
       "27                    NaN           NaN             NaN                   NaN   \n",
       "\n",
       "   prequel_rating prequel_popularity prequel_vote_average  prequel_keywords  \n",
       "27            NaN                NaN                  NaN               NaN  \n",
       "\n",
       "[1 rows x 34 columns]"
      ]
     },
     "execution_count": 26,
     "metadata": {},
     "output_type": "execute_result"
    }
   ],
   "source": [
    "get_sequels['prequel_keywords'] = get_sequels.apply(lambda x: x['prev_collection_keywords'] if x['collection_id'] == x['prev_collection_id'] else None, axis=1)  # validating previous/sequel\n",
    "get_sequels.head(1)  "
   ]
  },
  {
   "cell_type": "code",
   "execution_count": 27,
   "metadata": {},
   "outputs": [
    {
     "data": {
      "text/html": [
       "<div>\n",
       "<style scoped>\n",
       "    .dataframe tbody tr th:only-of-type {\n",
       "        vertical-align: middle;\n",
       "    }\n",
       "\n",
       "    .dataframe tbody tr th {\n",
       "        vertical-align: top;\n",
       "    }\n",
       "\n",
       "    .dataframe thead th {\n",
       "        text-align: right;\n",
       "    }\n",
       "</style>\n",
       "<table border=\"1\" class=\"dataframe\">\n",
       "  <thead>\n",
       "    <tr style=\"text-align: right;\">\n",
       "      <th></th>\n",
       "      <th>budget</th>\n",
       "      <th>id</th>\n",
       "      <th>imdb_id</th>\n",
       "      <th>original_language</th>\n",
       "      <th>title</th>\n",
       "      <th>popularity</th>\n",
       "      <th>release_date</th>\n",
       "      <th>revenue</th>\n",
       "      <th>runtime</th>\n",
       "      <th>vote_average</th>\n",
       "      <th>...</th>\n",
       "      <th>prev_collection_keywords</th>\n",
       "      <th>prev_collection_genres</th>\n",
       "      <th>prequel_title</th>\n",
       "      <th>prequel_revenue</th>\n",
       "      <th>prequel_release_date</th>\n",
       "      <th>prequel_rating</th>\n",
       "      <th>prequel_popularity</th>\n",
       "      <th>prequel_vote_average</th>\n",
       "      <th>prequel_keywords</th>\n",
       "      <th>prequel_genres</th>\n",
       "    </tr>\n",
       "  </thead>\n",
       "  <tbody>\n",
       "    <tr>\n",
       "      <td>27</td>\n",
       "      <td>11000000</td>\n",
       "      <td>11</td>\n",
       "      <td>tt0076759</td>\n",
       "      <td>en</td>\n",
       "      <td>Star Wars</td>\n",
       "      <td>42.149697</td>\n",
       "      <td>19770525</td>\n",
       "      <td>775398007</td>\n",
       "      <td>121.0</td>\n",
       "      <td>8.1</td>\n",
       "      <td>...</td>\n",
       "      <td>NaN</td>\n",
       "      <td>NaN</td>\n",
       "      <td>NaN</td>\n",
       "      <td>NaN</td>\n",
       "      <td>NaN</td>\n",
       "      <td>NaN</td>\n",
       "      <td>NaN</td>\n",
       "      <td>NaN</td>\n",
       "      <td>NaN</td>\n",
       "      <td>NaN</td>\n",
       "    </tr>\n",
       "  </tbody>\n",
       "</table>\n",
       "<p>1 rows × 35 columns</p>\n",
       "</div>"
      ],
      "text/plain": [
       "      budget  id    imdb_id original_language      title  popularity  \\\n",
       "27  11000000  11  tt0076759                en  Star Wars   42.149697   \n",
       "\n",
       "   release_date    revenue  runtime  vote_average  ...  \\\n",
       "27     19770525  775398007    121.0           8.1  ...   \n",
       "\n",
       "    prev_collection_keywords prev_collection_genres prequel_title  \\\n",
       "27                       NaN                    NaN           NaN   \n",
       "\n",
       "   prequel_revenue prequel_release_date  prequel_rating prequel_popularity  \\\n",
       "27             NaN                  NaN             NaN                NaN   \n",
       "\n",
       "   prequel_vote_average prequel_keywords  prequel_genres  \n",
       "27                  NaN              NaN             NaN  \n",
       "\n",
       "[1 rows x 35 columns]"
      ]
     },
     "execution_count": 27,
     "metadata": {},
     "output_type": "execute_result"
    }
   ],
   "source": [
    "get_sequels['prequel_genres'] = get_sequels.apply(lambda x: x['prev_collection_genres'] if x['collection_id'] == x['prev_collection_id'] else None, axis=1)  # validating previous/sequel\n",
    "get_sequels.head(1)  "
   ]
  },
  {
   "cell_type": "code",
   "execution_count": 28,
   "metadata": {},
   "outputs": [],
   "source": [
    "get_sequels = get_sequels.rename(columns={\"prev_collection_id\": \"prequel_id\"})"
   ]
  },
  {
   "cell_type": "code",
   "execution_count": 29,
   "metadata": {},
   "outputs": [
    {
     "data": {
      "text/plain": [
       "Index(['budget', 'id', 'imdb_id', 'original_language', 'title', 'popularity',\n",
       "       'release_date', 'revenue', 'runtime', 'vote_average', 'collection_id',\n",
       "       'collection_name', 'production companies', 'production_countries',\n",
       "       'genres', 'rating', 'rating_timestamp', 'key_agg', 'prev_title',\n",
       "       'prequel_id', 'prev_collection_revenue', 'prev_collection_release_date',\n",
       "       'prev_collection_rating', 'prev_collection_popularity',\n",
       "       'prev_collection_vote_average', 'prev_collection_keywords',\n",
       "       'prev_collection_genres', 'prequel_title', 'prequel_revenue',\n",
       "       'prequel_release_date', 'prequel_rating', 'prequel_popularity',\n",
       "       'prequel_vote_average', 'prequel_keywords', 'prequel_genres'],\n",
       "      dtype='object')"
      ]
     },
     "execution_count": 29,
     "metadata": {},
     "output_type": "execute_result"
    }
   ],
   "source": [
    "get_sequels.columns"
   ]
  },
  {
   "cell_type": "code",
   "execution_count": 30,
   "metadata": {},
   "outputs": [],
   "source": [
    "get_sequels = get_sequels.drop(columns=['prev_title', 'prev_collection_revenue', 'prev_collection_release_date', \n",
    "                                                     'prev_collection_rating', 'prev_collection_popularity','prev_collection_vote_average', \n",
    "                                       'prev_collection_genres', 'prev_collection_keywords' ], axis=1)"
   ]
  },
  {
   "cell_type": "code",
   "execution_count": 31,
   "metadata": {},
   "outputs": [],
   "source": [
    "get_sequels = get_sequels[get_sequels['prequel_title'] == get_sequels['prequel_title']] "
   ]
  },
  {
   "cell_type": "code",
   "execution_count": 32,
   "metadata": {},
   "outputs": [
    {
     "data": {
      "text/html": [
       "<div>\n",
       "<style scoped>\n",
       "    .dataframe tbody tr th:only-of-type {\n",
       "        vertical-align: middle;\n",
       "    }\n",
       "\n",
       "    .dataframe tbody tr th {\n",
       "        vertical-align: top;\n",
       "    }\n",
       "\n",
       "    .dataframe thead th {\n",
       "        text-align: right;\n",
       "    }\n",
       "</style>\n",
       "<table border=\"1\" class=\"dataframe\">\n",
       "  <thead>\n",
       "    <tr style=\"text-align: right;\">\n",
       "      <th></th>\n",
       "      <th>budget</th>\n",
       "      <th>id</th>\n",
       "      <th>imdb_id</th>\n",
       "      <th>original_language</th>\n",
       "      <th>title</th>\n",
       "      <th>popularity</th>\n",
       "      <th>release_date</th>\n",
       "      <th>revenue</th>\n",
       "      <th>runtime</th>\n",
       "      <th>vote_average</th>\n",
       "      <th>...</th>\n",
       "      <th>key_agg</th>\n",
       "      <th>prequel_id</th>\n",
       "      <th>prequel_title</th>\n",
       "      <th>prequel_revenue</th>\n",
       "      <th>prequel_release_date</th>\n",
       "      <th>prequel_rating</th>\n",
       "      <th>prequel_popularity</th>\n",
       "      <th>prequel_vote_average</th>\n",
       "      <th>prequel_keywords</th>\n",
       "      <th>prequel_genres</th>\n",
       "    </tr>\n",
       "  </thead>\n",
       "  <tbody>\n",
       "    <tr>\n",
       "      <td>49</td>\n",
       "      <td>18000000</td>\n",
       "      <td>1891</td>\n",
       "      <td>tt0080684</td>\n",
       "      <td>en</td>\n",
       "      <td>The Empire Strikes Back</td>\n",
       "      <td>19.470959</td>\n",
       "      <td>19800517</td>\n",
       "      <td>538400000</td>\n",
       "      <td>124.0</td>\n",
       "      <td>8.2</td>\n",
       "      <td>...</td>\n",
       "      <td>'rebel', 'android', 'asteroid', 'space battle'...</td>\n",
       "      <td>10.0</td>\n",
       "      <td>Star Wars</td>\n",
       "      <td>775398007.0</td>\n",
       "      <td>19770525</td>\n",
       "      <td>3.660591</td>\n",
       "      <td>42.149697</td>\n",
       "      <td>8.1</td>\n",
       "      <td>'android', 'galaxy', 'hermit', 'death star', '...</td>\n",
       "      <td>'Adventure', 'Action', 'Science Fiction'</td>\n",
       "    </tr>\n",
       "  </tbody>\n",
       "</table>\n",
       "<p>1 rows × 27 columns</p>\n",
       "</div>"
      ],
      "text/plain": [
       "      budget    id    imdb_id original_language                    title  \\\n",
       "49  18000000  1891  tt0080684                en  The Empire Strikes Back   \n",
       "\n",
       "    popularity release_date    revenue  runtime  vote_average  ...  \\\n",
       "49   19.470959     19800517  538400000    124.0           8.2  ...   \n",
       "\n",
       "                                              key_agg prequel_id  \\\n",
       "49  'rebel', 'android', 'asteroid', 'space battle'...       10.0   \n",
       "\n",
       "   prequel_title prequel_revenue prequel_release_date  prequel_rating  \\\n",
       "49     Star Wars     775398007.0             19770525        3.660591   \n",
       "\n",
       "   prequel_popularity prequel_vote_average  \\\n",
       "49          42.149697                  8.1   \n",
       "\n",
       "                                     prequel_keywords  \\\n",
       "49  'android', 'galaxy', 'hermit', 'death star', '...   \n",
       "\n",
       "                              prequel_genres  \n",
       "49  'Adventure', 'Action', 'Science Fiction'  \n",
       "\n",
       "[1 rows x 27 columns]"
      ]
     },
     "execution_count": 32,
     "metadata": {},
     "output_type": "execute_result"
    }
   ],
   "source": [
    "get_sequels.head(1)"
   ]
  },
  {
   "cell_type": "markdown",
   "metadata": {},
   "source": [
    "#### Get dummies for keywords and genres our categorical variables separately for sequel and prequel"
   ]
  },
  {
   "cell_type": "code",
   "execution_count": 33,
   "metadata": {},
   "outputs": [
    {
     "data": {
      "text/plain": [
       "Index(['budget', 'id', 'imdb_id', 'original_language', 'title', 'popularity',\n",
       "       'release_date', 'revenue', 'runtime', 'vote_average', 'collection_id',\n",
       "       'collection_name', 'production companies', 'production_countries',\n",
       "       'genres', 'rating', 'rating_timestamp', 'key_agg', 'prequel_id',\n",
       "       'prequel_title', 'prequel_revenue', 'prequel_release_date',\n",
       "       'prequel_rating', 'prequel_popularity', 'prequel_vote_average',\n",
       "       'prequel_keywords', 'prequel_genres'],\n",
       "      dtype='object')"
      ]
     },
     "execution_count": 33,
     "metadata": {},
     "output_type": "execute_result"
    }
   ],
   "source": [
    "get_sequels.columns"
   ]
  },
  {
   "cell_type": "code",
   "execution_count": 34,
   "metadata": {},
   "outputs": [],
   "source": [
    "sequels = get_sequels[['budget', 'id', 'imdb_id', 'original_language', 'title', 'popularity',\n",
    "       'release_date', 'revenue', 'runtime', 'vote_average', 'collection_id',\n",
    "       'collection_name', 'production companies', 'production_countries',\n",
    "       'genres', 'rating', 'rating_timestamp', 'key_agg']]"
   ]
  },
  {
   "cell_type": "code",
   "execution_count": 35,
   "metadata": {},
   "outputs": [],
   "source": [
    "prequels = get_sequels[['prequel_id', 'prequel_title', 'prequel_revenue', 'prequel_release_date',\n",
    "           'prequel_rating', 'prequel_popularity', 'prequel_vote_average',\n",
    "           'prequel_keywords', 'prequel_genres']]"
   ]
  },
  {
   "cell_type": "markdown",
   "metadata": {},
   "source": [
    "#### Get only first three genres "
   ]
  },
  {
   "cell_type": "code",
   "execution_count": 37,
   "metadata": {},
   "outputs": [
    {
     "data": {
      "text/html": [
       "<div>\n",
       "<style scoped>\n",
       "    .dataframe tbody tr th:only-of-type {\n",
       "        vertical-align: middle;\n",
       "    }\n",
       "\n",
       "    .dataframe tbody tr th {\n",
       "        vertical-align: top;\n",
       "    }\n",
       "\n",
       "    .dataframe thead th {\n",
       "        text-align: right;\n",
       "    }\n",
       "</style>\n",
       "<table border=\"1\" class=\"dataframe\">\n",
       "  <thead>\n",
       "    <tr style=\"text-align: right;\">\n",
       "      <th></th>\n",
       "      <th>budget</th>\n",
       "      <th>id</th>\n",
       "      <th>imdb_id</th>\n",
       "      <th>original_language</th>\n",
       "      <th>title</th>\n",
       "      <th>popularity</th>\n",
       "      <th>release_date</th>\n",
       "      <th>revenue</th>\n",
       "      <th>runtime</th>\n",
       "      <th>vote_average</th>\n",
       "      <th>collection_id</th>\n",
       "      <th>collection_name</th>\n",
       "      <th>production companies</th>\n",
       "      <th>production_countries</th>\n",
       "      <th>genres</th>\n",
       "      <th>rating</th>\n",
       "      <th>rating_timestamp</th>\n",
       "      <th>key_agg</th>\n",
       "    </tr>\n",
       "  </thead>\n",
       "  <tbody>\n",
       "    <tr>\n",
       "      <td>49</td>\n",
       "      <td>18000000</td>\n",
       "      <td>1891</td>\n",
       "      <td>tt0080684</td>\n",
       "      <td>en</td>\n",
       "      <td>The Empire Strikes Back</td>\n",
       "      <td>19.470959</td>\n",
       "      <td>19800517</td>\n",
       "      <td>538400000</td>\n",
       "      <td>124.0</td>\n",
       "      <td>8.2</td>\n",
       "      <td>10</td>\n",
       "      <td>Star Wars Collection</td>\n",
       "      <td>'Lucasfilm', 'Twentieth Century Fox Film Corpo...</td>\n",
       "      <td>'United States of America'</td>\n",
       "      <td>'Adventure',</td>\n",
       "      <td>2.464912</td>\n",
       "      <td>19980701</td>\n",
       "      <td>'rebel', 'android', 'asteroid', 'space battle'...</td>\n",
       "    </tr>\n",
       "  </tbody>\n",
       "</table>\n",
       "</div>"
      ],
      "text/plain": [
       "      budget    id    imdb_id original_language                    title  \\\n",
       "49  18000000  1891  tt0080684                en  The Empire Strikes Back   \n",
       "\n",
       "    popularity release_date    revenue  runtime  vote_average  collection_id  \\\n",
       "49   19.470959     19800517  538400000    124.0           8.2             10   \n",
       "\n",
       "         collection_name                               production companies  \\\n",
       "49  Star Wars Collection  'Lucasfilm', 'Twentieth Century Fox Film Corpo...   \n",
       "\n",
       "          production_countries        genres    rating rating_timestamp  \\\n",
       "49  'United States of America'  'Adventure',  2.464912         19980701   \n",
       "\n",
       "                                              key_agg  \n",
       "49  'rebel', 'android', 'asteroid', 'space battle'...  "
      ]
     },
     "execution_count": 37,
     "metadata": {},
     "output_type": "execute_result"
    }
   ],
   "source": [
    "sequels['genres'] = sequels['genres'].map(lambda x: ' '.join(x.split()[:1]))"
   ]
  },
  {
   "cell_type": "code",
   "execution_count": 38,
   "metadata": {},
   "outputs": [],
   "source": [
    "prequels['prequel_genres'] = prequels['prequel_genres'].map(lambda x: ' '.join(x.split()[:1]))"
   ]
  },
  {
   "cell_type": "markdown",
   "metadata": {},
   "source": [
    "#### Get only first three keywords"
   ]
  },
  {
   "cell_type": "code",
   "execution_count": 39,
   "metadata": {},
   "outputs": [],
   "source": [
    "sequels['key_agg'] = sequels['key_agg'].replace(np.nan, \" \")"
   ]
  },
  {
   "cell_type": "code",
   "execution_count": 40,
   "metadata": {},
   "outputs": [],
   "source": [
    "sequels['keywords'] = sequels['key_agg'].map(lambda x: ' '.join(x.split()[:1]))"
   ]
  },
  {
   "cell_type": "code",
   "execution_count": 41,
   "metadata": {},
   "outputs": [],
   "source": [
    "sequels =sequels.drop(columns=['key_agg'])"
   ]
  },
  {
   "cell_type": "code",
   "execution_count": 42,
   "metadata": {},
   "outputs": [],
   "source": [
    "prequels['prequel_keywords'] = prequels['prequel_keywords'].replace(np.nan, \" \")"
   ]
  },
  {
   "cell_type": "code",
   "execution_count": 43,
   "metadata": {},
   "outputs": [],
   "source": [
    "prequels['prequel_keywords'] = prequels['prequel_keywords'].map(lambda x: ' '.join(x.split()[:1]))"
   ]
  },
  {
   "cell_type": "code",
   "execution_count": 44,
   "metadata": {},
   "outputs": [
    {
     "data": {
      "text/plain": [
       "'london          10\n",
       "'saving          10\n",
       "'paris',          7\n",
       "'riddle',         4\n",
       "'cyborg',         3\n",
       "                 ..\n",
       "'spacecraft',     1\n",
       "'vampire',        1\n",
       "'hotel',          1\n",
       "'press',          1\n",
       "'dc               1\n",
       "Name: keywords, Length: 120, dtype: int64"
      ]
     },
     "execution_count": 44,
     "metadata": {},
     "output_type": "execute_result"
    }
   ],
   "source": [
    "sequels['keywords'].value_counts()"
   ]
  },
  {
   "cell_type": "code",
   "execution_count": 45,
   "metadata": {},
   "outputs": [
    {
     "data": {
      "text/plain": [
       "'saving          10\n",
       "'paris',          8\n",
       "'london           8\n",
       "'riddle',         4\n",
       "'witch',          4\n",
       "                 ..\n",
       "'dead             1\n",
       "'flying           1\n",
       "'salesclerk',     1\n",
       "'halloween',      1\n",
       "'cia',            1\n",
       "Name: prequel_keywords, Length: 123, dtype: int64"
      ]
     },
     "execution_count": 45,
     "metadata": {},
     "output_type": "execute_result"
    }
   ],
   "source": [
    "prequels['prequel_keywords'].value_counts()"
   ]
  },
  {
   "cell_type": "code",
   "execution_count": 46,
   "metadata": {},
   "outputs": [],
   "source": [
    "sequels_keywords_dummies = pd.get_dummies(sequels['keywords'])"
   ]
  },
  {
   "cell_type": "code",
   "execution_count": 47,
   "metadata": {},
   "outputs": [
    {
     "data": {
      "text/html": [
       "<div>\n",
       "<style scoped>\n",
       "    .dataframe tbody tr th:only-of-type {\n",
       "        vertical-align: middle;\n",
       "    }\n",
       "\n",
       "    .dataframe tbody tr th {\n",
       "        vertical-align: top;\n",
       "    }\n",
       "\n",
       "    .dataframe thead th {\n",
       "        text-align: right;\n",
       "    }\n",
       "</style>\n",
       "<table border=\"1\" class=\"dataframe\">\n",
       "  <thead>\n",
       "    <tr style=\"text-align: right;\">\n",
       "      <th></th>\n",
       "      <th>budget</th>\n",
       "      <th>id</th>\n",
       "      <th>imdb_id</th>\n",
       "      <th>original_language</th>\n",
       "      <th>title</th>\n",
       "      <th>popularity</th>\n",
       "      <th>release_date</th>\n",
       "      <th>revenue</th>\n",
       "      <th>runtime</th>\n",
       "      <th>vote_average</th>\n",
       "      <th>...</th>\n",
       "      <th>'terrorist',</th>\n",
       "      <th>'transporter',</th>\n",
       "      <th>'usa',</th>\n",
       "      <th>'uss</th>\n",
       "      <th>'vampire',</th>\n",
       "      <th>'venice',</th>\n",
       "      <th>'waitress',</th>\n",
       "      <th>'washington</th>\n",
       "      <th>'witch',</th>\n",
       "      <th>'world</th>\n",
       "    </tr>\n",
       "  </thead>\n",
       "  <tbody>\n",
       "    <tr>\n",
       "      <td>49</td>\n",
       "      <td>18000000</td>\n",
       "      <td>1891</td>\n",
       "      <td>tt0080684</td>\n",
       "      <td>en</td>\n",
       "      <td>The Empire Strikes Back</td>\n",
       "      <td>19.470959</td>\n",
       "      <td>19800517</td>\n",
       "      <td>538400000</td>\n",
       "      <td>124.0</td>\n",
       "      <td>8.2</td>\n",
       "      <td>...</td>\n",
       "      <td>0</td>\n",
       "      <td>0</td>\n",
       "      <td>0</td>\n",
       "      <td>0</td>\n",
       "      <td>0</td>\n",
       "      <td>0</td>\n",
       "      <td>0</td>\n",
       "      <td>0</td>\n",
       "      <td>0</td>\n",
       "      <td>0</td>\n",
       "    </tr>\n",
       "  </tbody>\n",
       "</table>\n",
       "<p>1 rows × 138 columns</p>\n",
       "</div>"
      ],
      "text/plain": [
       "      budget    id    imdb_id original_language                    title  \\\n",
       "49  18000000  1891  tt0080684                en  The Empire Strikes Back   \n",
       "\n",
       "    popularity release_date    revenue  runtime  vote_average  ...  \\\n",
       "49   19.470959     19800517  538400000    124.0           8.2  ...   \n",
       "\n",
       "    'terrorist', 'transporter', 'usa', 'uss 'vampire',  'venice', 'waitress',  \\\n",
       "49             0              0      0    0          0          0           0   \n",
       "\n",
       "   'washington  'witch',  'world  \n",
       "49           0         0       0  \n",
       "\n",
       "[1 rows x 138 columns]"
      ]
     },
     "execution_count": 47,
     "metadata": {},
     "output_type": "execute_result"
    }
   ],
   "source": [
    "sequels = sequels.join(sequels_keywords_dummies)\n",
    "sequels.head(1)"
   ]
  },
  {
   "cell_type": "code",
   "execution_count": 48,
   "metadata": {},
   "outputs": [],
   "source": [
    "prequels_keywords_dummies = pd.get_dummies(prequels['prequel_genres'])"
   ]
  },
  {
   "cell_type": "code",
   "execution_count": 49,
   "metadata": {},
   "outputs": [
    {
     "data": {
      "text/html": [
       "<div>\n",
       "<style scoped>\n",
       "    .dataframe tbody tr th:only-of-type {\n",
       "        vertical-align: middle;\n",
       "    }\n",
       "\n",
       "    .dataframe tbody tr th {\n",
       "        vertical-align: top;\n",
       "    }\n",
       "\n",
       "    .dataframe thead th {\n",
       "        text-align: right;\n",
       "    }\n",
       "</style>\n",
       "<table border=\"1\" class=\"dataframe\">\n",
       "  <thead>\n",
       "    <tr style=\"text-align: right;\">\n",
       "      <th></th>\n",
       "      <th>prequel_id</th>\n",
       "      <th>prequel_title</th>\n",
       "      <th>prequel_revenue</th>\n",
       "      <th>prequel_release_date</th>\n",
       "      <th>prequel_rating</th>\n",
       "      <th>prequel_popularity</th>\n",
       "      <th>prequel_vote_average</th>\n",
       "      <th>prequel_keywords</th>\n",
       "      <th>prequel_genres</th>\n",
       "      <th>'Action',</th>\n",
       "      <th>...</th>\n",
       "      <th>'Family',</th>\n",
       "      <th>'Fantasy',</th>\n",
       "      <th>'Horror'</th>\n",
       "      <th>'Horror',</th>\n",
       "      <th>'Music',</th>\n",
       "      <th>'Mystery',</th>\n",
       "      <th>'Science</th>\n",
       "      <th>'Thriller',</th>\n",
       "      <th>'War',</th>\n",
       "      <th>'Western'</th>\n",
       "    </tr>\n",
       "  </thead>\n",
       "  <tbody>\n",
       "    <tr>\n",
       "      <td>49</td>\n",
       "      <td>10.0</td>\n",
       "      <td>Star Wars</td>\n",
       "      <td>775398007.0</td>\n",
       "      <td>19770525</td>\n",
       "      <td>3.660591</td>\n",
       "      <td>42.149697</td>\n",
       "      <td>8.1</td>\n",
       "      <td>'android',</td>\n",
       "      <td>'Adventure',</td>\n",
       "      <td>0</td>\n",
       "      <td>...</td>\n",
       "      <td>0</td>\n",
       "      <td>0</td>\n",
       "      <td>0</td>\n",
       "      <td>0</td>\n",
       "      <td>0</td>\n",
       "      <td>0</td>\n",
       "      <td>0</td>\n",
       "      <td>0</td>\n",
       "      <td>0</td>\n",
       "      <td>0</td>\n",
       "    </tr>\n",
       "  </tbody>\n",
       "</table>\n",
       "<p>1 rows × 27 columns</p>\n",
       "</div>"
      ],
      "text/plain": [
       "    prequel_id prequel_title  prequel_revenue prequel_release_date  \\\n",
       "49        10.0     Star Wars      775398007.0             19770525   \n",
       "\n",
       "    prequel_rating  prequel_popularity  prequel_vote_average prequel_keywords  \\\n",
       "49        3.660591           42.149697                   8.1       'android',   \n",
       "\n",
       "   prequel_genres  'Action',  ...  'Family',  'Fantasy',  'Horror'  'Horror',  \\\n",
       "49   'Adventure',          0  ...          0           0         0          0   \n",
       "\n",
       "    'Music',  'Mystery',  'Science  'Thriller',  'War',  'Western'  \n",
       "49         0           0         0            0       0          0  \n",
       "\n",
       "[1 rows x 27 columns]"
      ]
     },
     "execution_count": 49,
     "metadata": {},
     "output_type": "execute_result"
    }
   ],
   "source": [
    "prequels = prequels.join(prequels_keywords_dummies)\n",
    "prequels.head(1)"
   ]
  },
  {
   "cell_type": "code",
   "execution_count": 50,
   "metadata": {},
   "outputs": [
    {
     "data": {
      "text/plain": [
       "'Adventure',    55\n",
       "'Action',       42\n",
       "'Science        12\n",
       "'Horror',       12\n",
       "'Comedy',       11\n",
       "'Drama',         9\n",
       "'Drama'          8\n",
       "'Comedy'         7\n",
       "'Fantasy',       6\n",
       "'Horror'         5\n",
       "'Thriller',      4\n",
       "'Crime',         3\n",
       "'Western'        2\n",
       "'Animation',     2\n",
       "'Music',         2\n",
       "'Family',        2\n",
       "'Mystery',       1\n",
       "'War',           1\n",
       "Name: prequel_genres, dtype: int64"
      ]
     },
     "execution_count": 50,
     "metadata": {},
     "output_type": "execute_result"
    }
   ],
   "source": [
    "prequels['prequel_genres'].value_counts()"
   ]
  },
  {
   "cell_type": "code",
   "execution_count": 51,
   "metadata": {},
   "outputs": [
    {
     "data": {
      "text/plain": [
       "'Action',       48\n",
       "'Adventure',    48\n",
       "'Comedy',       13\n",
       "'Horror',       12\n",
       "'Science        12\n",
       "'Drama',         9\n",
       "'Fantasy',       8\n",
       "'Drama'          8\n",
       "'Crime',         6\n",
       "'Comedy'         6\n",
       "'Animation',     3\n",
       "'Horror'         2\n",
       "'Music',         2\n",
       "'Thriller',      2\n",
       "'Western'        2\n",
       "'Romance',       1\n",
       "'Mystery',       1\n",
       "'Family',        1\n",
       "Name: genres, dtype: int64"
      ]
     },
     "execution_count": 51,
     "metadata": {},
     "output_type": "execute_result"
    }
   ],
   "source": [
    "sequels['genres'].value_counts()"
   ]
  },
  {
   "cell_type": "code",
   "execution_count": 52,
   "metadata": {},
   "outputs": [],
   "source": [
    "sequels_genres_dummies = pd.get_dummies(sequels['genres'])"
   ]
  },
  {
   "cell_type": "code",
   "execution_count": 53,
   "metadata": {},
   "outputs": [
    {
     "data": {
      "text/html": [
       "<div>\n",
       "<style scoped>\n",
       "    .dataframe tbody tr th:only-of-type {\n",
       "        vertical-align: middle;\n",
       "    }\n",
       "\n",
       "    .dataframe tbody tr th {\n",
       "        vertical-align: top;\n",
       "    }\n",
       "\n",
       "    .dataframe thead th {\n",
       "        text-align: right;\n",
       "    }\n",
       "</style>\n",
       "<table border=\"1\" class=\"dataframe\">\n",
       "  <thead>\n",
       "    <tr style=\"text-align: right;\">\n",
       "      <th></th>\n",
       "      <th>budget</th>\n",
       "      <th>id</th>\n",
       "      <th>imdb_id</th>\n",
       "      <th>original_language</th>\n",
       "      <th>title</th>\n",
       "      <th>popularity</th>\n",
       "      <th>release_date</th>\n",
       "      <th>revenue</th>\n",
       "      <th>runtime</th>\n",
       "      <th>vote_average</th>\n",
       "      <th>...</th>\n",
       "      <th>'Family',</th>\n",
       "      <th>'Fantasy',</th>\n",
       "      <th>'Horror'</th>\n",
       "      <th>'Horror',</th>\n",
       "      <th>'Music',</th>\n",
       "      <th>'Mystery',</th>\n",
       "      <th>'Romance',</th>\n",
       "      <th>'Science</th>\n",
       "      <th>'Thriller',</th>\n",
       "      <th>'Western'</th>\n",
       "    </tr>\n",
       "  </thead>\n",
       "  <tbody>\n",
       "    <tr>\n",
       "      <td>49</td>\n",
       "      <td>18000000</td>\n",
       "      <td>1891</td>\n",
       "      <td>tt0080684</td>\n",
       "      <td>en</td>\n",
       "      <td>The Empire Strikes Back</td>\n",
       "      <td>19.470959</td>\n",
       "      <td>19800517</td>\n",
       "      <td>538400000</td>\n",
       "      <td>124.0</td>\n",
       "      <td>8.2</td>\n",
       "      <td>...</td>\n",
       "      <td>0</td>\n",
       "      <td>0</td>\n",
       "      <td>0</td>\n",
       "      <td>0</td>\n",
       "      <td>0</td>\n",
       "      <td>0</td>\n",
       "      <td>0</td>\n",
       "      <td>0</td>\n",
       "      <td>0</td>\n",
       "      <td>0</td>\n",
       "    </tr>\n",
       "  </tbody>\n",
       "</table>\n",
       "<p>1 rows × 156 columns</p>\n",
       "</div>"
      ],
      "text/plain": [
       "      budget    id    imdb_id original_language                    title  \\\n",
       "49  18000000  1891  tt0080684                en  The Empire Strikes Back   \n",
       "\n",
       "    popularity release_date    revenue  runtime  vote_average  ...  'Family',  \\\n",
       "49   19.470959     19800517  538400000    124.0           8.2  ...          0   \n",
       "\n",
       "   'Fantasy', 'Horror' 'Horror', 'Music',  'Mystery', 'Romance', 'Science  \\\n",
       "49          0        0         0        0           0          0        0   \n",
       "\n",
       "    'Thriller',  'Western'  \n",
       "49            0          0  \n",
       "\n",
       "[1 rows x 156 columns]"
      ]
     },
     "execution_count": 53,
     "metadata": {},
     "output_type": "execute_result"
    }
   ],
   "source": [
    "sequels = sequels.join(sequels_genres_dummies)\n",
    "sequels.head(1)"
   ]
  },
  {
   "cell_type": "code",
   "execution_count": 54,
   "metadata": {},
   "outputs": [],
   "source": [
    "prequels_genres_dummies = pd.get_dummies(prequels['prequel_genres']) "
   ]
  },
  {
   "cell_type": "code",
   "execution_count": 56,
   "metadata": {},
   "outputs": [],
   "source": [
    "# prequels = prequels.join(prequels_genres_dummies)\n",
    "# prequels.head(1)"
   ]
  },
  {
   "cell_type": "markdown",
   "metadata": {},
   "source": [
    "> #### TODO: Merge Dataframes and combine categorical variables to ground truth"
   ]
  },
  {
   "cell_type": "markdown",
   "metadata": {},
   "source": [
    "#### OLS Summary on revenue with rated metrics"
   ]
  },
  {
   "cell_type": "code",
   "execution_count": 59,
   "metadata": {},
   "outputs": [],
   "source": [
    "import statsmodels.api as sm;"
   ]
  },
  {
   "cell_type": "code",
   "execution_count": 60,
   "metadata": {},
   "outputs": [],
   "source": [
    "get_sequels['intercept'] = 1"
   ]
  },
  {
   "cell_type": "code",
   "execution_count": 61,
   "metadata": {},
   "outputs": [
    {
     "data": {
      "text/html": [
       "<table class=\"simpletable\">\n",
       "<caption>OLS Regression Results</caption>\n",
       "<tr>\n",
       "  <th>Dep. Variable:</th>         <td>revenue</td>     <th>  R-squared:         </th> <td>   0.305</td>\n",
       "</tr>\n",
       "<tr>\n",
       "  <th>Model:</th>                   <td>OLS</td>       <th>  Adj. R-squared:    </th> <td>   0.293</td>\n",
       "</tr>\n",
       "<tr>\n",
       "  <th>Method:</th>             <td>Least Squares</td>  <th>  F-statistic:       </th> <td>   26.29</td>\n",
       "</tr>\n",
       "<tr>\n",
       "  <th>Date:</th>             <td>Thu, 19 Sep 2019</td> <th>  Prob (F-statistic):</th> <td>3.76e-14</td>\n",
       "</tr>\n",
       "<tr>\n",
       "  <th>Time:</th>                 <td>08:19:55</td>     <th>  Log-Likelihood:    </th> <td> -3803.9</td>\n",
       "</tr>\n",
       "<tr>\n",
       "  <th>No. Observations:</th>      <td>   184</td>      <th>  AIC:               </th> <td>   7616.</td>\n",
       "</tr>\n",
       "<tr>\n",
       "  <th>Df Residuals:</th>          <td>   180</td>      <th>  BIC:               </th> <td>   7629.</td>\n",
       "</tr>\n",
       "<tr>\n",
       "  <th>Df Model:</th>              <td>     3</td>      <th>                     </th>     <td> </td>   \n",
       "</tr>\n",
       "<tr>\n",
       "  <th>Covariance Type:</th>      <td>nonrobust</td>    <th>                     </th>     <td> </td>   \n",
       "</tr>\n",
       "</table>\n",
       "<table class=\"simpletable\">\n",
       "<tr>\n",
       "        <td></td>          <th>coef</th>     <th>std err</th>      <th>t</th>      <th>P>|t|</th>  <th>[0.025</th>    <th>0.975]</th>  \n",
       "</tr>\n",
       "<tr>\n",
       "  <th>intercept</th>    <td>-8.834e+07</td> <td> 1.45e+08</td> <td>   -0.609</td> <td> 0.543</td> <td>-3.75e+08</td> <td> 1.98e+08</td>\n",
       "</tr>\n",
       "<tr>\n",
       "  <th>rating</th>       <td>-2.889e+07</td> <td> 3.12e+07</td> <td>   -0.925</td> <td> 0.356</td> <td>-9.05e+07</td> <td> 3.28e+07</td>\n",
       "</tr>\n",
       "<tr>\n",
       "  <th>popularity</th>   <td> 1.314e+07</td> <td>  1.8e+06</td> <td>    7.299</td> <td> 0.000</td> <td> 9.58e+06</td> <td> 1.67e+07</td>\n",
       "</tr>\n",
       "<tr>\n",
       "  <th>vote_average</th> <td> 4.212e+07</td> <td> 2.01e+07</td> <td>    2.094</td> <td> 0.038</td> <td> 2.44e+06</td> <td> 8.18e+07</td>\n",
       "</tr>\n",
       "</table>\n",
       "<table class=\"simpletable\">\n",
       "<tr>\n",
       "  <th>Omnibus:</th>       <td>23.998</td> <th>  Durbin-Watson:     </th> <td>   1.294</td>\n",
       "</tr>\n",
       "<tr>\n",
       "  <th>Prob(Omnibus):</th> <td> 0.000</td> <th>  Jarque-Bera (JB):  </th> <td>  32.513</td>\n",
       "</tr>\n",
       "<tr>\n",
       "  <th>Skew:</th>          <td> 0.790</td> <th>  Prob(JB):          </th> <td>8.71e-08</td>\n",
       "</tr>\n",
       "<tr>\n",
       "  <th>Kurtosis:</th>      <td> 4.320</td> <th>  Cond. No.          </th> <td>    151.</td>\n",
       "</tr>\n",
       "</table><br/><br/>Warnings:<br/>[1] Standard Errors assume that the covariance matrix of the errors is correctly specified."
      ],
      "text/plain": [
       "<class 'statsmodels.iolib.summary.Summary'>\n",
       "\"\"\"\n",
       "                            OLS Regression Results                            \n",
       "==============================================================================\n",
       "Dep. Variable:                revenue   R-squared:                       0.305\n",
       "Model:                            OLS   Adj. R-squared:                  0.293\n",
       "Method:                 Least Squares   F-statistic:                     26.29\n",
       "Date:                Thu, 19 Sep 2019   Prob (F-statistic):           3.76e-14\n",
       "Time:                        08:19:55   Log-Likelihood:                -3803.9\n",
       "No. Observations:                 184   AIC:                             7616.\n",
       "Df Residuals:                     180   BIC:                             7629.\n",
       "Df Model:                           3                                         \n",
       "Covariance Type:            nonrobust                                         \n",
       "================================================================================\n",
       "                   coef    std err          t      P>|t|      [0.025      0.975]\n",
       "--------------------------------------------------------------------------------\n",
       "intercept    -8.834e+07   1.45e+08     -0.609      0.543   -3.75e+08    1.98e+08\n",
       "rating       -2.889e+07   3.12e+07     -0.925      0.356   -9.05e+07    3.28e+07\n",
       "popularity    1.314e+07    1.8e+06      7.299      0.000    9.58e+06    1.67e+07\n",
       "vote_average  4.212e+07   2.01e+07      2.094      0.038    2.44e+06    8.18e+07\n",
       "==============================================================================\n",
       "Omnibus:                       23.998   Durbin-Watson:                   1.294\n",
       "Prob(Omnibus):                  0.000   Jarque-Bera (JB):               32.513\n",
       "Skew:                           0.790   Prob(JB):                     8.71e-08\n",
       "Kurtosis:                       4.320   Cond. No.                         151.\n",
       "==============================================================================\n",
       "\n",
       "Warnings:\n",
       "[1] Standard Errors assume that the covariance matrix of the errors is correctly specified.\n",
       "\"\"\""
      ]
     },
     "execution_count": 61,
     "metadata": {},
     "output_type": "execute_result"
    }
   ],
   "source": [
    "lm = sm.OLS(get_sequels['revenue'], get_sequels[['intercept', 'rating', 'popularity', 'vote_average']])\n",
    "results = lm.fit()\n",
    "results.summary()"
   ]
  },
  {
   "cell_type": "markdown",
   "metadata": {},
   "source": [
    "> ####  TODO: OLS summary on categorical variables\n"
   ]
  },
  {
   "cell_type": "markdown",
   "metadata": {},
   "source": [
    "#### Export Dataset to CSV"
   ]
  },
  {
   "cell_type": "code",
   "execution_count": 63,
   "metadata": {},
   "outputs": [],
   "source": [
    "# categorical_vars.to_csv('categorical_vars.csv', encoding='utf-8')"
   ]
  },
  {
   "cell_type": "code",
   "execution_count": null,
   "metadata": {},
   "outputs": [],
   "source": []
  }
 ],
 "metadata": {
  "hide_input": false,
  "kernelspec": {
   "display_name": "Python 3",
   "language": "python",
   "name": "python3"
  },
  "language_info": {
   "codemirror_mode": {
    "name": "ipython",
    "version": 3
   },
   "file_extension": ".py",
   "mimetype": "text/x-python",
   "name": "python",
   "nbconvert_exporter": "python",
   "pygments_lexer": "ipython3",
   "version": "3.7.1"
  }
 },
 "nbformat": 4,
 "nbformat_minor": 2
}
